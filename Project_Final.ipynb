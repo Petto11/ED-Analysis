{
 "cells": [
  {
   "cell_type": "markdown",
   "id": "480bb77c",
   "metadata": {},
   "source": [
    "# PM project"
   ]
  },
  {
   "cell_type": "code",
   "execution_count": 6,
   "id": "223f8a0d",
   "metadata": {},
   "outputs": [],
   "source": [
    "import pm4py\n",
    "from collections import Counter\n",
    "import operator\n",
    "import numpy as np\n",
    "import matplotlib.pyplot as plt\n",
    "from collections import defaultdict\n",
    "import pandas as pd\n",
    "import warnings\n",
    "import seaborn as sns\n",
    "from fitter import Fitter, get_common_distributions "
   ]
  },
  {
   "cell_type": "code",
   "execution_count": 7,
   "id": "4634eb71",
   "metadata": {},
   "outputs": [],
   "source": [
    "warnings.filterwarnings('ignore')"
   ]
  },
  {
   "cell_type": "code",
   "execution_count": 8,
   "id": "e31bd239",
   "metadata": {
    "scrolled": true
   },
   "outputs": [
    {
     "data": {
      "application/vnd.jupyter.widget-view+json": {
       "model_id": "aeae2179b94d46f0b307bcd10e135b8a",
       "version_major": 2,
       "version_minor": 0
      },
      "text/plain": [
       "parsing log, completed traces ::   0%|          | 0/11468 [00:00<?, ?it/s]"
      ]
     },
     "metadata": {},
     "output_type": "display_data"
    }
   ],
   "source": [
    "from pm4py.objects.log.importer.xes import importer as xes_importer\n",
    "log = xes_importer.apply(\"/Users/pietrovolpato/Desktop/UNIPD/PROCESS MINING/Project/ED_Log.xes\")"
   ]
  },
  {
   "cell_type": "code",
   "execution_count": 9,
   "id": "d46a054c",
   "metadata": {},
   "outputs": [
    {
     "data": {
      "text/plain": [
       "11468"
      ]
     },
     "execution_count": 9,
     "metadata": {},
     "output_type": "execute_result"
    }
   ],
   "source": [
    "len(log)"
   ]
  },
  {
   "cell_type": "code",
   "execution_count": 10,
   "id": "87904ee5",
   "metadata": {},
   "outputs": [
    {
     "name": "stdout",
     "output_type": "stream",
     "text": [
      "{'AUTONOMOUSLY TRIAGE': 8079, 'AMBULANCE TRIAGE': 3378, 'VISIT': 3, 'EMERGENCY SERVICE': 8}\n"
     ]
    }
   ],
   "source": [
    "start_act = pm4py.get_start_activities(log)\n",
    "print(start_act)"
   ]
  },
  {
   "cell_type": "code",
   "execution_count": 11,
   "id": "8b5471e8",
   "metadata": {},
   "outputs": [
    {
     "data": {
      "text/plain": [
       "11457"
      ]
     },
     "execution_count": 11,
     "metadata": {},
     "output_type": "execute_result"
    }
   ],
   "source": [
    "filtered_log = pm4py.filter_start_activities(log, ['AUTONOMOUSLY TRIAGE', 'AMBULANCE TRIAGE']) \n",
    "len(filtered_log)"
   ]
  },
  {
   "cell_type": "code",
   "execution_count": 12,
   "id": "b19ce3f3",
   "metadata": {},
   "outputs": [
    {
     "data": {
      "text/plain": [
       "11457"
      ]
     },
     "execution_count": 12,
     "metadata": {},
     "output_type": "execute_result"
    }
   ],
   "source": [
    "dataframe = pm4py.convert_to_dataframe(filtered_log)\n",
    "Columns = [\"Name\", \"Triage_columns\",\"Start_Timestamp\",\"End_Timestamp\",\"Resource\",\"Case\"]\n",
    "dataframe.columns = Columns\n",
    "len(dataframe.Case.unique())"
   ]
  },
  {
   "cell_type": "markdown",
   "id": "7e04fd38",
   "metadata": {},
   "source": [
    "# Point 2.2: Reponse times"
   ]
  },
  {
   "cell_type": "code",
   "execution_count": 13,
   "id": "98b7cbf3",
   "metadata": {},
   "outputs": [],
   "source": [
    "times = {'RED':600,  'YELLOW':1200, 'GREEN':3600, 'BLUE':5400, 'WHITE':7200}"
   ]
  },
  {
   "cell_type": "code",
   "execution_count": 14,
   "id": "83af260f",
   "metadata": {},
   "outputs": [],
   "source": [
    "def response_time(color, log, parameter):\n",
    "    long_responses = {} #Dictionary containing as keys misstreated cases, and as values time passed for treatment\n",
    "    response_times = [] #List containing the response time for each patient\n",
    "    filtered_log = pm4py.filter_event_attribute_values(log, \"triage color\", [color], level=\"case\", retain=True)\n",
    "    for trace in filtered_log:\n",
    "        start = trace[0]['time:timestamp']\n",
    "        end = trace[1]['start:timestamp']\n",
    "        delta = (end - start).total_seconds()\n",
    "        response_times.append(delta/60)\n",
    "        if delta<0:\n",
    "            print('SC')\n",
    "        if delta > parameter:\n",
    "            long_responses[trace[0]['case:concept:name']]=delta\n",
    "        mean = np.round(np.mean(response_times), decimals = 2)\n",
    "        percentage = np.round(len(long_responses)*100/len(filtered_log), decimals = 2)\n",
    "    return percentage, mean, response_times"
   ]
  },
  {
   "cell_type": "code",
   "execution_count": 15,
   "id": "f1da3b4b",
   "metadata": {},
   "outputs": [
    {
     "name": "stdout",
     "output_type": "stream",
     "text": [
      "RED     has a percentage of misstreated cases of 20.52%, with a mean response time of 6.72 minutes\n",
      "YELLOW  has a percentage of misstreated cases of 21.2%, with a mean response time of 14.53 minutes\n",
      "GREEN   has a percentage of misstreated cases of 21.4%, with a mean response time of 35.51 minutes\n",
      "BLUE    has a percentage of misstreated cases of 23.12%, with a mean response time of 55.86 minutes\n",
      "WHITE   has a percentage of misstreated cases of 18.67%, with a mean response time of 65.11 minutes\n"
     ]
    }
   ],
   "source": [
    "for color in times.keys():\n",
    "    temp = response_time(color, filtered_log, times[color])\n",
    "    print(f'{color:<7} has a percentage of misstreated cases of {temp[0]}%, with a mean response time of {temp[1]} minutes')\n",
    "    color_times = temp[2]"
   ]
  },
  {
   "cell_type": "code",
   "execution_count": 16,
   "id": "4e944659",
   "metadata": {},
   "outputs": [],
   "source": [
    "RED_times = response_time('RED', filtered_log, times[color])[-1]\n",
    "YELLOW_times = response_time('YELLOW', filtered_log, times[color])[-1]\n",
    "GREEN_times = response_time('GREEN', filtered_log, times[color])[-1]\n",
    "BLUE_times = response_time('BLUE', filtered_log, times[color])[-1]\n",
    "WHITE_times = response_time('WHITE', filtered_log, times[color])[-1]"
   ]
  },
  {
   "cell_type": "code",
   "execution_count": 65,
   "id": "a5cf255e",
   "metadata": {},
   "outputs": [
    {
     "data": {
      "text/plain": [
       "60.35"
      ]
     },
     "execution_count": 65,
     "metadata": {},
     "output_type": "execute_result"
    }
   ],
   "source": [
    "max(RED_times)"
   ]
  },
  {
   "cell_type": "code",
   "execution_count": 66,
   "id": "366fdd3f",
   "metadata": {},
   "outputs": [
    {
     "data": {
      "image/png": "[encoded data removed]",
      "text/plain": [
       "<Figure size 640x480 with 1 Axes>"
      ]
     },
     "metadata": {},
     "output_type": "display_data"
    }
   ],
   "source": [
    "color = 'RED'\n",
    "temp = response_time(color, filtered_log, times[color])\n",
    "n, bins, patches = plt.hist(RED_times, 50)\n",
    "\n",
    "for c, p in zip(bins, patches):\n",
    "    if c >= 0 and c < 9.5:\n",
    "        plt.setp(p, 'facecolor', 'orangered', edgecolor = 'black')\n",
    "        plt.axvline(10, color = 'navy')\n",
    "    else :\n",
    "        plt.setp(p, 'facecolor', 'lightcoral', edgecolor = 'black')\n",
    "plt.title('Red waiting times - Perc misstreated ='+str(temp[0])+'%')\n",
    "plt.show()"
   ]
  },
  {
   "cell_type": "code",
   "execution_count": 67,
   "id": "0bdf444d",
   "metadata": {
    "scrolled": true
   },
   "outputs": [
    {
     "data": {
      "image/png": "[encoded data removed]",
      "text/plain": [
       "<Figure size 640x480 with 1 Axes>"
      ]
     },
     "metadata": {},
     "output_type": "display_data"
    }
   ],
   "source": [
    "color = 'YELLOW'\n",
    "temp = response_time(color, filtered_log, times[color])\n",
    "n, bins, patches = plt.hist(YELLOW_times, 50)\n",
    "\n",
    "for c, p in zip(bins, patches):\n",
    "    if c >= 0 and c < 18:\n",
    "        plt.setp(p, 'facecolor', 'yellow', edgecolor = 'black')\n",
    "        plt.axvline(20, color = 'navy')\n",
    "    else :\n",
    "        plt.setp(p, 'facecolor', 'ivory', edgecolor = 'black')\n",
    "plt.title('Yellow waiting times - Perc ='+str(temp[0])+'%')\n",
    "plt.show()"
   ]
  },
  {
   "cell_type": "code",
   "execution_count": 68,
   "id": "a3f89ae1",
   "metadata": {},
   "outputs": [
    {
     "data": {
      "image/png": "[encoded data removed]",
      "text/plain": [
       "<Figure size 640x480 with 1 Axes>"
      ]
     },
     "metadata": {},
     "output_type": "display_data"
    }
   ],
   "source": [
    "color = 'GREEN'\n",
    "temp = response_time(color, filtered_log, times[color])\n",
    "n, bins, patches = plt.hist(GREEN_times, 50)\n",
    "\n",
    "for c, p in zip(bins, patches):\n",
    "    if c >= 0 and c < 60:\n",
    "        plt.setp(p, 'facecolor', 'lime', edgecolor = 'black')\n",
    "        plt.axvline(62, color = 'navy')\n",
    "    else :\n",
    "        plt.setp(p, 'facecolor', 'honeydew', edgecolor = 'black')\n",
    "plt.title('Green waiting times - Perc ='+str(temp[0])+'%')\n",
    "plt.show()"
   ]
  },
  {
   "cell_type": "code",
   "execution_count": 69,
   "id": "0ed6a413",
   "metadata": {
    "scrolled": true
   },
   "outputs": [
    {
     "data": {
      "image/png": "[encoded data removed]",
      "text/plain": [
       "<Figure size 640x480 with 1 Axes>"
      ]
     },
     "metadata": {},
     "output_type": "display_data"
    }
   ],
   "source": [
    "color = 'BLUE'\n",
    "temp = response_time(color, filtered_log, times[color])\n",
    "n, bins, patches = plt.hist(BLUE_times, 50)\n",
    "\n",
    "for c, p in zip(bins, patches):\n",
    "    if c >= 0 and c < 90:\n",
    "        plt.setp(p, 'facecolor', 'royalblue', edgecolor = 'black')\n",
    "        plt.axvline(93, color = 'navy')\n",
    "    else :\n",
    "        plt.setp(p, 'facecolor', 'lightsteelblue', edgecolor = 'black')\n",
    "plt.title('Blue waiting times - Perc ='+str(temp[0])+'%')\n",
    "plt.show()"
   ]
  },
  {
   "cell_type": "code",
   "execution_count": 70,
   "id": "1d212a3f",
   "metadata": {},
   "outputs": [
    {
     "data": {
      "image/png": "[encoded data removed]",
      "text/plain": [
       "<Figure size 640x480 with 1 Axes>"
      ]
     },
     "metadata": {},
     "output_type": "display_data"
    }
   ],
   "source": [
    "color = 'WHITE'\n",
    "temp = response_time(color, filtered_log, times[color])\n",
    "n, bins, patches = plt.hist(WHITE_times, 50)\n",
    "\n",
    "for c, p in zip(bins, patches):\n",
    "    if c >= 0 and c < 118:\n",
    "        plt.setp(p, 'facecolor', 'lightgray', edgecolor = 'black')\n",
    "        plt.axvline(120, color = 'navy')\n",
    "    else :\n",
    "        plt.setp(p, 'facecolor', 'white', edgecolor = 'black')\n",
    "plt.title('White waiting times - Perc ='+str(temp[0])+'%')\n",
    "plt.show()"
   ]
  },
  {
   "cell_type": "markdown",
   "id": "030db1d7",
   "metadata": {},
   "source": [
    "# Roles re-discovery"
   ]
  },
  {
   "cell_type": "code",
   "execution_count": 71,
   "id": "207baa32",
   "metadata": {},
   "outputs": [
    {
     "data": {
      "text/plain": [
       "[Activities: ['AMBULANCE TRIAGE'] Originators importance {'ambulance': 3378},\n",
       " Activities: ['ANGIO REPORT'] Originators importance {'R104': 6, 'R73': 3, 'R85': 4, 'R75': 2, 'R97': 4, 'R110': 5, 'R103': 5, 'R99': 3, 'R107': 6, 'R78': 5, 'R96': 3, 'R77': 8, 'R87': 5, 'R91': 3, 'R100': 5, 'R84': 4, 'R83': 6, 'R98': 3, 'R95': 3, 'R92': 2, 'R86': 5, 'R105': 2, 'R80': 2, 'R82': 2, 'R88': 6, 'R79': 2, 'R81': 5, 'R72': 1, 'R101': 6, 'R74': 3, 'R94': 2, 'R76': 1, 'R90': 1, 'R109': 2, 'R93': 2, 'R89': 2},\n",
       " Activities: ['ANGIO', 'TC', 'X-RAY'] Originators importance {'R60': 232, 'R70': 244, 'R53': 242, 'R63': 277, 'R54': 238, 'R56': 216, 'R61': 236, 'R50': 237, 'R51': 246, 'R65': 221, 'R55': 248, 'R64': 226, 'R69': 230, 'R46': 218, 'R66': 201, 'R49': 200, 'R47': 235, 'R62': 230, 'R58': 222, 'R71': 203, 'R52': 257, 'R67': 241, 'R59': 197, 'R45': 216, 'R48': 235, 'R57': 200, 'R68': 235},\n",
       " Activities: ['AUTONOMOUSLY TRIAGE'] Originators importance {'autonomous': 8079},\n",
       " Activities: ['BLOOD SAMPLING', 'EMERGENCY SERVICE'] Originators importance {'R20': 265, 'R17': 291, 'R28': 291, 'R21': 294, 'R31': 272, 'R40': 306, 'R42': 293, 'R37': 279, 'R16': 299, 'R19': 318, 'R24': 274, 'R25': 288, 'R23': 306, 'R43': 274, 'R36': 234, 'R38': 302, 'R33': 285, 'R15': 291, 'R34': 259, 'R35': 300, 'R39': 304, 'R41': 254, 'R29': 277, 'R26': 287, 'R44': 296, 'R18': 303, 'R30': 283, 'R22': 280, 'R27': 243, 'R32': 287},\n",
       " Activities: ['CONSULTATION'] Originators importance {'R238': 218, 'R231': 193, 'R234': 209, 'R232': 223, 'R226': 203, 'R213': 233, 'R220': 223, 'R229': 213, 'R209': 225, 'R236': 199, 'R228': 243, 'R211': 219, 'R230': 217, 'R224': 231, 'R210': 218, 'R212': 206, 'R219': 194, 'R237': 225, 'R208': 228, 'R223': 206, 'R214': 205, 'R227': 202, 'R233': 179, 'R221': 191, 'R225': 224, 'R235': 210, 'R215': 202, 'R239': 210, 'R207': 204, 'R217': 202, 'R218': 215, 'R216': 218, 'R222': 221, 'R240': 213},\n",
       " Activities: ['DISCHARGE', 'VISIT'] Originators importance {'R11': 1550, 'R2': 1539, 'R5': 1607, 'R12': 1466, 'R1': 1484, 'R6': 1522, 'R9': 1415, 'R13': 1529, 'R3': 1497, 'R0': 1504, 'R7': 1665, 'R10': 1506, 'R14': 1571, 'R4': 1594, 'R8': 1465},\n",
       " Activities: ['ECHO', 'TC REPORT', 'X-RAY REPORT'] Originators importance {'R110': 196, 'R82': 182, 'R74': 196, 'R79': 183, 'R91': 185, 'R98': 190, 'R106': 182, 'R78': 196, 'R72': 199, 'R101': 180, 'R108': 153, 'R83': 177, 'R89': 205, 'R88': 212, 'R104': 209, 'R76': 205, 'R75': 202, 'R109': 183, 'R77': 190, 'R97': 184, 'R90': 194, 'R103': 195, 'R81': 185, 'R87': 186, 'R95': 202, 'R86': 162, 'R107': 202, 'R84': 197, 'R85': 181, 'R102': 216, 'R92': 213, 'R96': 179, 'R80': 168, 'R73': 172, 'R94': 153, 'R99': 211, 'R100': 172, 'R93': 170, 'R105': 194},\n",
       " Activities: ['LABORATORY'] Originators importance {'R134': 69, 'R163': 74, 'R188': 71, 'R203': 62, 'R191': 70, 'R201': 60, 'R184': 76, 'R192': 58, 'R152': 59, 'R127': 81, 'R200': 68, 'R175': 61, 'R202': 67, 'R124': 77, 'R194': 71, 'R190': 87, 'R173': 66, 'R154': 69, 'R143': 67, 'R167': 62, 'R180': 78, 'R122': 69, 'R199': 49, 'R150': 75, 'R187': 59, 'R121': 65, 'R115': 73, 'R120': 79, 'R135': 52, 'R113': 73, 'R185': 68, 'R147': 67, 'R119': 64, 'R178': 72, 'R181': 65, 'R176': 75, 'R114': 79, 'R144': 59, 'R112': 73, 'R153': 61, 'R168': 58, 'R172': 61, 'R155': 72, 'R206': 59, 'R118': 59, 'R128': 64, 'R162': 65, 'R138': 58, 'R195': 69, 'R141': 82, 'R145': 76, 'R197': 66, 'R142': 71, 'R130': 83, 'R165': 65, 'R139': 72, 'R186': 71, 'R117': 55, 'R193': 88, 'R133': 75, 'R179': 81, 'R123': 48, 'R116': 80, 'R204': 68, 'R151': 71, 'R157': 59, 'R198': 65, 'R189': 63, 'R129': 64, 'R196': 67, 'R164': 52, 'R182': 58, 'R161': 67, 'R159': 66, 'R140': 72, 'R148': 71, 'R170': 67, 'R131': 62, 'R149': 70, 'R183': 60, 'R132': 72, 'R126': 59, 'R158': 71, 'R169': 66, 'R171': 78, 'R136': 64, 'R146': 66, 'R205': 64, 'R174': 66, 'R137': 64, 'R177': 80, 'R111': 70, 'R125': 67, 'R166': 66, 'R160': 66, 'R156': 70},\n",
       " Activities: ['MRI'] Originators importance {'R57': 1, 'R71': 1, 'R55': 1, 'R70': 1, 'R68': 1},\n",
       " Activities: ['MRI REPORT'] Originators importance {'R104': 1, 'R87': 1, 'R95': 1, 'R91': 1, 'R79': 1},\n",
       " Activities: ['OBSERVATION'] Originators importance {'bed11': 29, 'bed10': 37, 'bed12': 33, 'bed2': 29, 'bed5': 30, 'bed6': 31, 'bed3': 31, 'bed8': 34, 'bed1': 45, 'bed4': 29, 'bed9': 35, 'bed7': 27}]"
      ]
     },
     "execution_count": 71,
     "metadata": {},
     "output_type": "execute_result"
    }
   ],
   "source": [
    "roles = pm4py.discover_organizational_roles(filtered_log)\n",
    "roles"
   ]
  },
  {
   "cell_type": "code",
   "execution_count": 72,
   "id": "63cd37f9",
   "metadata": {
    "scrolled": true
   },
   "outputs": [
    {
     "name": "stdout",
     "output_type": "stream",
     "text": [
      "['AMBULANCE TRIAGE'] : 1\n",
      "['ANGIO REPORT'] : 36\n",
      "['ANGIO', 'TC', 'X-RAY'] : 27\n",
      "['AUTONOMOUSLY TRIAGE'] : 1\n",
      "['BLOOD SAMPLING', 'EMERGENCY SERVICE'] : 30\n",
      "['CONSULTATION'] : 34\n",
      "['DISCHARGE', 'VISIT'] : 15\n",
      "['ECHO', 'TC REPORT', 'X-RAY REPORT'] : 39\n",
      "['LABORATORY'] : 96\n",
      "['MRI'] : 5\n",
      "['MRI REPORT'] : 5\n",
      "['OBSERVATION'] : 12\n"
     ]
    }
   ],
   "source": [
    "roles = pm4py.discover_organizational_roles(filtered_log)\n",
    "for i in range (len(roles)):\n",
    "    print(roles[i].activities, ':',len(roles[i].originator_importance.values()))"
   ]
  },
  {
   "cell_type": "markdown",
   "id": "574c1d24",
   "metadata": {},
   "source": [
    "### MRI and MRI-REPORT\n",
    "\n",
    "Given the frequency scarceness of performing those actions, we can group the resources performing those activities under a different role"
   ]
  },
  {
   "cell_type": "code",
   "execution_count": 73,
   "id": "c3579129",
   "metadata": {},
   "outputs": [
    {
     "name": "stdout",
     "output_type": "stream",
     "text": [
      "['R57', 'R71', 'R55', 'R70', 'R68'] ['R104', 'R87', 'R95', 'R91', 'R79']\n"
     ]
    }
   ],
   "source": [
    "MRI = list(roles[-3].originator_importance.keys())\n",
    "MRI_REPORT = list(roles[-2].originator_importance.keys())\n",
    "print(MRI, MRI_REPORT)"
   ]
  },
  {
   "cell_type": "code",
   "execution_count": 74,
   "id": "4a3809e2",
   "metadata": {},
   "outputs": [
    {
     "name": "stdout",
     "output_type": "stream",
     "text": [
      "People performing MRI, also perform X-RAY, ANGIO, TC\n",
      "People performing MRI_REPORT, also perform X-RAY REPORT, TC REPORT, ANGIO REPORT, ECHO\n",
      "People performing ANGIO-REPORT, also perform X-RAY REPORT, TC REPORT, ECHO, MRI REPORT\n"
     ]
    }
   ],
   "source": [
    "attività_MRI = []\n",
    "attività_MRI_REPORT = []\n",
    "for trace in filtered_log:\n",
    "    for event in trace:\n",
    "        if event['org:resource'] in MRI and event['concept:name'] not in attività_MRI and event['concept:name']!='MRI':\n",
    "            attività_MRI.append( event['concept:name'])\n",
    "        if event['org:resource'] in MRI_REPORT and event['concept:name'] not in attività_MRI_REPORT and event['concept:name']!='MRI REPORT':\n",
    "            attività_MRI_REPORT.append(event['concept:name'])\n",
    "ANGIO_REPORT = list(roles[1].originator_importance.keys())\n",
    "attività_ANGIO_REPORT = []\n",
    "for trace in filtered_log:\n",
    "    for event in trace:\n",
    "        if event['org:resource'] in ANGIO_REPORT and event['concept:name'] not in attività_ANGIO_REPORT:\n",
    "            attività_ANGIO_REPORT.append(event['concept:name'])\n",
    "attività_ANGIO_REPORT.remove('ANGIO REPORT')\n",
    "print('People performing MRI, also perform {}'.format(\", \".join(attività_MRI)))\n",
    "print('People performing MRI_REPORT, also perform {}'.format(\", \".join(attività_MRI_REPORT)))\n",
    "print('People performing ANGIO-REPORT, also perform {}'.format(\", \".join(attività_ANGIO_REPORT)))"
   ]
  },
  {
   "cell_type": "markdown",
   "id": "e2cef344",
   "metadata": {},
   "source": [
    "### ANGIO-REPORT"
   ]
  },
  {
   "cell_type": "code",
   "execution_count": 22,
   "id": "64da6e20",
   "metadata": {},
   "outputs": [
    {
     "name": "stdout",
     "output_type": "stream",
     "text": [
      "['R104', 'R73', 'R85', 'R75', 'R97', 'R110', 'R103', 'R99', 'R107', 'R78', 'R96', 'R77', 'R87', 'R91', 'R100', 'R84', 'R83', 'R98', 'R95', 'R92', 'R86', 'R105', 'R80', 'R82', 'R88', 'R79', 'R81', 'R72', 'R101', 'R74', 'R94', 'R76', 'R90', 'R109', 'R93', 'R89']\n"
     ]
    }
   ],
   "source": [
    "print(ANGIO_REPORT)"
   ]
  },
  {
   "cell_type": "code",
   "execution_count": 23,
   "id": "44194d31",
   "metadata": {
    "scrolled": true
   },
   "outputs": [
    {
     "name": "stdout",
     "output_type": "stream",
     "text": [
      "People performing ANGIO-REPORT, also perform X-RAY REPORT,TC REPORT,ECHO,MRI REPORT\n"
     ]
    }
   ],
   "source": [
    "ANGIO_REPORT = list(roles[1].originator_importance.keys())\n",
    "attività_ANGIO_REPORT = []\n",
    "for trace in filtered_log:\n",
    "    for event in trace:\n",
    "        if event['org:resource'] in ANGIO_REPORT and event['concept:name'] not in attività_ANGIO_REPORT:\n",
    "            attività_ANGIO_REPORT.append(event['concept:name'])\n",
    "attività_ANGIO_REPORT.remove('ANGIO REPORT')\n",
    "print('People performing ANGIO-REPORT, also perform {}'.format(\",\".join(attività_ANGIO_REPORT)))"
   ]
  },
  {
   "cell_type": "markdown",
   "id": "9d5abf0e",
   "metadata": {},
   "source": [
    "### Merging"
   ]
  },
  {
   "cell_type": "code",
   "execution_count": 24,
   "id": "96971637",
   "metadata": {},
   "outputs": [],
   "source": [
    "TC_XRAY_ANGIO_TC = roles[2].originator_importance\n",
    "ECHO_TC_REP_XRAY_REP = roles[-5].originator_importance\n",
    "ANGIO_REPORT = roles[1].originator_importance\n",
    "MRI = roles[-3].originator_importance\n",
    "MRI_REPORT = roles[-2].originator_importance\n",
    "Radio = [TC_XRAY_ANGIO_TC, MRI]\n",
    "Report = [ECHO_TC_REP_XRAY_REP, ANGIO_REPORT, MRI_REPORT]"
   ]
  },
  {
   "cell_type": "code",
   "execution_count": 25,
   "id": "0340fa08",
   "metadata": {},
   "outputs": [],
   "source": [
    "Radio_resources = sum(\n",
    "    (Counter(dict(x)) for x in Radio),\n",
    "    Counter())"
   ]
  },
  {
   "cell_type": "code",
   "execution_count": 26,
   "id": "4618c415",
   "metadata": {},
   "outputs": [],
   "source": [
    "Report_resources = sum(\n",
    "    (Counter(dict(x)) for x in Report),\n",
    "    Counter())"
   ]
  },
  {
   "cell_type": "code",
   "execution_count": 27,
   "id": "a85c9e8f",
   "metadata": {},
   "outputs": [
    {
     "name": "stdout",
     "output_type": "stream",
     "text": [
      "27\n",
      "39\n"
     ]
    }
   ],
   "source": [
    "print(len(Radio_resources.values()))\n",
    "print(len(Report_resources.values()))"
   ]
  },
  {
   "cell_type": "code",
   "execution_count": 28,
   "id": "4f6329c6",
   "metadata": {
    "scrolled": true
   },
   "outputs": [
    {
     "name": "stdout",
     "output_type": "stream",
     "text": [
      "27\n"
     ]
    },
    {
     "data": {
      "text/plain": [
       "39"
      ]
     },
     "execution_count": 28,
     "metadata": {},
     "output_type": "execute_result"
    }
   ],
   "source": [
    "print(len(TC_XRAY_ANGIO_TC))\n",
    "len((ECHO_TC_REP_XRAY_REP))"
   ]
  },
  {
   "cell_type": "code",
   "execution_count": 29,
   "id": "ec420d71",
   "metadata": {},
   "outputs": [],
   "source": [
    "Ruoli = {'AMBULANCE TRIAGE':'Ambulance', 'ANGIO':'Radio_operator','TC':'Radio_operator','X-RAY':'Radio_operator','MRI':'Radio_operator',\n",
    "        'ANGIO REPORT':'Radio_reporter', 'ECHO':'Radio_reporter', 'TC REPORT':'Radio_reporter', 'MRI REPORT':'Radio_reporter', 'X-RAY REPORT':'Radio_reporter',\n",
    "        'AUTONOMOUSLY TRIAGE':'Auto','BLOOD SAMPLING':'Nurse','EMERGENCY SERVICE':'Nurse','VISIT':'Doctor',\n",
    "        'DISCHARGE':'Doctor','CONSULTATION':'Operator_1','OBSERVATION':'Bed','LABORATORY':'Operator_2'}"
   ]
  },
  {
   "cell_type": "code",
   "execution_count": 30,
   "id": "157df171",
   "metadata": {},
   "outputs": [],
   "source": [
    "for i in range(len(dataframe)):\n",
    "    dataframe.loc[i,'Role'] = Ruoli[dataframe.iloc[i,0]]"
   ]
  },
  {
   "cell_type": "code",
   "execution_count": 31,
   "id": "d3b163c6",
   "metadata": {
    "scrolled": true
   },
   "outputs": [
    {
     "data": {
      "text/html": [
       "<div>\n",
       "<style scoped>\n",
       "    .dataframe tbody tr th:only-of-type {\n",
       "        vertical-align: middle;\n",
       "    }\n",
       "\n",
       "    .dataframe tbody tr th {\n",
       "        vertical-align: top;\n",
       "    }\n",
       "\n",
       "    .dataframe thead th {\n",
       "        text-align: right;\n",
       "    }\n",
       "</style>\n",
       "<table border=\"1\" class=\"dataframe\">\n",
       "  <thead>\n",
       "    <tr style=\"text-align: right;\">\n",
       "      <th></th>\n",
       "      <th>Name</th>\n",
       "      <th>Triage_columns</th>\n",
       "      <th>Start_Timestamp</th>\n",
       "      <th>End_Timestamp</th>\n",
       "      <th>Resource</th>\n",
       "      <th>Case</th>\n",
       "      <th>Role</th>\n",
       "    </tr>\n",
       "  </thead>\n",
       "  <tbody>\n",
       "    <tr>\n",
       "      <th>0</th>\n",
       "      <td>AUTONOMOUSLY TRIAGE</td>\n",
       "      <td>BLUE</td>\n",
       "      <td>2017-01-01 00:17:51</td>\n",
       "      <td>2017-01-01 00:17:51</td>\n",
       "      <td>autonomous</td>\n",
       "      <td>1</td>\n",
       "      <td>Auto</td>\n",
       "    </tr>\n",
       "    <tr>\n",
       "      <th>1</th>\n",
       "      <td>VISIT</td>\n",
       "      <td>BLUE</td>\n",
       "      <td>2017-01-01 01:18:35</td>\n",
       "      <td>2017-01-01 01:26:38</td>\n",
       "      <td>R5</td>\n",
       "      <td>1</td>\n",
       "      <td>Doctor</td>\n",
       "    </tr>\n",
       "    <tr>\n",
       "      <th>2</th>\n",
       "      <td>DISCHARGE</td>\n",
       "      <td>BLUE</td>\n",
       "      <td>2017-01-01 01:27:37</td>\n",
       "      <td>2017-01-01 01:27:39</td>\n",
       "      <td>R11</td>\n",
       "      <td>1</td>\n",
       "      <td>Doctor</td>\n",
       "    </tr>\n",
       "    <tr>\n",
       "      <th>3</th>\n",
       "      <td>AUTONOMOUSLY TRIAGE</td>\n",
       "      <td>GREEN</td>\n",
       "      <td>2017-01-01 00:40:21</td>\n",
       "      <td>2017-01-01 00:40:21</td>\n",
       "      <td>autonomous</td>\n",
       "      <td>2</td>\n",
       "      <td>Auto</td>\n",
       "    </tr>\n",
       "    <tr>\n",
       "      <th>4</th>\n",
       "      <td>VISIT</td>\n",
       "      <td>GREEN</td>\n",
       "      <td>2017-01-01 00:57:04</td>\n",
       "      <td>2017-01-01 00:59:18</td>\n",
       "      <td>R11</td>\n",
       "      <td>2</td>\n",
       "      <td>Doctor</td>\n",
       "    </tr>\n",
       "  </tbody>\n",
       "</table>\n",
       "</div>"
      ],
      "text/plain": [
       "                  Name Triage_columns     Start_Timestamp       End_Timestamp  \\\n",
       "0  AUTONOMOUSLY TRIAGE           BLUE 2017-01-01 00:17:51 2017-01-01 00:17:51   \n",
       "1                VISIT           BLUE 2017-01-01 01:18:35 2017-01-01 01:26:38   \n",
       "2            DISCHARGE           BLUE 2017-01-01 01:27:37 2017-01-01 01:27:39   \n",
       "3  AUTONOMOUSLY TRIAGE          GREEN 2017-01-01 00:40:21 2017-01-01 00:40:21   \n",
       "4                VISIT          GREEN 2017-01-01 00:57:04 2017-01-01 00:59:18   \n",
       "\n",
       "     Resource Case    Role  \n",
       "0  autonomous    1    Auto  \n",
       "1          R5    1  Doctor  \n",
       "2         R11    1  Doctor  \n",
       "3  autonomous    2    Auto  \n",
       "4         R11    2  Doctor  "
      ]
     },
     "execution_count": 31,
     "metadata": {},
     "output_type": "execute_result"
    }
   ],
   "source": [
    "dataframe.head()"
   ]
  },
  {
   "cell_type": "code",
   "execution_count": 32,
   "id": "771e7324",
   "metadata": {},
   "outputs": [],
   "source": [
    "new_roles = {x:[] for x in list(set(Ruoli.values()))}\n",
    "for i in range(len(dataframe)):\n",
    "    if dataframe.iloc[i,-3] not in new_roles[dataframe.iloc[i,-1]]:\n",
    "        new_roles[dataframe.iloc[i,-1]].append(dataframe.iloc[i,-3])\n",
    "\n"
   ]
  },
  {
   "cell_type": "code",
   "execution_count": 33,
   "id": "aead8f11",
   "metadata": {},
   "outputs": [
    {
     "data": {
      "text/plain": [
       "{'Auto': 1,\n",
       " 'Radio_reporter': 39,\n",
       " 'Operator_1': 34,\n",
       " 'Bed': 12,\n",
       " 'Nurse': 30,\n",
       " 'Doctor': 15,\n",
       " 'Radio_operator': 27,\n",
       " 'Ambulance': 1,\n",
       " 'Operator_2': 96}"
      ]
     },
     "execution_count": 33,
     "metadata": {},
     "output_type": "execute_result"
    }
   ],
   "source": [
    "new_roles = {k:len(v) for k,v in new_roles.items()}\n",
    "new_roles"
   ]
  },
  {
   "cell_type": "code",
   "execution_count": 34,
   "id": "51393faa",
   "metadata": {},
   "outputs": [
    {
     "name": "stdout",
     "output_type": "stream",
     "text": [
      "['AMBULANCE TRIAGE'] 1\n",
      "['ANGIO REPORT'] 36\n",
      "['ANGIO', 'TC', 'X-RAY'] 27\n",
      "['AUTONOMOUSLY TRIAGE'] 1\n",
      "['BLOOD SAMPLING', 'EMERGENCY SERVICE'] 30\n",
      "['CONSULTATION'] 34\n",
      "['DISCHARGE', 'VISIT'] 15\n",
      "['ECHO', 'TC REPORT', 'X-RAY REPORT'] 39\n",
      "['LABORATORY'] 96\n",
      "['MRI'] 5\n",
      "['MRI REPORT'] 5\n",
      "['OBSERVATION'] 12\n"
     ]
    }
   ],
   "source": [
    "for i in range(len(roles)):\n",
    "    print(roles[i].activities, len(roles[i].originator_importance.values()))"
   ]
  },
  {
   "cell_type": "markdown",
   "id": "b6b3f5e6",
   "metadata": {},
   "source": [
    "# Distribution"
   ]
  },
  {
   "cell_type": "code",
   "execution_count": 75,
   "id": "40fe8e78",
   "metadata": {},
   "outputs": [],
   "source": [
    "values = {k:[] for k in list(dataframe.Name.unique())}\n",
    "for trace in log:\n",
    "    for event in trace:\n",
    "        start = event['start:timestamp']\n",
    "        end = event['time:timestamp']\n",
    "        delta = end - start\n",
    "        delta = np.round((delta.total_seconds())/60, decimals = 2)\n",
    "        values[event['concept:name']].append(delta)"
   ]
  },
  {
   "cell_type": "code",
   "execution_count": 76,
   "id": "bcc0538e",
   "metadata": {},
   "outputs": [
    {
     "name": "stdout",
     "output_type": "stream",
     "text": [
      "0.0\n",
      "0.0\n"
     ]
    }
   ],
   "source": [
    "print(max(values['AUTONOMOUSLY TRIAGE']))\n",
    "print(max(values['AMBULANCE TRIAGE']))"
   ]
  },
  {
   "cell_type": "code",
   "execution_count": 77,
   "id": "21426176",
   "metadata": {},
   "outputs": [],
   "source": [
    "del values['AUTONOMOUSLY TRIAGE']\n",
    "del values['AMBULANCE TRIAGE']\n",
    "activities = list(values.keys())"
   ]
  },
  {
   "cell_type": "code",
   "execution_count": 38,
   "id": "853e2461",
   "metadata": {},
   "outputs": [
    {
     "data": {
      "text/plain": [
       "['VISIT',\n",
       " 'DISCHARGE',\n",
       " 'EMERGENCY SERVICE',\n",
       " 'LABORATORY',\n",
       " 'CONSULTATION',\n",
       " 'X-RAY',\n",
       " 'X-RAY REPORT',\n",
       " 'TC',\n",
       " 'TC REPORT',\n",
       " 'BLOOD SAMPLING',\n",
       " 'ANGIO',\n",
       " 'ANGIO REPORT',\n",
       " 'OBSERVATION',\n",
       " 'ECHO',\n",
       " 'MRI',\n",
       " 'MRI REPORT']"
      ]
     },
     "execution_count": 38,
     "metadata": {},
     "output_type": "execute_result"
    }
   ],
   "source": [
    "activities"
   ]
  },
  {
   "cell_type": "markdown",
   "id": "72610eae",
   "metadata": {},
   "source": [
    "### Negative time for certain activities"
   ]
  },
  {
   "cell_type": "code",
   "execution_count": 39,
   "id": "621dd260",
   "metadata": {},
   "outputs": [
    {
     "data": {
      "text/plain": [
       "11457"
      ]
     },
     "execution_count": 39,
     "metadata": {},
     "output_type": "execute_result"
    }
   ],
   "source": [
    "len(filtered_log)"
   ]
  },
  {
   "cell_type": "code",
   "execution_count": 40,
   "id": "4e9c5c48",
   "metadata": {
    "scrolled": true
   },
   "outputs": [
    {
     "name": "stdout",
     "output_type": "stream",
     "text": [
      "{'concept:name': 'OBSERVATION', 'triage color': 'GREEN', 'start:timestamp': datetime.datetime(2017, 1, 14, 11, 51, 16), 'time:timestamp': datetime.datetime(2017, 1, 14, 10, 11, 47), 'org:resource': 'bed11', 'case:concept:name': '1352'}\n",
      "{'concept:name': 'OBSERVATION', 'triage color': 'GREEN', 'start:timestamp': datetime.datetime(2017, 2, 27, 9, 55, 54), 'time:timestamp': datetime.datetime(2017, 2, 27, 5, 50, 4), 'org:resource': 'bed7', 'case:concept:name': '6384'}\n",
      "{'concept:name': 'OBSERVATION', 'triage color': 'YELLOW', 'start:timestamp': datetime.datetime(2017, 3, 24, 0, 11, 54), 'time:timestamp': datetime.datetime(2017, 3, 23, 22, 38, 18), 'org:resource': 'bed10', 'case:concept:name': '9508'}\n",
      "There are a total of 3 activities with negative delta timestamps\n"
     ]
    }
   ],
   "source": [
    "i = 0\n",
    "for trace in filtered_log:\n",
    "    for event in trace:\n",
    "        start = event['start:timestamp']\n",
    "        end = event['time:timestamp']\n",
    "        delta = (end - start).total_seconds()\n",
    "        if delta < 0 and i<5:\n",
    "            print((event))\n",
    "        if delta < 0:\n",
    "            i+=1\n",
    "print('There are a total of {} activities with negative delta timestamps'.format(i))"
   ]
  },
  {
   "cell_type": "markdown",
   "id": "061c9795",
   "metadata": {},
   "source": [
    "### Total activities witht time eqaul to 0"
   ]
  },
  {
   "cell_type": "code",
   "execution_count": 41,
   "id": "822315fa",
   "metadata": {},
   "outputs": [
    {
     "name": "stdout",
     "output_type": "stream",
     "text": [
      "There are a total of 2220 activities with timestamps equal to 0\n"
     ]
    }
   ],
   "source": [
    "i = 0\n",
    "for trace in filtered_log:\n",
    "    for event in trace:\n",
    "        start = event['start:timestamp']\n",
    "        end = event['time:timestamp']\n",
    "        if start == end:\n",
    "            i+=1\n",
    "print('There are a total of {} activities with timestamps equal to 0'.format(i-11457))"
   ]
  },
  {
   "cell_type": "markdown",
   "id": "12f6b057",
   "metadata": {},
   "source": [
    "### Time execution"
   ]
  },
  {
   "cell_type": "code",
   "execution_count": 42,
   "id": "b89f1be4",
   "metadata": {},
   "outputs": [
    {
     "name": "stdout",
     "output_type": "stream",
     "text": [
      "{'AUTONOMOUSLY TRIAGE': 0.0, 'VISIT': 4.72, 'DISCHARGE': 1.8, 'EMERGENCY SERVICE': 5.7, 'LABORATORY': 84.21, 'CONSULTATION': 36.12, 'X-RAY': 21.54, 'X-RAY REPORT': 0.87, 'AMBULANCE TRIAGE': 0.0, 'TC': 18.51, 'TC REPORT': 5.6, 'BLOOD SAMPLING': 25.77, 'ANGIO': 71.31, 'ANGIO REPORT': 7.91, 'OBSERVATION': 480.12, 'ECHO': 17.34, 'MRI': 99.18, 'MRI REPORT': 0.8}\n"
     ]
    }
   ],
   "source": [
    "import pm4py.statistics.sojourn_time.log.get as soj_time_get\n",
    "soj_time = soj_time_get.apply(log, parameters={soj_time_get.Parameters.TIMESTAMP_KEY: \"time:timestamp\",\n",
    "                                               soj_time_get.Parameters.START_TIMESTAMP_KEY: \"start:timestamp\"})\n",
    "soj_time = {k:round(v/60,2) for k,v in soj_time.items()}\n",
    "print(soj_time)"
   ]
  },
  {
   "cell_type": "markdown",
   "id": "c81a993e",
   "metadata": {},
   "source": [
    "When calculating the time each activity takes, we don't consider activities with delta = 0"
   ]
  },
  {
   "cell_type": "code",
   "execution_count": 100,
   "id": "a6247ef2",
   "metadata": {},
   "outputs": [],
   "source": [
    "times_no_zero = {x:[] for x in list(dataframe.Name.unique())}\n",
    "for trace in filtered_log:\n",
    "    for event in trace:\n",
    "        start = event['start:timestamp']\n",
    "        end = event['time:timestamp']\n",
    "        delta = end - start\n",
    "        delta = delta.total_seconds()\n",
    "        if delta > 0:\n",
    "            times_no_zero[event['concept:name']].append(delta/60)"
   ]
  },
  {
   "cell_type": "code",
   "execution_count": 102,
   "id": "4e933121",
   "metadata": {},
   "outputs": [
    {
     "data": {
      "text/plain": [
       "641.9220487199324"
      ]
     },
     "execution_count": 102,
     "metadata": {},
     "output_type": "execute_result"
    }
   ],
   "source": [
    "np.var(times_no_zero['X-RAY'])"
   ]
  },
  {
   "cell_type": "code",
   "execution_count": 25,
   "id": "64a9144c",
   "metadata": {},
   "outputs": [
    {
     "data": {
      "text/plain": [
       "1845"
      ]
     },
     "execution_count": 25,
     "metadata": {},
     "output_type": "execute_result"
    }
   ],
   "source": [
    "counter = 0\n",
    "for trace in filtered_log:\n",
    "    for event in trace:\n",
    "        start = event['start:timestamp']\n",
    "        end = event['time:timestamp']\n",
    "        delta = end - start\n",
    "        delta = delta.total_seconds()\n",
    "        if delta <= 0 and event['concept:name']=='EMERGENCY SERVICE':\n",
    "            counter += 1\n",
    "counter"
   ]
  },
  {
   "cell_type": "code",
   "execution_count": 114,
   "id": "0c270b4f",
   "metadata": {},
   "outputs": [
    {
     "name": "stdout",
     "output_type": "stream",
     "text": [
      "{'concept:name': 'TC', 'triage color': 'YELLOW', 'start:timestamp': datetime.datetime(2017, 1, 12, 17, 35, 59), 'time:timestamp': datetime.datetime(2017, 1, 12, 17, 36), 'org:resource': 'R51', 'case:concept:name': '1187'}\n"
     ]
    },
    {
     "data": {
      "text/plain": [
       "1.0"
      ]
     },
     "execution_count": 114,
     "metadata": {},
     "output_type": "execute_result"
    }
   ],
   "source": [
    "massimo = 10000000000\n",
    "for trace in filtered_log:\n",
    "    for event in trace:\n",
    "        start = event['start:timestamp']\n",
    "        end = event['time:timestamp']\n",
    "        delta = end - start\n",
    "        delta = delta.total_seconds()\n",
    "        if delta ==1 and event['concept:name']=='TC':\n",
    "            massimo = delta\n",
    "            print(event)\n",
    "massimo"
   ]
  },
  {
   "cell_type": "code",
   "execution_count": 46,
   "id": "9da6e7be",
   "metadata": {},
   "outputs": [
    {
     "data": {
      "text/plain": [
       "datetime.timedelta(seconds=5)"
      ]
     },
     "execution_count": 46,
     "metadata": {},
     "output_type": "execute_result"
    }
   ],
   "source": [
    "end - start"
   ]
  },
  {
   "cell_type": "code",
   "execution_count": 44,
   "id": "1347679c",
   "metadata": {},
   "outputs": [
    {
     "data": {
      "text/plain": [
       "23.998611111111114"
      ]
     },
     "execution_count": 44,
     "metadata": {},
     "output_type": "execute_result"
    }
   ],
   "source": []
  },
  {
   "cell_type": "code",
   "execution_count": 26,
   "id": "2afa51b0",
   "metadata": {},
   "outputs": [],
   "source": [
    "del times_no_zero['AUTONOMOUSLY TRIAGE']\n",
    "del times_no_zero['AMBULANCE TRIAGE']\n",
    "times_no_zero_min = {k:(np.mean(v)/60).round(2) for k,v in times_no_zero.items()}"
   ]
  },
  {
   "cell_type": "code",
   "execution_count": 27,
   "id": "1e84374a",
   "metadata": {},
   "outputs": [
    {
     "ename": "NameError",
     "evalue": "name 'soj_time' is not defined",
     "output_type": "error",
     "traceback": [
      "\u001b[0;31m---------------------------------------------------------------------------\u001b[0m",
      "\u001b[0;31mNameError\u001b[0m                                 Traceback (most recent call last)",
      "Cell \u001b[0;32mIn[27], line 2\u001b[0m\n\u001b[1;32m      1\u001b[0m \u001b[38;5;28;01mfor\u001b[39;00m k \u001b[38;5;129;01min\u001b[39;00m times_no_zero\u001b[38;5;241m.\u001b[39mkeys():\n\u001b[0;32m----> 2\u001b[0m     temp \u001b[38;5;241m=\u001b[39m (\u001b[38;5;241m-\u001b[39m\u001b[43msoj_time\u001b[49m[k]\u001b[38;5;241m+\u001b[39mtimes_no_zero_min[k])\u001b[38;5;241m.\u001b[39mround(\u001b[38;5;241m2\u001b[39m)\n\u001b[1;32m      3\u001b[0m     \u001b[38;5;28;01mif\u001b[39;00m temp\u001b[38;5;241m>\u001b[39m\u001b[38;5;241m0\u001b[39m:\n\u001b[1;32m      4\u001b[0m         \u001b[38;5;28mprint\u001b[39m(\u001b[38;5;124mf\u001b[39m\u001b[38;5;124m'\u001b[39m\u001b[38;5;132;01m{\u001b[39;00mk\u001b[38;5;132;01m}\u001b[39;00m\u001b[38;5;124m has a difference of \u001b[39m\u001b[38;5;132;01m{\u001b[39;00mtemp\u001b[38;5;132;01m}\u001b[39;00m\u001b[38;5;124m minutes without zeros\u001b[39m\u001b[38;5;124m'\u001b[39m)\n",
      "\u001b[0;31mNameError\u001b[0m: name 'soj_time' is not defined"
     ]
    }
   ],
   "source": [
    "for k in times_no_zero.keys():\n",
    "    temp = (-soj_time[k]+times_no_zero_min[k]).round(2)\n",
    "    if temp>0:\n",
    "        print(f'{k} has a difference of {temp} minutes without zeros')"
   ]
  },
  {
   "cell_type": "markdown",
   "id": "df57505a",
   "metadata": {},
   "source": [
    "## Simulation variables"
   ]
  },
  {
   "cell_type": "code",
   "execution_count": 36,
   "id": "82d91a06",
   "metadata": {},
   "outputs": [
    {
     "data": {
      "text/plain": [
       "7.810708278826388"
      ]
     },
     "execution_count": 36,
     "metadata": {},
     "output_type": "execute_result"
    }
   ],
   "source": [
    "np.mean(times_no_zero['EMERGENCY SERVICE'])"
   ]
  },
  {
   "cell_type": "code",
   "execution_count": 31,
   "id": "064b2365",
   "metadata": {
    "scrolled": true
   },
   "outputs": [
    {
     "data": {
      "image/png": "[encoded data removed]",
      "text/plain": [
       "<Figure size 1500x1000 with 16 Axes>"
      ]
     },
     "metadata": {},
     "output_type": "display_data"
    }
   ],
   "source": [
    "figure, axis = plt.subplots(4, 4, figsize = (15,10))\n",
    "figure.tight_layout(h_pad=3)\n",
    "z = 0\n",
    "for i in range(4):\n",
    "    for j in range(4):\n",
    "        activity = activities[z]\n",
    "        axis[i,j].set_title(str(activity)+'  Mean = '+str(np.mean(times_no_zero[activity]).round(2)) +'min')\n",
    "        axis[i,j].hist(times_no_zero[activity], bins=50)\n",
    "        axis[i,j].axvline(np.mean(times_no_zero[activity]), c='red', label='avg')\n",
    "        z += 1"
   ]
  },
  {
   "cell_type": "code",
   "execution_count": null,
   "id": "e5d7f240",
   "metadata": {},
   "outputs": [],
   "source": [
    "times"
   ]
  },
  {
   "cell_type": "markdown",
   "id": "05309f48",
   "metadata": {},
   "source": [
    "### Angio"
   ]
  },
  {
   "cell_type": "code",
   "execution_count": 48,
   "id": "2708764b",
   "metadata": {
    "scrolled": false
   },
   "outputs": [
    {
     "name": "stderr",
     "output_type": "stream",
     "text": [
      "Fitting 4 distributions: 100%|██████████| 4/4 [00:00<00:00, 50.01it/s]"
     ]
    },
    {
     "name": "stdout",
     "output_type": "stream",
     "text": [
      "{'lognorm': {'s': 0.9204248393283003, 'loc': -5.742728574505327, 'scale': 50.11934104859945}}\n",
      "Angio mean:71.31\n",
      "Angio Variance:9392.07\n"
     ]
    },
    {
     "name": "stderr",
     "output_type": "stream",
     "text": [
      "\n"
     ]
    }
   ],
   "source": [
    "from fitter import Fitter, get_common_distributions\n",
    "temp_var = 'ANGIO'\n",
    "f = Fitter(times_no_zero['ANGIO'],\n",
    "           distributions=['lognorm',\"expon\",\n",
    "                          \"norm\",\"uniform\"])\n",
    "f.fit()\n",
    "print(f.get_best(method = 'sumsquare_error'))\n",
    "temp_2 = times_no_zero[temp_var]\n",
    "print(f'Angio mean:{np.mean(temp_2).round(2)}') \n",
    "print(f'Angio Variance:{np.var(temp_2).round(2)}')"
   ]
  },
  {
   "cell_type": "markdown",
   "id": "59ecab85",
   "metadata": {},
   "source": [
    "### Angio report"
   ]
  },
  {
   "cell_type": "code",
   "execution_count": 49,
   "id": "e63280f9",
   "metadata": {},
   "outputs": [
    {
     "name": "stderr",
     "output_type": "stream",
     "text": [
      "Fitting 4 distributions: 100%|██████████| 4/4 [00:00<00:00, 16.91it/s]\n"
     ]
    },
    {
     "name": "stdout",
     "output_type": "stream",
     "text": [
      "{'lognorm': {'s': 0.46155444072919694, 'loc': -3.154601034709139, 'scale': 9.927921705701465}}\n",
      "Angio - report mean:7.91 - Variance:32.17\n"
     ]
    },
    {
     "data": {
      "image/png": "[encoded data removed]",
      "text/plain": [
       "<Figure size 432x288 with 1 Axes>"
      ]
     },
     "metadata": {
      "needs_background": "light"
     },
     "output_type": "display_data"
    }
   ],
   "source": [
    "temp_var = 'ANGIO REPORT'\n",
    "f = Fitter(times_no_zero[temp_var],\n",
    "           distributions=['lognorm',\n",
    "                          \"expon\",\n",
    "                          \"norm\",\n",
    "                          \"uniform\"\n",
    "                         ])\n",
    "f.fit()\n",
    "f.summary()\n",
    "print(f.get_best(method = 'sumsquare_error'))\n",
    "temp_2 = times_no_zero[temp_var]\n",
    "print(f'Angio - report mean:{np.mean(temp_2).round(2)} - Variance:{np.var(temp_2).round(2)}')"
   ]
  },
  {
   "cell_type": "markdown",
   "id": "095b99f7",
   "metadata": {},
   "source": [
    "### Blood sampling"
   ]
  },
  {
   "cell_type": "code",
   "execution_count": 50,
   "id": "0dc5dcc5",
   "metadata": {},
   "outputs": [
    {
     "name": "stderr",
     "output_type": "stream",
     "text": [
      "Fitting 4 distributions: 100%|██████████| 4/4 [00:00<00:00, 18.33it/s]\n"
     ]
    },
    {
     "name": "stdout",
     "output_type": "stream",
     "text": [
      "['lognorm']\n",
      "Blood sampling mean:25.77\n",
      "Variance:973.76\n"
     ]
    },
    {
     "data": {
      "image/png": "[encoded data removed]",
      "text/plain": [
       "<Figure size 432x288 with 1 Axes>"
      ]
     },
     "metadata": {
      "needs_background": "light"
     },
     "output_type": "display_data"
    }
   ],
   "source": [
    "from fitter import Fitter, get_common_distributions\n",
    "temp_var = 'BLOOD SAMPLING'\n",
    "f = Fitter(times_no_zero[temp_var],\n",
    "           distributions=['lognorm',\n",
    "                          \"expon\",\n",
    "                          \"norm\",\n",
    "                          \"uniform\"\n",
    "                         ])\n",
    "f.fit()\n",
    "f.summary()\n",
    "print(list(f.get_best(method = 'sumsquare_error').keys()))\n",
    "temp_2 = times_no_zero[temp_var]\n",
    "print(f'Blood sampling mean:{np.mean(temp_2).round(2)}')\n",
    "print(f'Variance:{np.var(temp_2).round(2)}')"
   ]
  },
  {
   "cell_type": "markdown",
   "id": "99c7f0d9",
   "metadata": {},
   "source": [
    "### Laboratory"
   ]
  },
  {
   "cell_type": "code",
   "execution_count": 51,
   "id": "d8cf01fd",
   "metadata": {
    "scrolled": false
   },
   "outputs": [
    {
     "name": "stderr",
     "output_type": "stream",
     "text": [
      "Fitting 4 distributions: 100%|██████████| 4/4 [00:00<00:00, 16.33it/s]\n"
     ]
    },
    {
     "name": "stdout",
     "output_type": "stream",
     "text": [
      "{'norm': {'loc': 84.22285115303984, 'scale': 76.93811736181064}}\n",
      "Laboratory mean:84.22 - sd:76.94\n"
     ]
    },
    {
     "data": {
      "image/png": "[encoded data removed]",
      "text/plain": [
       "<Figure size 432x288 with 1 Axes>"
      ]
     },
     "metadata": {
      "needs_background": "light"
     },
     "output_type": "display_data"
    }
   ],
   "source": [
    "temp_var = 'LABORATORY'\n",
    "f = Fitter(times_no_zero[temp_var],\n",
    "           distributions=['lognorm',\n",
    "                          \"expon\",\n",
    "                          \"norm\",\n",
    "                          \"uniform\"\n",
    "                         ])\n",
    "f.fit()\n",
    "f.summary()\n",
    "print(f.get_best(method = 'sumsquare_error'))\n",
    "temp_2 = times_no_zero[temp_var]\n",
    "print(f'Laboratory mean:{np.mean(temp_2).round(2)} - sd:{np.std(temp_2).round(2)}')"
   ]
  },
  {
   "cell_type": "code",
   "execution_count": 52,
   "id": "e74de1c0",
   "metadata": {},
   "outputs": [
    {
     "name": "stdout",
     "output_type": "stream",
     "text": [
      "5919.473903179749\n"
     ]
    }
   ],
   "source": [
    "print(np.var(temp_2))"
   ]
  },
  {
   "cell_type": "markdown",
   "id": "7ab95fb7",
   "metadata": {},
   "source": [
    "### MRI and MRI Report"
   ]
  },
  {
   "cell_type": "code",
   "execution_count": 53,
   "id": "a6f2fb7f",
   "metadata": {},
   "outputs": [
    {
     "name": "stdout",
     "output_type": "stream",
     "text": [
      "MRI - Lower Bound: 16.33 - Upper bound: 193.52\n",
      "MRI REPORT - Lower Bound: 0.52 - Upper bound: 1.35\n"
     ]
    }
   ],
   "source": [
    "temp_var = 'MRI'\n",
    "temp_2 = times_no_zero[temp_var]\n",
    "print(f'{temp_var} - Lower Bound: {round(min(temp_2),2)} - Upper bound: {(round(max(temp_2),2))}')\n",
    "temp_var = 'MRI REPORT'\n",
    "temp_2 = times_no_zero[temp_var]\n",
    "print(f'{temp_var} - Lower Bound: {round(min(temp_2),2)} - Upper bound: {(round(max(temp_2),2))}')"
   ]
  },
  {
   "cell_type": "markdown",
   "id": "929415d4",
   "metadata": {},
   "source": [
    "### Observation"
   ]
  },
  {
   "cell_type": "code",
   "execution_count": 54,
   "id": "71a6a32b",
   "metadata": {},
   "outputs": [
    {
     "name": "stderr",
     "output_type": "stream",
     "text": [
      "Fitting 4 distributions: 100%|██████████| 4/4 [00:00<00:00, 22.08it/s]\n"
     ]
    },
    {
     "name": "stdout",
     "output_type": "stream",
     "text": [
      "{'uniform': {'loc': 0.18333333333333332, 'scale': 1041.5}}\n",
      "Observation - minimum: 0.18 - max: 1041.68\n"
     ]
    },
    {
     "data": {
      "image/png": "[encoded data removed]",
      "text/plain": [
       "<Figure size 432x288 with 1 Axes>"
      ]
     },
     "metadata": {
      "needs_background": "light"
     },
     "output_type": "display_data"
    }
   ],
   "source": [
    "temp_var = 'OBSERVATION'\n",
    "f = Fitter(times_no_zero[temp_var],\n",
    "           distributions=['lognorm',\n",
    "                          \"expon\",\n",
    "                          \"norm\",\n",
    "                          \"uniform\"\n",
    "                         ])\n",
    "f.fit()\n",
    "f.summary()\n",
    "print(f.get_best(method = 'sumsquare_error'))\n",
    "temp_2 = times_no_zero[temp_var]\n",
    "print(f'Observation - minimum: {round(min(temp_2),2)} - max: {round(max(temp_2),2)}')"
   ]
  },
  {
   "cell_type": "markdown",
   "id": "a3f2f853",
   "metadata": {},
   "source": [
    "### X-Ray"
   ]
  },
  {
   "cell_type": "code",
   "execution_count": 97,
   "id": "df542df2",
   "metadata": {
    "scrolled": false
   },
   "outputs": [
    {
     "name": "stderr",
     "output_type": "stream",
     "text": [
      "Fitting 4 distributions: 100%|████████████████████| 4/4 [00:00<00:00, 29.79it/s]\n"
     ]
    },
    {
     "name": "stdout",
     "output_type": "stream",
     "text": [
      "{'expon': {'loc': 0.016666666666666666, 'scale': 21.567132818479095}}\n",
      "Mean: 21.58\n"
     ]
    },
    {
     "data": {
      "image/png": "[encoded data removed]",
      "text/plain": [
       "<Figure size 640x480 with 1 Axes>"
      ]
     },
     "metadata": {},
     "output_type": "display_data"
    }
   ],
   "source": [
    "temp_var = 'X-RAY'\n",
    "f = Fitter(times_no_zero[temp_var],\n",
    "           distributions=['lognorm',\n",
    "                          \"expon\",\n",
    "                          \"norm\",\n",
    "                          \"uniform\"\n",
    "                         ])\n",
    "f.fit()\n",
    "f.summary()\n",
    "print(f.get_best(method = 'sumsquare_error'))\n",
    "temp_2 = times_no_zero[temp_var]\n",
    "print(f'Mean: {np.round(np.mean(temp_2), decimals=2)}')"
   ]
  },
  {
   "cell_type": "code",
   "execution_count": null,
   "id": "9aa96acc",
   "metadata": {},
   "outputs": [],
   "source": []
  },
  {
   "cell_type": "code",
   "execution_count": 95,
   "id": "ff3b13de",
   "metadata": {},
   "outputs": [
    {
     "data": {
      "text/plain": [
       "618.8785795271307"
      ]
     },
     "execution_count": 95,
     "metadata": {},
     "output_type": "execute_result"
    }
   ],
   "source": [
    "np.var(times_no_zero['X-RAY'])"
   ]
  },
  {
   "cell_type": "code",
   "execution_count": 92,
   "id": "4895cd21",
   "metadata": {},
   "outputs": [
    {
     "data": {
      "text/plain": [
       "354.85"
      ]
     },
     "execution_count": 92,
     "metadata": {},
     "output_type": "execute_result"
    }
   ],
   "source": [
    "times_no_zero['X-RAY'].pop(times_no_zero['X-RAY'].index(max(times_no_zero['X-RAY'])))"
   ]
  },
  {
   "cell_type": "code",
   "execution_count": 98,
   "id": "641da0bf",
   "metadata": {},
   "outputs": [
    {
     "data": {
      "text/plain": [
       "308.0"
      ]
     },
     "execution_count": 98,
     "metadata": {},
     "output_type": "execute_result"
    }
   ],
   "source": [
    "max(times_no_zero['X-RAY'])"
   ]
  },
  {
   "cell_type": "markdown",
   "id": "4809cfee",
   "metadata": {},
   "source": [
    "### X-Ray report"
   ]
  },
  {
   "cell_type": "code",
   "execution_count": 56,
   "id": "6f30920c",
   "metadata": {
    "scrolled": true
   },
   "outputs": [
    {
     "name": "stderr",
     "output_type": "stream",
     "text": [
      "Fitting 4 distributions: 100%|██████████| 4/4 [00:00<00:00, 42.66it/s]\n"
     ]
    },
    {
     "name": "stdout",
     "output_type": "stream",
     "text": [
      "X-Ray report mean:0.88 - Variance:4.2\n"
     ]
    },
    {
     "data": {
      "image/png": "[encoded data removed]",
      "text/plain": [
       "<Figure size 432x288 with 1 Axes>"
      ]
     },
     "metadata": {
      "needs_background": "light"
     },
     "output_type": "display_data"
    }
   ],
   "source": [
    "temp_var = 'X-RAY REPORT'\n",
    "f = Fitter(times_no_zero['ANGIO'],\n",
    "           distributions=['lognorm',\n",
    "                          \"expon\",\n",
    "                          \"norm\",\n",
    "                          \"uniform\"\n",
    "                         ])\n",
    "f.fit()\n",
    "f.summary()\n",
    "f.get_best(method = 'sumsquare_error')\n",
    "temp_2 = times_no_zero[temp_var]\n",
    "print(f'X-Ray report mean:{np.mean(temp_2).round(2)} - Variance:{np.var(temp_2).round(2)}')"
   ]
  },
  {
   "cell_type": "code",
   "execution_count": 21,
   "id": "1297fc73",
   "metadata": {
    "scrolled": true
   },
   "outputs": [
    {
     "name": "stderr",
     "output_type": "stream",
     "text": [
      "Fitting 4 distributions: 100%|████████████████████| 4/4 [00:00<00:00, 12.72it/s]\n"
     ]
    },
    {
     "data": {
      "text/plain": [
       "{'lognorm': {'s': 0.9509851510291862,\n",
       "  'loc': -35.69255252035748,\n",
       "  'scale': 480.6853112262705}}"
      ]
     },
     "execution_count": 21,
     "metadata": {},
     "output_type": "execute_result"
    },
    {
     "data": {
      "image/png": "[encoded data removed]",
      "text/plain": [
       "<Figure size 640x480 with 1 Axes>"
      ]
     },
     "metadata": {},
     "output_type": "display_data"
    }
   ],
   "source": [
    "f = Fitter(arrival_times,\n",
    "           distributions=['lognorm',\n",
    "                          \"expon\",\n",
    "                          \"norm\",\n",
    "                          \"uniform\"\n",
    "                         ])\n",
    "f.fit()\n",
    "f.summary()\n",
    "f.get_best(method = 'sumsquare_error')\n",
    "#temp_2 = times_no_zero[temp_var]\n",
    "#print(f'X-Ray report mean:{np.mean(temp_2).round(2)} - Variance:{np.var(temp_2).round(2)}')"
   ]
  },
  {
   "cell_type": "code",
   "execution_count": 22,
   "id": "c17f47b1",
   "metadata": {},
   "outputs": [
    {
     "data": {
      "text/plain": [
       "1099969.9216340673"
      ]
     },
     "execution_count": 22,
     "metadata": {},
     "output_type": "execute_result"
    }
   ],
   "source": [
    "np.var(arrival_times)"
   ]
  },
  {
   "cell_type": "code",
   "execution_count": 57,
   "id": "79254c04",
   "metadata": {},
   "outputs": [
    {
     "data": {
      "text/plain": [
       "12.280001745810056"
      ]
     },
     "execution_count": 57,
     "metadata": {},
     "output_type": "execute_result"
    }
   ],
   "source": [
    "pm4py.get_case_arrival_average(filtered_log)/60"
   ]
  },
  {
   "cell_type": "code",
   "execution_count": 18,
   "id": "fcf53bc8",
   "metadata": {},
   "outputs": [],
   "source": [
    "arrival_times = []\n",
    "for i in range (len(filtered_log)-1):\n",
    "    start = filtered_log[i][0]['start:timestamp']\n",
    "    end = filtered_log[i+1][0]['start:timestamp']\n",
    "    delta = end - start\n",
    "    delta = delta.total_seconds()\n",
    "    if delta < 0:\n",
    "        print(log[i][0])\n",
    "    arrival_times.append(delta)\n",
    "    "
   ]
  },
  {
   "cell_type": "code",
   "execution_count": 19,
   "id": "833cd942",
   "metadata": {},
   "outputs": [
    {
     "data": {
      "text/plain": [
       "1000000"
      ]
     },
     "execution_count": 19,
     "metadata": {},
     "output_type": "execute_result"
    }
   ],
   "source": [
    "massimo = 1000000\n",
    "for i in range (len(filtered_log)-1):\n",
    "    start = filtered_log[i][0]['start:timestamp']\n",
    "    end = filtered_log[i+1][-1]['time:timestamp']\n",
    "    delta = end - start\n",
    "    delta = delta.total_seconds()\n",
    "    if delta==1:\n",
    "        print(filtered_log[i])\n",
    "massimo    "
   ]
  },
  {
   "cell_type": "code",
   "execution_count": 17,
   "id": "7ec91d7d",
   "metadata": {},
   "outputs": [
    {
     "ename": "NameError",
     "evalue": "name 'arrival_times' is not defined",
     "output_type": "error",
     "traceback": [
      "\u001b[0;31m---------------------------------------------------------------------------\u001b[0m",
      "\u001b[0;31mNameError\u001b[0m                                 Traceback (most recent call last)",
      "Cell \u001b[0;32mIn[17], line 1\u001b[0m\n\u001b[0;32m----> 1\u001b[0m plt\u001b[38;5;241m.\u001b[39mhist(\u001b[43marrival_times\u001b[49m, bins \u001b[38;5;241m=\u001b[39m \u001b[38;5;241m100\u001b[39m)\n\u001b[1;32m      2\u001b[0m plt\u001b[38;5;241m.\u001b[39maxvline(np\u001b[38;5;241m.\u001b[39mmean(arrival_times), color \u001b[38;5;241m=\u001b[39m \u001b[38;5;124m'\u001b[39m\u001b[38;5;124mred\u001b[39m\u001b[38;5;124m'\u001b[39m)\n\u001b[1;32m      3\u001b[0m plt\u001b[38;5;241m.\u001b[39mtitle(\u001b[38;5;124m'\u001b[39m\u001b[38;5;124mCase arrival average - Mean:\u001b[39m\u001b[38;5;124m'\u001b[39m\u001b[38;5;241m+\u001b[39m\u001b[38;5;28mstr\u001b[39m((np\u001b[38;5;241m.\u001b[39mmean(arrival_times)\u001b[38;5;241m/\u001b[39m\u001b[38;5;241m60\u001b[39m)\u001b[38;5;241m.\u001b[39mround(\u001b[38;5;241m2\u001b[39m))\u001b[38;5;241m+\u001b[39m\u001b[38;5;124m'\u001b[39m\u001b[38;5;124m Minutes\u001b[39m\u001b[38;5;124m'\u001b[39m)\n",
      "\u001b[0;31mNameError\u001b[0m: name 'arrival_times' is not defined"
     ]
    }
   ],
   "source": [
    "plt.hist(arrival_times, bins = 100)\n",
    "plt.axvline(np.mean(arrival_times), color = 'red')\n",
    "plt.title('Case arrival average - Mean:'+str((np.mean(arrival_times)/60).round(2))+' Minutes')\n",
    "plt.show"
   ]
  },
  {
   "cell_type": "code",
   "execution_count": 154,
   "id": "25e43579",
   "metadata": {},
   "outputs": [
    {
     "name": "stdout",
     "output_type": "stream",
     "text": [
      "1099969.9216340673\n"
     ]
    }
   ],
   "source": [
    "print(np.var(arrival_times))"
   ]
  },
  {
   "cell_type": "markdown",
   "id": "99a8a2bf",
   "metadata": {},
   "source": [
    "### Arrival times divided by hour"
   ]
  },
  {
   "cell_type": "code",
   "execution_count": 60,
   "id": "eec43245",
   "metadata": {},
   "outputs": [],
   "source": [
    "import pytz\n",
    "import pandas as pd\n",
    "from collections import defaultdict\n",
    "import matplotlib.pyplot as plt\n",
    "utc = pytz.UTC\n",
    "from_23_7 = []\n",
    "from_8_22 = []\n",
    "for i in range (len(filtered_log)-1):\n",
    "    start = filtered_log[i][0]['start:timestamp']\n",
    "    end = filtered_log[i+1][0]['start:timestamp']\n",
    "    delta = end - start\n",
    "    delta = delta.total_seconds()\n",
    "    date = start.replace(tzinfo = utc)\n",
    "    time = date.time().hour\n",
    "    if time < 8 or time > 23:\n",
    "        from_23_7.append(delta)\n",
    "    else:\n",
    "        from_8_22.append(delta)\n"
   ]
  },
  {
   "cell_type": "markdown",
   "id": "999cbc25",
   "metadata": {},
   "source": [
    "## From 23 to 7"
   ]
  },
  {
   "cell_type": "code",
   "execution_count": 61,
   "id": "a541ba0a",
   "metadata": {},
   "outputs": [
    {
     "data": {
      "text/plain": [
       "<function matplotlib.pyplot.show(close=None, block=None)>"
      ]
     },
     "execution_count": 61,
     "metadata": {},
     "output_type": "execute_result"
    },
    {
     "data": {
      "image/png": "[encoded data removed]",
      "text/plain": [
       "<Figure size 432x288 with 1 Axes>"
      ]
     },
     "metadata": {
      "needs_background": "light"
     },
     "output_type": "display_data"
    }
   ],
   "source": [
    "plt.hist(from_23_7, bins = 100)\n",
    "plt.title('Mean:'+str((np.mean(from_23_7)/60).round(2)))\n",
    "plt.axvline(np.mean(from_23_7), color = 'red')\n",
    "plt.show"
   ]
  },
  {
   "cell_type": "markdown",
   "id": "83d39561",
   "metadata": {},
   "source": [
    "## From 8 to 22"
   ]
  },
  {
   "cell_type": "code",
   "execution_count": 62,
   "id": "da5b87f2",
   "metadata": {},
   "outputs": [
    {
     "data": {
      "text/plain": [
       "<function matplotlib.pyplot.show(close=None, block=None)>"
      ]
     },
     "execution_count": 62,
     "metadata": {},
     "output_type": "execute_result"
    },
    {
     "data": {
      "image/png": "[encoded data removed]",
      "text/plain": [
       "<Figure size 432x288 with 1 Axes>"
      ]
     },
     "metadata": {
      "needs_background": "light"
     },
     "output_type": "display_data"
    }
   ],
   "source": [
    "plt.hist(from_8_22, bins = 100)\n",
    "plt.title('Mean:'+str((np.mean(from_8_22)/60).round(2)))\n",
    "plt.axvline(np.mean(from_8_22), color = 'red')\n",
    "plt.show"
   ]
  },
  {
   "cell_type": "code",
   "execution_count": 63,
   "id": "3cf0567d",
   "metadata": {},
   "outputs": [
    {
     "name": "stderr",
     "output_type": "stream",
     "text": [
      "Fitting 4 distributions: 100%|██████████| 4/4 [00:00<00:00, 11.91it/s]\n"
     ]
    },
    {
     "data": {
      "text/plain": [
       "{'expon': {'loc': 0.0, 'scale': 561.1349851337958}}"
      ]
     },
     "execution_count": 63,
     "metadata": {},
     "output_type": "execute_result"
    },
    {
     "data": {
      "image/png": "[encoded data removed]",
      "text/plain": [
       "<Figure size 432x288 with 1 Axes>"
      ]
     },
     "metadata": {
      "needs_background": "light"
     },
     "output_type": "display_data"
    }
   ],
   "source": [
    "temp_var = 'X-RAY REPORT'\n",
    "f = Fitter(from_8_22,\n",
    "           distributions=['lognorm',\n",
    "                          \"expon\",\n",
    "                          \"norm\",\n",
    "                          \"uniform\"\n",
    "                         ])\n",
    "f.fit()\n",
    "f.summary()\n",
    "f.get_best(method = 'sumsquare_error')"
   ]
  },
  {
   "cell_type": "code",
   "execution_count": 64,
   "id": "45917980",
   "metadata": {},
   "outputs": [],
   "source": [
    "rework = pm4py.get_rework_cases_per_activity(filtered_log)"
   ]
  },
  {
   "cell_type": "code",
   "execution_count": 65,
   "id": "9a2a0c95",
   "metadata": {},
   "outputs": [
    {
     "data": {
      "text/plain": [
       "{'EMERGENCY SERVICE': 1365,\n",
       " 'LABORATORY': 1311,\n",
       " 'CONSULTATION': 936,\n",
       " 'X-RAY': 147,\n",
       " 'X-RAY REPORT': 171,\n",
       " 'TC': 32,\n",
       " 'TC REPORT': 33,\n",
       " 'ECHO': 10}"
      ]
     },
     "execution_count": 65,
     "metadata": {},
     "output_type": "execute_result"
    }
   ],
   "source": [
    "rework"
   ]
  },
  {
   "cell_type": "code",
   "execution_count": 66,
   "id": "7179c8a8",
   "metadata": {},
   "outputs": [],
   "source": [
    "from pm4py.statistics.rework.cases.log import get as cases_rework_get\n",
    "dictio = cases_rework_get.apply(filtered_log)"
   ]
  },
  {
   "cell_type": "code",
   "execution_count": 67,
   "id": "1f7603ce",
   "metadata": {},
   "outputs": [
    {
     "data": {
      "text/plain": [
       "{'1': {'number_activities': 3, 'rework': 0},\n",
       " '2': {'number_activities': 7, 'rework': 2},\n",
       " '3': {'number_activities': 4, 'rework': 0},\n",
       " '5': {'number_activities': 7, 'rework': 0},\n",
       " '8': {'number_activities': 7, 'rework': 0},\n",
       " '9': {'number_activities': 4, 'rework': 0},\n",
       " '11': {'number_activities': 6, 'rework': 0},\n",
       " '12': {'number_activities': 7, 'rework': 0},\n",
       " '13': {'number_activities': 6, 'rework': 1},\n",
       " '14': {'number_activities': 3, 'rework': 0},\n",
       " '15': {'number_activities': 5, 'rework': 1},\n",
       " '16': {'number_activities': 3, 'rework': 0},\n",
       " '17': {'number_activities': 3, 'rework': 0},\n",
       " '18': {'number_activities': 5, 'rework': 0},\n",
       " '20': {'number_activities': 4, 'rework': 0},\n",
       " '26': {'number_activities': 4, 'rework': 0},\n",
       " '27': {'number_activities': 9, 'rework': 2},\n",
       " '28': {'number_activities': 4, 'rework': 0},\n",
       " '29': {'number_activities': 4, 'rework': 0},\n",
       " '30': {'number_activities': 5, 'rework': 0},\n",
       " '31': {'number_activities': 6, 'rework': 0},\n",
       " '38': {'number_activities': 5, 'rework': 0},\n",
       " '39': {'number_activities': 8, 'rework': 0},\n",
       " '42': {'number_activities': 6, 'rework': 0},\n",
       " '44': {'number_activities': 6, 'rework': 0},\n",
       " '45': {'number_activities': 4, 'rework': 0},\n",
       " '46': {'number_activities': 5, 'rework': 0},\n",
       " '48': {'number_activities': 4, 'rework': 0},\n",
       " '49': {'number_activities': 4, 'rework': 0},\n",
       " '50': {'number_activities': 5, 'rework': 0},\n",
       " '51': {'number_activities': 4, 'rework': 0},\n",
       " '53': {'number_activities': 5, 'rework': 0},\n",
       " '55': {'number_activities': 8, 'rework': 0},\n",
       " '57': {'number_activities': 4, 'rework': 0},\n",
       " '58': {'number_activities': 4, 'rework': 0},\n",
       " '59': {'number_activities': 5, 'rework': 0},\n",
       " '63': {'number_activities': 4, 'rework': 0},\n",
       " '64': {'number_activities': 7, 'rework': 2},\n",
       " '65': {'number_activities': 3, 'rework': 0},\n",
       " '66': {'number_activities': 12, 'rework': 4},\n",
       " '70': {'number_activities': 6, 'rework': 0},\n",
       " '71': {'number_activities': 14, 'rework': 7},\n",
       " '72': {'number_activities': 6, 'rework': 0},\n",
       " '74': {'number_activities': 7, 'rework': 0},\n",
       " '75': {'number_activities': 6, 'rework': 0},\n",
       " '76': {'number_activities': 7, 'rework': 0},\n",
       " '77': {'number_activities': 6, 'rework': 0},\n",
       " '78': {'number_activities': 5, 'rework': 0},\n",
       " '79': {'number_activities': 4, 'rework': 0},\n",
       " '80': {'number_activities': 3, 'rework': 0},\n",
       " '81': {'number_activities': 9, 'rework': 1},\n",
       " '84': {'number_activities': 11, 'rework': 0},\n",
       " '85': {'number_activities': 6, 'rework': 0},\n",
       " '86': {'number_activities': 5, 'rework': 0},\n",
       " '87': {'number_activities': 4, 'rework': 0},\n",
       " '88': {'number_activities': 4, 'rework': 0},\n",
       " '90': {'number_activities': 6, 'rework': 0},\n",
       " '91': {'number_activities': 13, 'rework': 5},\n",
       " '92': {'number_activities': 7, 'rework': 0},\n",
       " '93': {'number_activities': 3, 'rework': 0},\n",
       " '94': {'number_activities': 9, 'rework': 1},\n",
       " '96': {'number_activities': 7, 'rework': 0},\n",
       " '98': {'number_activities': 5, 'rework': 0},\n",
       " '99': {'number_activities': 6, 'rework': 0},\n",
       " '100': {'number_activities': 5, 'rework': 0},\n",
       " '102': {'number_activities': 8, 'rework': 1},\n",
       " '103': {'number_activities': 8, 'rework': 0},\n",
       " '104': {'number_activities': 6, 'rework': 0},\n",
       " '105': {'number_activities': 3, 'rework': 0},\n",
       " '107': {'number_activities': 4, 'rework': 0},\n",
       " '108': {'number_activities': 4, 'rework': 0},\n",
       " '109': {'number_activities': 8, 'rework': 0},\n",
       " '111': {'number_activities': 4, 'rework': 0},\n",
       " '110': {'number_activities': 7, 'rework': 0},\n",
       " '112': {'number_activities': 7, 'rework': 0},\n",
       " '113': {'number_activities': 6, 'rework': 0},\n",
       " '114': {'number_activities': 3, 'rework': 0},\n",
       " '115': {'number_activities': 5, 'rework': 0},\n",
       " '116': {'number_activities': 7, 'rework': 0},\n",
       " '117': {'number_activities': 4, 'rework': 0},\n",
       " '118': {'number_activities': 8, 'rework': 0},\n",
       " '119': {'number_activities': 3, 'rework': 0},\n",
       " '120': {'number_activities': 6, 'rework': 0},\n",
       " '121': {'number_activities': 5, 'rework': 0},\n",
       " '122': {'number_activities': 3, 'rework': 0},\n",
       " '125': {'number_activities': 3, 'rework': 0},\n",
       " '127': {'number_activities': 9, 'rework': 1},\n",
       " '130': {'number_activities': 4, 'rework': 0},\n",
       " '133': {'number_activities': 4, 'rework': 0},\n",
       " '135': {'number_activities': 8, 'rework': 0},\n",
       " '137': {'number_activities': 5, 'rework': 0},\n",
       " '138': {'number_activities': 7, 'rework': 0},\n",
       " '139': {'number_activities': 8, 'rework': 1},\n",
       " '140': {'number_activities': 4, 'rework': 0},\n",
       " '141': {'number_activities': 10, 'rework': 4},\n",
       " '142': {'number_activities': 10, 'rework': 5},\n",
       " '143': {'number_activities': 5, 'rework': 0},\n",
       " '145': {'number_activities': 9, 'rework': 4},\n",
       " '146': {'number_activities': 6, 'rework': 0},\n",
       " '147': {'number_activities': 6, 'rework': 0},\n",
       " '148': {'number_activities': 17, 'rework': 9},\n",
       " '149': {'number_activities': 12, 'rework': 2},\n",
       " '150': {'number_activities': 4, 'rework': 0},\n",
       " '152': {'number_activities': 6, 'rework': 0},\n",
       " '153': {'number_activities': 6, 'rework': 0},\n",
       " '156': {'number_activities': 5, 'rework': 0},\n",
       " '157': {'number_activities': 10, 'rework': 2},\n",
       " '158': {'number_activities': 15, 'rework': 8},\n",
       " '159': {'number_activities': 12, 'rework': 2},\n",
       " '160': {'number_activities': 7, 'rework': 0},\n",
       " '161': {'number_activities': 12, 'rework': 4},\n",
       " '163': {'number_activities': 4, 'rework': 0},\n",
       " '165': {'number_activities': 7, 'rework': 0},\n",
       " '166': {'number_activities': 9, 'rework': 0},\n",
       " '168': {'number_activities': 5, 'rework': 0},\n",
       " '169': {'number_activities': 5, 'rework': 0},\n",
       " '172': {'number_activities': 5, 'rework': 0},\n",
       " '175': {'number_activities': 3, 'rework': 0},\n",
       " '176': {'number_activities': 7, 'rework': 2},\n",
       " '177': {'number_activities': 3, 'rework': 0},\n",
       " '178': {'number_activities': 7, 'rework': 0},\n",
       " '180': {'number_activities': 4, 'rework': 0},\n",
       " '182': {'number_activities': 4, 'rework': 0},\n",
       " '183': {'number_activities': 4, 'rework': 0},\n",
       " '184': {'number_activities': 8, 'rework': 1},\n",
       " '185': {'number_activities': 4, 'rework': 0},\n",
       " '187': {'number_activities': 6, 'rework': 0},\n",
       " '188': {'number_activities': 5, 'rework': 1},\n",
       " '191': {'number_activities': 8, 'rework': 1},\n",
       " '192': {'number_activities': 7, 'rework': 1},\n",
       " '193': {'number_activities': 6, 'rework': 0},\n",
       " '194': {'number_activities': 14, 'rework': 5},\n",
       " '196': {'number_activities': 6, 'rework': 0},\n",
       " '198': {'number_activities': 5, 'rework': 1},\n",
       " '199': {'number_activities': 5, 'rework': 1},\n",
       " '200': {'number_activities': 4, 'rework': 0},\n",
       " '201': {'number_activities': 3, 'rework': 0},\n",
       " '203': {'number_activities': 3, 'rework': 0},\n",
       " '205': {'number_activities': 4, 'rework': 0},\n",
       " '206': {'number_activities': 4, 'rework': 0},\n",
       " '207': {'number_activities': 6, 'rework': 0},\n",
       " '208': {'number_activities': 8, 'rework': 0},\n",
       " '209': {'number_activities': 6, 'rework': 0},\n",
       " '214': {'number_activities': 4, 'rework': 0},\n",
       " '217': {'number_activities': 12, 'rework': 5},\n",
       " '220': {'number_activities': 10, 'rework': 3},\n",
       " '221': {'number_activities': 8, 'rework': 0},\n",
       " '222': {'number_activities': 6, 'rework': 0},\n",
       " '224': {'number_activities': 4, 'rework': 0},\n",
       " '226': {'number_activities': 7, 'rework': 0},\n",
       " '228': {'number_activities': 5, 'rework': 0},\n",
       " '229': {'number_activities': 9, 'rework': 0},\n",
       " '230': {'number_activities': 11, 'rework': 3},\n",
       " '232': {'number_activities': 4, 'rework': 0},\n",
       " '234': {'number_activities': 8, 'rework': 1},\n",
       " '235': {'number_activities': 6, 'rework': 0},\n",
       " '236': {'number_activities': 8, 'rework': 0},\n",
       " '238': {'number_activities': 8, 'rework': 1},\n",
       " '239': {'number_activities': 12, 'rework': 4},\n",
       " '240': {'number_activities': 7, 'rework': 1},\n",
       " '241': {'number_activities': 7, 'rework': 1},\n",
       " '243': {'number_activities': 5, 'rework': 0},\n",
       " '244': {'number_activities': 7, 'rework': 1},\n",
       " '245': {'number_activities': 5, 'rework': 0},\n",
       " '246': {'number_activities': 4, 'rework': 0},\n",
       " '247': {'number_activities': 3, 'rework': 0},\n",
       " '248': {'number_activities': 8, 'rework': 1},\n",
       " '249': {'number_activities': 5, 'rework': 0},\n",
       " '250': {'number_activities': 6, 'rework': 0},\n",
       " '252': {'number_activities': 6, 'rework': 0},\n",
       " '255': {'number_activities': 4, 'rework': 0},\n",
       " '257': {'number_activities': 5, 'rework': 0},\n",
       " '254': {'number_activities': 3, 'rework': 0},\n",
       " '259': {'number_activities': 5, 'rework': 0},\n",
       " '260': {'number_activities': 6, 'rework': 0},\n",
       " '261': {'number_activities': 4, 'rework': 0},\n",
       " '262': {'number_activities': 5, 'rework': 0},\n",
       " '263': {'number_activities': 6, 'rework': 0},\n",
       " '264': {'number_activities': 11, 'rework': 2},\n",
       " '266': {'number_activities': 4, 'rework': 0},\n",
       " '267': {'number_activities': 7, 'rework': 0},\n",
       " '268': {'number_activities': 4, 'rework': 0},\n",
       " '269': {'number_activities': 5, 'rework': 0},\n",
       " '270': {'number_activities': 12, 'rework': 3},\n",
       " '271': {'number_activities': 4, 'rework': 0},\n",
       " '272': {'number_activities': 3, 'rework': 0},\n",
       " '273': {'number_activities': 7, 'rework': 1},\n",
       " '275': {'number_activities': 7, 'rework': 0},\n",
       " '276': {'number_activities': 3, 'rework': 0},\n",
       " '274': {'number_activities': 6, 'rework': 0},\n",
       " '277': {'number_activities': 12, 'rework': 1},\n",
       " '279': {'number_activities': 3, 'rework': 0},\n",
       " '281': {'number_activities': 6, 'rework': 0},\n",
       " '283': {'number_activities': 7, 'rework': 1},\n",
       " '284': {'number_activities': 3, 'rework': 0},\n",
       " '285': {'number_activities': 3, 'rework': 0},\n",
       " '287': {'number_activities': 3, 'rework': 0},\n",
       " '288': {'number_activities': 8, 'rework': 2},\n",
       " '289': {'number_activities': 6, 'rework': 1},\n",
       " '290': {'number_activities': 7, 'rework': 0},\n",
       " '291': {'number_activities': 6, 'rework': 0},\n",
       " '292': {'number_activities': 3, 'rework': 0},\n",
       " '294': {'number_activities': 5, 'rework': 0},\n",
       " '295': {'number_activities': 4, 'rework': 0},\n",
       " '296': {'number_activities': 7, 'rework': 0},\n",
       " '298': {'number_activities': 9, 'rework': 3},\n",
       " '297': {'number_activities': 3, 'rework': 0},\n",
       " '300': {'number_activities': 15, 'rework': 6},\n",
       " '301': {'number_activities': 6, 'rework': 0},\n",
       " '303': {'number_activities': 5, 'rework': 0},\n",
       " '304': {'number_activities': 4, 'rework': 0},\n",
       " '305': {'number_activities': 7, 'rework': 0},\n",
       " '306': {'number_activities': 5, 'rework': 0},\n",
       " '309': {'number_activities': 7, 'rework': 0},\n",
       " '310': {'number_activities': 5, 'rework': 1},\n",
       " '311': {'number_activities': 4, 'rework': 0},\n",
       " '312': {'number_activities': 8, 'rework': 1},\n",
       " '313': {'number_activities': 7, 'rework': 0},\n",
       " '314': {'number_activities': 7, 'rework': 1},\n",
       " '315': {'number_activities': 4, 'rework': 0},\n",
       " '316': {'number_activities': 5, 'rework': 0},\n",
       " '317': {'number_activities': 3, 'rework': 0},\n",
       " '318': {'number_activities': 5, 'rework': 0},\n",
       " '319': {'number_activities': 3, 'rework': 0},\n",
       " '322': {'number_activities': 8, 'rework': 0},\n",
       " '323': {'number_activities': 6, 'rework': 0},\n",
       " '325': {'number_activities': 7, 'rework': 0},\n",
       " '326': {'number_activities': 12, 'rework': 4},\n",
       " '328': {'number_activities': 13, 'rework': 5},\n",
       " '329': {'number_activities': 3, 'rework': 0},\n",
       " '330': {'number_activities': 3, 'rework': 0},\n",
       " '331': {'number_activities': 6, 'rework': 0},\n",
       " '332': {'number_activities': 7, 'rework': 0},\n",
       " '333': {'number_activities': 4, 'rework': 0},\n",
       " '334': {'number_activities': 4, 'rework': 0},\n",
       " '336': {'number_activities': 5, 'rework': 0},\n",
       " '337': {'number_activities': 4, 'rework': 0},\n",
       " '338': {'number_activities': 11, 'rework': 5},\n",
       " '339': {'number_activities': 11, 'rework': 2},\n",
       " '342': {'number_activities': 4, 'rework': 0},\n",
       " '343': {'number_activities': 5, 'rework': 0},\n",
       " '344': {'number_activities': 5, 'rework': 0},\n",
       " '345': {'number_activities': 5, 'rework': 1},\n",
       " '347': {'number_activities': 7, 'rework': 0},\n",
       " '348': {'number_activities': 6, 'rework': 1},\n",
       " '349': {'number_activities': 6, 'rework': 0},\n",
       " '350': {'number_activities': 4, 'rework': 0},\n",
       " '352': {'number_activities': 5, 'rework': 0},\n",
       " '353': {'number_activities': 8, 'rework': 1},\n",
       " '354': {'number_activities': 9, 'rework': 1},\n",
       " '355': {'number_activities': 3, 'rework': 0},\n",
       " '357': {'number_activities': 3, 'rework': 0},\n",
       " '358': {'number_activities': 3, 'rework': 0},\n",
       " '359': {'number_activities': 5, 'rework': 0},\n",
       " '360': {'number_activities': 4, 'rework': 0},\n",
       " '361': {'number_activities': 7, 'rework': 0},\n",
       " '362': {'number_activities': 3, 'rework': 0},\n",
       " '363': {'number_activities': 5, 'rework': 0},\n",
       " '364': {'number_activities': 4, 'rework': 0},\n",
       " '365': {'number_activities': 4, 'rework': 0},\n",
       " '366': {'number_activities': 7, 'rework': 0},\n",
       " '367': {'number_activities': 3, 'rework': 0},\n",
       " '369': {'number_activities': 6, 'rework': 0},\n",
       " '370': {'number_activities': 5, 'rework': 0},\n",
       " '371': {'number_activities': 4, 'rework': 0},\n",
       " '372': {'number_activities': 7, 'rework': 2},\n",
       " '373': {'number_activities': 4, 'rework': 0},\n",
       " '374': {'number_activities': 7, 'rework': 1},\n",
       " '376': {'number_activities': 8, 'rework': 2},\n",
       " '375': {'number_activities': 5, 'rework': 0},\n",
       " '377': {'number_activities': 4, 'rework': 0},\n",
       " '378': {'number_activities': 8, 'rework': 0},\n",
       " '379': {'number_activities': 8, 'rework': 0},\n",
       " '380': {'number_activities': 5, 'rework': 0},\n",
       " '382': {'number_activities': 5, 'rework': 0},\n",
       " '384': {'number_activities': 7, 'rework': 1},\n",
       " '385': {'number_activities': 3, 'rework': 0},\n",
       " '386': {'number_activities': 8, 'rework': 1},\n",
       " '387': {'number_activities': 6, 'rework': 0},\n",
       " '388': {'number_activities': 8, 'rework': 0},\n",
       " '389': {'number_activities': 9, 'rework': 1},\n",
       " '390': {'number_activities': 7, 'rework': 0},\n",
       " '391': {'number_activities': 7, 'rework': 0},\n",
       " '393': {'number_activities': 6, 'rework': 0},\n",
       " '398': {'number_activities': 7, 'rework': 1},\n",
       " '399': {'number_activities': 5, 'rework': 0},\n",
       " '402': {'number_activities': 6, 'rework': 0},\n",
       " '404': {'number_activities': 4, 'rework': 0},\n",
       " '406': {'number_activities': 6, 'rework': 0},\n",
       " '410': {'number_activities': 8, 'rework': 0},\n",
       " '411': {'number_activities': 9, 'rework': 3},\n",
       " '412': {'number_activities': 11, 'rework': 3},\n",
       " '413': {'number_activities': 5, 'rework': 0},\n",
       " '414': {'number_activities': 7, 'rework': 1},\n",
       " '416': {'number_activities': 9, 'rework': 2},\n",
       " '419': {'number_activities': 8, 'rework': 0},\n",
       " '420': {'number_activities': 4, 'rework': 0},\n",
       " '423': {'number_activities': 7, 'rework': 0},\n",
       " '424': {'number_activities': 7, 'rework': 1},\n",
       " '426': {'number_activities': 5, 'rework': 0},\n",
       " '428': {'number_activities': 7, 'rework': 1},\n",
       " '429': {'number_activities': 10, 'rework': 3},\n",
       " '430': {'number_activities': 5, 'rework': 0},\n",
       " '431': {'number_activities': 7, 'rework': 1},\n",
       " '432': {'number_activities': 14, 'rework': 4},\n",
       " '434': {'number_activities': 6, 'rework': 0},\n",
       " '435': {'number_activities': 8, 'rework': 0},\n",
       " '438': {'number_activities': 8, 'rework': 1},\n",
       " '439': {'number_activities': 6, 'rework': 0},\n",
       " '442': {'number_activities': 6, 'rework': 0},\n",
       " '443': {'number_activities': 4, 'rework': 0},\n",
       " '444': {'number_activities': 5, 'rework': 0},\n",
       " '445': {'number_activities': 4, 'rework': 0},\n",
       " '446': {'number_activities': 8, 'rework': 1},\n",
       " '447': {'number_activities': 7, 'rework': 0},\n",
       " '448': {'number_activities': 3, 'rework': 0},\n",
       " '449': {'number_activities': 3, 'rework': 0},\n",
       " '450': {'number_activities': 16, 'rework': 6},\n",
       " '451': {'number_activities': 14, 'rework': 3},\n",
       " '452': {'number_activities': 4, 'rework': 0},\n",
       " '457': {'number_activities': 3, 'rework': 0},\n",
       " '459': {'number_activities': 3, 'rework': 0},\n",
       " '460': {'number_activities': 9, 'rework': 0},\n",
       " '462': {'number_activities': 3, 'rework': 0},\n",
       " '463': {'number_activities': 12, 'rework': 4},\n",
       " '465': {'number_activities': 12, 'rework': 4},\n",
       " '467': {'number_activities': 4, 'rework': 0},\n",
       " '469': {'number_activities': 10, 'rework': 3},\n",
       " '471': {'number_activities': 4, 'rework': 0},\n",
       " '472': {'number_activities': 4, 'rework': 0},\n",
       " '473': {'number_activities': 7, 'rework': 0},\n",
       " '475': {'number_activities': 9, 'rework': 1},\n",
       " '478': {'number_activities': 13, 'rework': 3},\n",
       " '479': {'number_activities': 4, 'rework': 0},\n",
       " '480': {'number_activities': 15, 'rework': 7},\n",
       " '481': {'number_activities': 7, 'rework': 1},\n",
       " '484': {'number_activities': 9, 'rework': 1},\n",
       " '485': {'number_activities': 10, 'rework': 3},\n",
       " '486': {'number_activities': 17, 'rework': 6},\n",
       " '490': {'number_activities': 7, 'rework': 1},\n",
       " '491': {'number_activities': 6, 'rework': 0},\n",
       " '493': {'number_activities': 4, 'rework': 0},\n",
       " '494': {'number_activities': 5, 'rework': 0},\n",
       " '495': {'number_activities': 15, 'rework': 8},\n",
       " '499': {'number_activities': 7, 'rework': 0},\n",
       " '501': {'number_activities': 7, 'rework': 0},\n",
       " '502': {'number_activities': 3, 'rework': 0},\n",
       " '503': {'number_activities': 6, 'rework': 0},\n",
       " '505': {'number_activities': 7, 'rework': 0},\n",
       " '507': {'number_activities': 7, 'rework': 0},\n",
       " '508': {'number_activities': 4, 'rework': 0},\n",
       " '512': {'number_activities': 5, 'rework': 0},\n",
       " '515': {'number_activities': 9, 'rework': 0},\n",
       " '516': {'number_activities': 7, 'rework': 0},\n",
       " '517': {'number_activities': 9, 'rework': 0},\n",
       " '518': {'number_activities': 12, 'rework': 3},\n",
       " '522': {'number_activities': 8, 'rework': 1},\n",
       " '526': {'number_activities': 9, 'rework': 3},\n",
       " '528': {'number_activities': 9, 'rework': 0},\n",
       " '530': {'number_activities': 5, 'rework': 0},\n",
       " '534': {'number_activities': 4, 'rework': 0},\n",
       " '535': {'number_activities': 8, 'rework': 2},\n",
       " '536': {'number_activities': 8, 'rework': 2},\n",
       " '537': {'number_activities': 5, 'rework': 0},\n",
       " '538': {'number_activities': 9, 'rework': 0},\n",
       " '541': {'number_activities': 6, 'rework': 0},\n",
       " '543': {'number_activities': 5, 'rework': 0},\n",
       " '544': {'number_activities': 3, 'rework': 0},\n",
       " '545': {'number_activities': 7, 'rework': 0},\n",
       " '546': {'number_activities': 6, 'rework': 0},\n",
       " '548': {'number_activities': 7, 'rework': 0},\n",
       " '549': {'number_activities': 6, 'rework': 0},\n",
       " '550': {'number_activities': 10, 'rework': 2},\n",
       " '551': {'number_activities': 4, 'rework': 0},\n",
       " '553': {'number_activities': 6, 'rework': 0},\n",
       " '554': {'number_activities': 10, 'rework': 0},\n",
       " '556': {'number_activities': 7, 'rework': 0},\n",
       " '557': {'number_activities': 5, 'rework': 0},\n",
       " '561': {'number_activities': 7, 'rework': 0},\n",
       " '564': {'number_activities': 4, 'rework': 0},\n",
       " '566': {'number_activities': 8, 'rework': 2},\n",
       " '567': {'number_activities': 9, 'rework': 0},\n",
       " '568': {'number_activities': 8, 'rework': 1},\n",
       " '569': {'number_activities': 4, 'rework': 0},\n",
       " '570': {'number_activities': 4, 'rework': 0},\n",
       " '572': {'number_activities': 6, 'rework': 0},\n",
       " '574': {'number_activities': 7, 'rework': 0},\n",
       " '575': {'number_activities': 3, 'rework': 0},\n",
       " '576': {'number_activities': 4, 'rework': 0},\n",
       " '578': {'number_activities': 4, 'rework': 0},\n",
       " '579': {'number_activities': 10, 'rework': 2},\n",
       " '580': {'number_activities': 4, 'rework': 0},\n",
       " '581': {'number_activities': 4, 'rework': 0},\n",
       " '582': {'number_activities': 5, 'rework': 0},\n",
       " '583': {'number_activities': 8, 'rework': 1},\n",
       " '584': {'number_activities': 6, 'rework': 0},\n",
       " '586': {'number_activities': 9, 'rework': 2},\n",
       " '587': {'number_activities': 4, 'rework': 0},\n",
       " '588': {'number_activities': 12, 'rework': 2},\n",
       " '589': {'number_activities': 9, 'rework': 1},\n",
       " '590': {'number_activities': 10, 'rework': 0},\n",
       " '591': {'number_activities': 6, 'rework': 1},\n",
       " '593': {'number_activities': 7, 'rework': 0},\n",
       " '594': {'number_activities': 3, 'rework': 0},\n",
       " '596': {'number_activities': 5, 'rework': 0},\n",
       " '597': {'number_activities': 8, 'rework': 0},\n",
       " '598': {'number_activities': 5, 'rework': 0},\n",
       " '599': {'number_activities': 4, 'rework': 0},\n",
       " '600': {'number_activities': 8, 'rework': 2},\n",
       " '601': {'number_activities': 4, 'rework': 0},\n",
       " '602': {'number_activities': 5, 'rework': 1},\n",
       " '603': {'number_activities': 4, 'rework': 0},\n",
       " '604': {'number_activities': 5, 'rework': 0},\n",
       " '605': {'number_activities': 7, 'rework': 0},\n",
       " '607': {'number_activities': 4, 'rework': 0},\n",
       " '609': {'number_activities': 4, 'rework': 0},\n",
       " '610': {'number_activities': 7, 'rework': 2},\n",
       " '611': {'number_activities': 3, 'rework': 0},\n",
       " '612': {'number_activities': 10, 'rework': 2},\n",
       " '613': {'number_activities': 5, 'rework': 0},\n",
       " '614': {'number_activities': 6, 'rework': 1},\n",
       " '615': {'number_activities': 5, 'rework': 0},\n",
       " '616': {'number_activities': 5, 'rework': 1},\n",
       " '617': {'number_activities': 4, 'rework': 0},\n",
       " '619': {'number_activities': 12, 'rework': 5},\n",
       " '620': {'number_activities': 11, 'rework': 5},\n",
       " '621': {'number_activities': 5, 'rework': 0},\n",
       " '624': {'number_activities': 7, 'rework': 1},\n",
       " '625': {'number_activities': 3, 'rework': 0},\n",
       " '627': {'number_activities': 11, 'rework': 3},\n",
       " '628': {'number_activities': 6, 'rework': 0},\n",
       " '630': {'number_activities': 8, 'rework': 2},\n",
       " '634': {'number_activities': 4, 'rework': 0},\n",
       " '635': {'number_activities': 7, 'rework': 2},\n",
       " '636': {'number_activities': 4, 'rework': 0},\n",
       " '637': {'number_activities': 9, 'rework': 2},\n",
       " '638': {'number_activities': 6, 'rework': 2},\n",
       " '639': {'number_activities': 4, 'rework': 0},\n",
       " '640': {'number_activities': 6, 'rework': 0},\n",
       " '641': {'number_activities': 8, 'rework': 1},\n",
       " '642': {'number_activities': 9, 'rework': 3},\n",
       " '644': {'number_activities': 7, 'rework': 1},\n",
       " '645': {'number_activities': 7, 'rework': 1},\n",
       " '646': {'number_activities': 6, 'rework': 0},\n",
       " '647': {'number_activities': 5, 'rework': 0},\n",
       " '648': {'number_activities': 3, 'rework': 0},\n",
       " '649': {'number_activities': 9, 'rework': 2},\n",
       " '651': {'number_activities': 7, 'rework': 1},\n",
       " '653': {'number_activities': 5, 'rework': 0},\n",
       " '654': {'number_activities': 4, 'rework': 0},\n",
       " '655': {'number_activities': 4, 'rework': 0},\n",
       " '657': {'number_activities': 4, 'rework': 0},\n",
       " '658': {'number_activities': 3, 'rework': 0},\n",
       " '660': {'number_activities': 12, 'rework': 5},\n",
       " '662': {'number_activities': 4, 'rework': 0},\n",
       " '663': {'number_activities': 11, 'rework': 5},\n",
       " '664': {'number_activities': 7, 'rework': 0},\n",
       " '665': {'number_activities': 4, 'rework': 0},\n",
       " '666': {'number_activities': 5, 'rework': 0},\n",
       " '667': {'number_activities': 5, 'rework': 1},\n",
       " '668': {'number_activities': 8, 'rework': 0},\n",
       " '669': {'number_activities': 8, 'rework': 1},\n",
       " '670': {'number_activities': 5, 'rework': 1},\n",
       " '671': {'number_activities': 9, 'rework': 1},\n",
       " '672': {'number_activities': 3, 'rework': 0},\n",
       " '676': {'number_activities': 3, 'rework': 0},\n",
       " '678': {'number_activities': 5, 'rework': 0},\n",
       " '677': {'number_activities': 8, 'rework': 1},\n",
       " '679': {'number_activities': 6, 'rework': 1},\n",
       " '681': {'number_activities': 9, 'rework': 0},\n",
       " '683': {'number_activities': 5, 'rework': 0},\n",
       " '685': {'number_activities': 3, 'rework': 0},\n",
       " '686': {'number_activities': 3, 'rework': 0},\n",
       " '687': {'number_activities': 5, 'rework': 0},\n",
       " '688': {'number_activities': 3, 'rework': 0},\n",
       " '689': {'number_activities': 6, 'rework': 0},\n",
       " '690': {'number_activities': 4, 'rework': 0},\n",
       " '692': {'number_activities': 4, 'rework': 0},\n",
       " '693': {'number_activities': 4, 'rework': 0},\n",
       " '695': {'number_activities': 4, 'rework': 0},\n",
       " '697': {'number_activities': 10, 'rework': 3},\n",
       " '699': {'number_activities': 9, 'rework': 1},\n",
       " '700': {'number_activities': 5, 'rework': 0},\n",
       " '702': {'number_activities': 4, 'rework': 0},\n",
       " '703': {'number_activities': 6, 'rework': 0},\n",
       " '705': {'number_activities': 6, 'rework': 0},\n",
       " '706': {'number_activities': 5, 'rework': 0},\n",
       " '707': {'number_activities': 4, 'rework': 0},\n",
       " '709': {'number_activities': 3, 'rework': 0},\n",
       " '708': {'number_activities': 10, 'rework': 2},\n",
       " '710': {'number_activities': 10, 'rework': 0},\n",
       " '711': {'number_activities': 4, 'rework': 0},\n",
       " '713': {'number_activities': 3, 'rework': 0},\n",
       " '715': {'number_activities': 4, 'rework': 0},\n",
       " '716': {'number_activities': 4, 'rework': 0},\n",
       " '717': {'number_activities': 10, 'rework': 1},\n",
       " '718': {'number_activities': 3, 'rework': 0},\n",
       " '719': {'number_activities': 3, 'rework': 0},\n",
       " '722': {'number_activities': 7, 'rework': 0},\n",
       " '723': {'number_activities': 9, 'rework': 0},\n",
       " '725': {'number_activities': 7, 'rework': 0},\n",
       " '727': {'number_activities': 4, 'rework': 0},\n",
       " '729': {'number_activities': 11, 'rework': 2},\n",
       " '730': {'number_activities': 5, 'rework': 0},\n",
       " '731': {'number_activities': 8, 'rework': 1},\n",
       " '733': {'number_activities': 6, 'rework': 0},\n",
       " '735': {'number_activities': 6, 'rework': 0},\n",
       " '736': {'number_activities': 7, 'rework': 0},\n",
       " '737': {'number_activities': 4, 'rework': 0},\n",
       " '738': {'number_activities': 3, 'rework': 0},\n",
       " '739': {'number_activities': 4, 'rework': 0},\n",
       " '740': {'number_activities': 4, 'rework': 0},\n",
       " '741': {'number_activities': 11, 'rework': 2},\n",
       " '742': {'number_activities': 8, 'rework': 0},\n",
       " '743': {'number_activities': 4, 'rework': 0},\n",
       " '745': {'number_activities': 3, 'rework': 0},\n",
       " '746': {'number_activities': 4, 'rework': 0},\n",
       " '747': {'number_activities': 3, 'rework': 0},\n",
       " '749': {'number_activities': 9, 'rework': 1},\n",
       " '752': {'number_activities': 6, 'rework': 1},\n",
       " '753': {'number_activities': 14, 'rework': 2},\n",
       " '754': {'number_activities': 10, 'rework': 2},\n",
       " '755': {'number_activities': 4, 'rework': 0},\n",
       " '756': {'number_activities': 11, 'rework': 3},\n",
       " '757': {'number_activities': 5, 'rework': 0},\n",
       " '760': {'number_activities': 3, 'rework': 0},\n",
       " '761': {'number_activities': 4, 'rework': 0},\n",
       " '763': {'number_activities': 4, 'rework': 0},\n",
       " '764': {'number_activities': 9, 'rework': 0},\n",
       " '765': {'number_activities': 14, 'rework': 5},\n",
       " '766': {'number_activities': 4, 'rework': 0},\n",
       " '767': {'number_activities': 6, 'rework': 0},\n",
       " '769': {'number_activities': 11, 'rework': 3},\n",
       " '770': {'number_activities': 11, 'rework': 1},\n",
       " '772': {'number_activities': 9, 'rework': 2},\n",
       " '773': {'number_activities': 4, 'rework': 0},\n",
       " '774': {'number_activities': 4, 'rework': 0},\n",
       " '775': {'number_activities': 6, 'rework': 0},\n",
       " '776': {'number_activities': 5, 'rework': 0},\n",
       " '777': {'number_activities': 9, 'rework': 1},\n",
       " '778': {'number_activities': 4, 'rework': 0},\n",
       " '779': {'number_activities': 6, 'rework': 0},\n",
       " '783': {'number_activities': 4, 'rework': 0},\n",
       " '784': {'number_activities': 5, 'rework': 0},\n",
       " '786': {'number_activities': 4, 'rework': 0},\n",
       " '788': {'number_activities': 4, 'rework': 0},\n",
       " '789': {'number_activities': 6, 'rework': 0},\n",
       " '790': {'number_activities': 4, 'rework': 0},\n",
       " '791': {'number_activities': 6, 'rework': 0},\n",
       " '795': {'number_activities': 7, 'rework': 1},\n",
       " '796': {'number_activities': 7, 'rework': 0},\n",
       " '797': {'number_activities': 7, 'rework': 0},\n",
       " '798': {'number_activities': 3, 'rework': 0},\n",
       " '800': {'number_activities': 5, 'rework': 0},\n",
       " '801': {'number_activities': 4, 'rework': 0},\n",
       " '803': {'number_activities': 6, 'rework': 0},\n",
       " '804': {'number_activities': 4, 'rework': 0},\n",
       " '805': {'number_activities': 3, 'rework': 0},\n",
       " '806': {'number_activities': 7, 'rework': 0},\n",
       " '808': {'number_activities': 5, 'rework': 0},\n",
       " '809': {'number_activities': 4, 'rework': 0},\n",
       " '812': {'number_activities': 4, 'rework': 0},\n",
       " '813': {'number_activities': 5, 'rework': 0},\n",
       " '815': {'number_activities': 6, 'rework': 1},\n",
       " '816': {'number_activities': 7, 'rework': 2},\n",
       " '817': {'number_activities': 6, 'rework': 0},\n",
       " '819': {'number_activities': 4, 'rework': 0},\n",
       " '822': {'number_activities': 6, 'rework': 0},\n",
       " '823': {'number_activities': 3, 'rework': 0},\n",
       " '824': {'number_activities': 6, 'rework': 0},\n",
       " '827': {'number_activities': 12, 'rework': 4},\n",
       " '828': {'number_activities': 8, 'rework': 1},\n",
       " '829': {'number_activities': 7, 'rework': 0},\n",
       " '830': {'number_activities': 4, 'rework': 0},\n",
       " '835': {'number_activities': 3, 'rework': 0},\n",
       " '836': {'number_activities': 8, 'rework': 0},\n",
       " '838': {'number_activities': 4, 'rework': 0},\n",
       " '842': {'number_activities': 4, 'rework': 0},\n",
       " '841': {'number_activities': 9, 'rework': 1},\n",
       " '844': {'number_activities': 4, 'rework': 0},\n",
       " '845': {'number_activities': 8, 'rework': 0},\n",
       " '847': {'number_activities': 6, 'rework': 0},\n",
       " '849': {'number_activities': 4, 'rework': 0},\n",
       " '850': {'number_activities': 16, 'rework': 5},\n",
       " '851': {'number_activities': 6, 'rework': 0},\n",
       " '852': {'number_activities': 7, 'rework': 0},\n",
       " '853': {'number_activities': 4, 'rework': 0},\n",
       " '854': {'number_activities': 4, 'rework': 0},\n",
       " '855': {'number_activities': 4, 'rework': 0},\n",
       " '856': {'number_activities': 5, 'rework': 0},\n",
       " '857': {'number_activities': 4, 'rework': 0},\n",
       " '858': {'number_activities': 11, 'rework': 1},\n",
       " '859': {'number_activities': 4, 'rework': 0},\n",
       " '861': {'number_activities': 11, 'rework': 3},\n",
       " '862': {'number_activities': 4, 'rework': 0},\n",
       " '863': {'number_activities': 5, 'rework': 0},\n",
       " '864': {'number_activities': 4, 'rework': 0},\n",
       " '865': {'number_activities': 7, 'rework': 1},\n",
       " '866': {'number_activities': 5, 'rework': 0},\n",
       " '867': {'number_activities': 11, 'rework': 3},\n",
       " '870': {'number_activities': 5, 'rework': 0},\n",
       " '871': {'number_activities': 4, 'rework': 0},\n",
       " '872': {'number_activities': 5, 'rework': 0},\n",
       " '874': {'number_activities': 3, 'rework': 0},\n",
       " '875': {'number_activities': 10, 'rework': 3},\n",
       " '876': {'number_activities': 6, 'rework': 1},\n",
       " '877': {'number_activities': 3, 'rework': 0},\n",
       " '879': {'number_activities': 5, 'rework': 0},\n",
       " '881': {'number_activities': 4, 'rework': 0},\n",
       " '882': {'number_activities': 7, 'rework': 0},\n",
       " '883': {'number_activities': 4, 'rework': 0},\n",
       " '884': {'number_activities': 9, 'rework': 0},\n",
       " '885': {'number_activities': 5, 'rework': 0},\n",
       " '886': {'number_activities': 3, 'rework': 0},\n",
       " '888': {'number_activities': 5, 'rework': 0},\n",
       " '889': {'number_activities': 5, 'rework': 0},\n",
       " '890': {'number_activities': 8, 'rework': 3},\n",
       " '896': {'number_activities': 4, 'rework': 0},\n",
       " '898': {'number_activities': 5, 'rework': 0},\n",
       " '899': {'number_activities': 5, 'rework': 0},\n",
       " '900': {'number_activities': 4, 'rework': 0},\n",
       " '906': {'number_activities': 4, 'rework': 0},\n",
       " '908': {'number_activities': 6, 'rework': 1},\n",
       " '909': {'number_activities': 6, 'rework': 0},\n",
       " '910': {'number_activities': 7, 'rework': 1},\n",
       " '911': {'number_activities': 15, 'rework': 6},\n",
       " '913': {'number_activities': 12, 'rework': 2},\n",
       " '912': {'number_activities': 4, 'rework': 0},\n",
       " '915': {'number_activities': 11, 'rework': 2},\n",
       " '918': {'number_activities': 3, 'rework': 0},\n",
       " '920': {'number_activities': 5, 'rework': 0},\n",
       " '921': {'number_activities': 5, 'rework': 0},\n",
       " '922': {'number_activities': 8, 'rework': 0},\n",
       " '924': {'number_activities': 5, 'rework': 0},\n",
       " '925': {'number_activities': 6, 'rework': 0},\n",
       " '923': {'number_activities': 5, 'rework': 0},\n",
       " '927': {'number_activities': 4, 'rework': 0},\n",
       " '928': {'number_activities': 6, 'rework': 0},\n",
       " '929': {'number_activities': 10, 'rework': 2},\n",
       " '930': {'number_activities': 6, 'rework': 0},\n",
       " '931': {'number_activities': 8, 'rework': 0},\n",
       " '932': {'number_activities': 8, 'rework': 0},\n",
       " '933': {'number_activities': 9, 'rework': 2},\n",
       " '936': {'number_activities': 3, 'rework': 0},\n",
       " '937': {'number_activities': 10, 'rework': 3},\n",
       " '938': {'number_activities': 4, 'rework': 0},\n",
       " '941': {'number_activities': 5, 'rework': 0},\n",
       " '943': {'number_activities': 4, 'rework': 0},\n",
       " '948': {'number_activities': 4, 'rework': 0},\n",
       " '947': {'number_activities': 7, 'rework': 0},\n",
       " '949': {'number_activities': 6, 'rework': 0},\n",
       " '950': {'number_activities': 6, 'rework': 0},\n",
       " '952': {'number_activities': 7, 'rework': 0},\n",
       " '955': {'number_activities': 4, 'rework': 0},\n",
       " '956': {'number_activities': 4, 'rework': 0},\n",
       " '957': {'number_activities': 10, 'rework': 2},\n",
       " '958': {'number_activities': 5, 'rework': 0},\n",
       " '959': {'number_activities': 5, 'rework': 0},\n",
       " '961': {'number_activities': 6, 'rework': 0},\n",
       " '962': {'number_activities': 8, 'rework': 1},\n",
       " '963': {'number_activities': 5, 'rework': 1},\n",
       " '964': {'number_activities': 4, 'rework': 0},\n",
       " '966': {'number_activities': 5, 'rework': 1},\n",
       " '970': {'number_activities': 5, 'rework': 0},\n",
       " '972': {'number_activities': 8, 'rework': 1},\n",
       " '973': {'number_activities': 6, 'rework': 0},\n",
       " '974': {'number_activities': 8, 'rework': 0},\n",
       " '975': {'number_activities': 4, 'rework': 0},\n",
       " '976': {'number_activities': 5, 'rework': 0},\n",
       " '977': {'number_activities': 5, 'rework': 0},\n",
       " '979': {'number_activities': 5, 'rework': 0},\n",
       " '981': {'number_activities': 6, 'rework': 0},\n",
       " '982': {'number_activities': 6, 'rework': 0},\n",
       " '983': {'number_activities': 3, 'rework': 0},\n",
       " '985': {'number_activities': 8, 'rework': 0},\n",
       " '986': {'number_activities': 5, 'rework': 0},\n",
       " '987': {'number_activities': 4, 'rework': 0},\n",
       " '988': {'number_activities': 3, 'rework': 0},\n",
       " '989': {'number_activities': 3, 'rework': 0},\n",
       " '990': {'number_activities': 3, 'rework': 0},\n",
       " '991': {'number_activities': 8, 'rework': 0},\n",
       " '993': {'number_activities': 7, 'rework': 0},\n",
       " '994': {'number_activities': 5, 'rework': 0},\n",
       " '996': {'number_activities': 4, 'rework': 0},\n",
       " '1001': {'number_activities': 4, 'rework': 0},\n",
       " '1004': {'number_activities': 4, 'rework': 0},\n",
       " '1006': {'number_activities': 6, 'rework': 0},\n",
       " '1008': {'number_activities': 16, 'rework': 5},\n",
       " '1009': {'number_activities': 3, 'rework': 0},\n",
       " '1010': {'number_activities': 6, 'rework': 0},\n",
       " '1011': {'number_activities': 4, 'rework': 0},\n",
       " '1012': {'number_activities': 9, 'rework': 2},\n",
       " '1014': {'number_activities': 8, 'rework': 2},\n",
       " '1015': {'number_activities': 3, 'rework': 0},\n",
       " '1017': {'number_activities': 4, 'rework': 0},\n",
       " '1019': {'number_activities': 4, 'rework': 0},\n",
       " '1020': {'number_activities': 9, 'rework': 0},\n",
       " '1021': {'number_activities': 4, 'rework': 0},\n",
       " '1022': {'number_activities': 9, 'rework': 1},\n",
       " '1023': {'number_activities': 4, 'rework': 0},\n",
       " '1024': {'number_activities': 8, 'rework': 0},\n",
       " '1027': {'number_activities': 7, 'rework': 0},\n",
       " '1028': {'number_activities': 9, 'rework': 0},\n",
       " '1029': {'number_activities': 6, 'rework': 1},\n",
       " '1030': {'number_activities': 3, 'rework': 0},\n",
       " '1031': {'number_activities': 4, 'rework': 0},\n",
       " '1033': {'number_activities': 3, 'rework': 0},\n",
       " '1034': {'number_activities': 6, 'rework': 0},\n",
       " '1035': {'number_activities': 14, 'rework': 5},\n",
       " '1037': {'number_activities': 4, 'rework': 0},\n",
       " '1038': {'number_activities': 5, 'rework': 0},\n",
       " '1039': {'number_activities': 10, 'rework': 0},\n",
       " '1040': {'number_activities': 4, 'rework': 0},\n",
       " '1041': {'number_activities': 3, 'rework': 0},\n",
       " '1042': {'number_activities': 5, 'rework': 0},\n",
       " '1043': {'number_activities': 6, 'rework': 1},\n",
       " '1044': {'number_activities': 8, 'rework': 1},\n",
       " '1045': {'number_activities': 9, 'rework': 2},\n",
       " '1046': {'number_activities': 7, 'rework': 0},\n",
       " '1047': {'number_activities': 4, 'rework': 0},\n",
       " '1048': {'number_activities': 4, 'rework': 0},\n",
       " '1049': {'number_activities': 9, 'rework': 2},\n",
       " '1050': {'number_activities': 12, 'rework': 3},\n",
       " '1052': {'number_activities': 8, 'rework': 1},\n",
       " '1053': {'number_activities': 8, 'rework': 0},\n",
       " '1054': {'number_activities': 6, 'rework': 0},\n",
       " '1055': {'number_activities': 4, 'rework': 0},\n",
       " '1056': {'number_activities': 5, 'rework': 0},\n",
       " '1057': {'number_activities': 8, 'rework': 0},\n",
       " '1058': {'number_activities': 7, 'rework': 0},\n",
       " '1059': {'number_activities': 6, 'rework': 0},\n",
       " '1063': {'number_activities': 8, 'rework': 0},\n",
       " '1064': {'number_activities': 9, 'rework': 0},\n",
       " '1066': {'number_activities': 5, 'rework': 0},\n",
       " '1067': {'number_activities': 6, 'rework': 0},\n",
       " '1068': {'number_activities': 4, 'rework': 0},\n",
       " '1070': {'number_activities': 4, 'rework': 0},\n",
       " '1072': {'number_activities': 4, 'rework': 0},\n",
       " '1073': {'number_activities': 5, 'rework': 0},\n",
       " '1076': {'number_activities': 4, 'rework': 0},\n",
       " '1077': {'number_activities': 6, 'rework': 0},\n",
       " '1078': {'number_activities': 6, 'rework': 0},\n",
       " '1079': {'number_activities': 7, 'rework': 0},\n",
       " '1080': {'number_activities': 9, 'rework': 1},\n",
       " '1081': {'number_activities': 11, 'rework': 4},\n",
       " '1082': {'number_activities': 9, 'rework': 0},\n",
       " '1086': {'number_activities': 6, 'rework': 0},\n",
       " '1088': {'number_activities': 5, 'rework': 0},\n",
       " '1089': {'number_activities': 5, 'rework': 0},\n",
       " '1090': {'number_activities': 4, 'rework': 0},\n",
       " '1091': {'number_activities': 4, 'rework': 0},\n",
       " '1092': {'number_activities': 4, 'rework': 0},\n",
       " '1093': {'number_activities': 6, 'rework': 0},\n",
       " '1095': {'number_activities': 4, 'rework': 0},\n",
       " '1096': {'number_activities': 6, 'rework': 0},\n",
       " '1099': {'number_activities': 5, 'rework': 0},\n",
       " '1101': {'number_activities': 3, 'rework': 0},\n",
       " '1103': {'number_activities': 6, 'rework': 0},\n",
       " '1104': {'number_activities': 5, 'rework': 0},\n",
       " '1105': {'number_activities': 5, 'rework': 0},\n",
       " '1106': {'number_activities': 6, 'rework': 0},\n",
       " '1107': {'number_activities': 5, 'rework': 0},\n",
       " '1108': {'number_activities': 6, 'rework': 0},\n",
       " '1109': {'number_activities': 5, 'rework': 0},\n",
       " '1110': {'number_activities': 12, 'rework': 1},\n",
       " '1111': {'number_activities': 5, 'rework': 0},\n",
       " '1112': {'number_activities': 7, 'rework': 0},\n",
       " '1113': {'number_activities': 4, 'rework': 0},\n",
       " '1116': {'number_activities': 3, 'rework': 0},\n",
       " '1118': {'number_activities': 4, 'rework': 0},\n",
       " '1121': {'number_activities': 5, 'rework': 0},\n",
       " '1119': {'number_activities': 4, 'rework': 0},\n",
       " '1123': {'number_activities': 12, 'rework': 3},\n",
       " '1124': {'number_activities': 6, 'rework': 1},\n",
       " '1125': {'number_activities': 6, 'rework': 0},\n",
       " '1126': {'number_activities': 3, 'rework': 0},\n",
       " '1127': {'number_activities': 4, 'rework': 0},\n",
       " '1128': {'number_activities': 11, 'rework': 4},\n",
       " '1130': {'number_activities': 4, 'rework': 0},\n",
       " '1131': {'number_activities': 8, 'rework': 1},\n",
       " '1132': {'number_activities': 5, 'rework': 0},\n",
       " '1133': {'number_activities': 4, 'rework': 0},\n",
       " '1134': {'number_activities': 5, 'rework': 0},\n",
       " '1135': {'number_activities': 9, 'rework': 0},\n",
       " '1136': {'number_activities': 4, 'rework': 0},\n",
       " '1137': {'number_activities': 10, 'rework': 3},\n",
       " '1138': {'number_activities': 4, 'rework': 0},\n",
       " '1139': {'number_activities': 4, 'rework': 0},\n",
       " '1140': {'number_activities': 9, 'rework': 1},\n",
       " '1144': {'number_activities': 6, 'rework': 0},\n",
       " '1146': {'number_activities': 9, 'rework': 0},\n",
       " '1147': {'number_activities': 4, 'rework': 0},\n",
       " '1148': {'number_activities': 6, 'rework': 0},\n",
       " '1149': {'number_activities': 3, 'rework': 0},\n",
       " '1150': {'number_activities': 10, 'rework': 3},\n",
       " '1151': {'number_activities': 11, 'rework': 4},\n",
       " '1152': {'number_activities': 8, 'rework': 0},\n",
       " '1153': {'number_activities': 6, 'rework': 0},\n",
       " '1154': {'number_activities': 4, 'rework': 0},\n",
       " '1155': {'number_activities': 3, 'rework': 0},\n",
       " '1157': {'number_activities': 6, 'rework': 0},\n",
       " '1159': {'number_activities': 6, 'rework': 0},\n",
       " '1160': {'number_activities': 3, 'rework': 0},\n",
       " '1161': {'number_activities': 3, 'rework': 0},\n",
       " '1163': {'number_activities': 4, 'rework': 0},\n",
       " '1164': {'number_activities': 4, 'rework': 0},\n",
       " '1168': {'number_activities': 7, 'rework': 0},\n",
       " '1169': {'number_activities': 4, 'rework': 0},\n",
       " '1170': {'number_activities': 4, 'rework': 0},\n",
       " '1171': {'number_activities': 7, 'rework': 0},\n",
       " '1172': {'number_activities': 3, 'rework': 0},\n",
       " '1173': {'number_activities': 6, 'rework': 0},\n",
       " '1174': {'number_activities': 7, 'rework': 1},\n",
       " '1175': {'number_activities': 7, 'rework': 0},\n",
       " '1176': {'number_activities': 6, 'rework': 0},\n",
       " '1177': {'number_activities': 7, 'rework': 0},\n",
       " '1179': {'number_activities': 4, 'rework': 0},\n",
       " '1180': {'number_activities': 4, 'rework': 0},\n",
       " '1182': {'number_activities': 4, 'rework': 0},\n",
       " '1181': {'number_activities': 7, 'rework': 0},\n",
       " '1183': {'number_activities': 9, 'rework': 4},\n",
       " '1184': {'number_activities': 4, 'rework': 0},\n",
       " '1185': {'number_activities': 3, 'rework': 0},\n",
       " '1186': {'number_activities': 3, 'rework': 0},\n",
       " '1187': {'number_activities': 4, 'rework': 0},\n",
       " '1188': {'number_activities': 4, 'rework': 0},\n",
       " '1189': {'number_activities': 10, 'rework': 1},\n",
       " '1191': {'number_activities': 5, 'rework': 0},\n",
       " '1192': {'number_activities': 5, 'rework': 0},\n",
       " '1193': {'number_activities': 11, 'rework': 6},\n",
       " '1194': {'number_activities': 7, 'rework': 2},\n",
       " '1195': {'number_activities': 3, 'rework': 0},\n",
       " '1196': {'number_activities': 5, 'rework': 0},\n",
       " '1197': {'number_activities': 5, 'rework': 0},\n",
       " '1202': {'number_activities': 7, 'rework': 2},\n",
       " '1203': {'number_activities': 6, 'rework': 0},\n",
       " '1204': {'number_activities': 7, 'rework': 0},\n",
       " '1205': {'number_activities': 4, 'rework': 0},\n",
       " '1208': {'number_activities': 4, 'rework': 0},\n",
       " '1209': {'number_activities': 7, 'rework': 1},\n",
       " '1210': {'number_activities': 7, 'rework': 0},\n",
       " '1214': {'number_activities': 4, 'rework': 0},\n",
       " '1215': {'number_activities': 5, 'rework': 0},\n",
       " '1219': {'number_activities': 5, 'rework': 0},\n",
       " '1220': {'number_activities': 5, 'rework': 0},\n",
       " '1221': {'number_activities': 3, 'rework': 0},\n",
       " '1224': {'number_activities': 8, 'rework': 0},\n",
       " '1226': {'number_activities': 5, 'rework': 0},\n",
       " '1228': {'number_activities': 4, 'rework': 0},\n",
       " '1229': {'number_activities': 6, 'rework': 0},\n",
       " '1231': {'number_activities': 6, 'rework': 0},\n",
       " '1232': {'number_activities': 6, 'rework': 1},\n",
       " '1233': {'number_activities': 3, 'rework': 0},\n",
       " '1234': {'number_activities': 9, 'rework': 1},\n",
       " '1235': {'number_activities': 4, 'rework': 0},\n",
       " '1237': {'number_activities': 7, 'rework': 2},\n",
       " '1238': {'number_activities': 4, 'rework': 0},\n",
       " '1240': {'number_activities': 7, 'rework': 2},\n",
       " '1241': {'number_activities': 6, 'rework': 1},\n",
       " '1244': {'number_activities': 5, 'rework': 0},\n",
       " '1245': {'number_activities': 5, 'rework': 0},\n",
       " '1247': {'number_activities': 4, 'rework': 0},\n",
       " '1248': {'number_activities': 6, 'rework': 0},\n",
       " '1249': {'number_activities': 4, 'rework': 0},\n",
       " '1250': {'number_activities': 6, 'rework': 0},\n",
       " '1251': {'number_activities': 6, 'rework': 0},\n",
       " '1253': {'number_activities': 7, 'rework': 0},\n",
       " '1254': {'number_activities': 3, 'rework': 0},\n",
       " '1255': {'number_activities': 5, 'rework': 1},\n",
       " '1256': {'number_activities': 5, 'rework': 1},\n",
       " '1257': {'number_activities': 7, 'rework': 1},\n",
       " '1258': {'number_activities': 7, 'rework': 0},\n",
       " '1259': {'number_activities': 6, 'rework': 0},\n",
       " '1261': {'number_activities': 4, 'rework': 0},\n",
       " '1262': {'number_activities': 7, 'rework': 2},\n",
       " '1264': {'number_activities': 5, 'rework': 0},\n",
       " '1266': {'number_activities': 4, 'rework': 0},\n",
       " '1268': {'number_activities': 4, 'rework': 0},\n",
       " '1271': {'number_activities': 5, 'rework': 0},\n",
       " '1272': {'number_activities': 5, 'rework': 0},\n",
       " '1273': {'number_activities': 8, 'rework': 0},\n",
       " '1275': {'number_activities': 3, 'rework': 0},\n",
       " '1274': {'number_activities': 7, 'rework': 0},\n",
       " '1276': {'number_activities': 5, 'rework': 0},\n",
       " '1277': {'number_activities': 3, 'rework': 0},\n",
       " '1278': {'number_activities': 5, 'rework': 0},\n",
       " '1279': {'number_activities': 7, 'rework': 0},\n",
       " '1281': {'number_activities': 8, 'rework': 3},\n",
       " '1282': {'number_activities': 4, 'rework': 0},\n",
       " '1283': {'number_activities': 7, 'rework': 1},\n",
       " '1288': {'number_activities': 5, 'rework': 0},\n",
       " '1292': {'number_activities': 6, 'rework': 0},\n",
       " '1293': {'number_activities': 6, 'rework': 0},\n",
       " '1296': {'number_activities': 4, 'rework': 0},\n",
       " '1297': {'number_activities': 5, 'rework': 0},\n",
       " '1298': {'number_activities': 3, 'rework': 0},\n",
       " '1299': {'number_activities': 9, 'rework': 4},\n",
       " '1300': {'number_activities': 7, 'rework': 1},\n",
       " '1301': {'number_activities': 6, 'rework': 0},\n",
       " '1304': {'number_activities': 7, 'rework': 0},\n",
       " '1306': {'number_activities': 3, 'rework': 0},\n",
       " '1307': {'number_activities': 5, 'rework': 0},\n",
       " '1308': {'number_activities': 4, 'rework': 0},\n",
       " '1309': {'number_activities': 5, 'rework': 0},\n",
       " '1310': {'number_activities': 7, 'rework': 0},\n",
       " '1311': {'number_activities': 7, 'rework': 1},\n",
       " '1313': {'number_activities': 3, 'rework': 0},\n",
       " '1315': {'number_activities': 4, 'rework': 0},\n",
       " '1317': {'number_activities': 8, 'rework': 0},\n",
       " '1319': {'number_activities': 3, 'rework': 0},\n",
       " '1320': {'number_activities': 3, 'rework': 0},\n",
       " '1321': {'number_activities': 7, 'rework': 1},\n",
       " '1323': {'number_activities': 8, 'rework': 2},\n",
       " '1325': {'number_activities': 5, 'rework': 1},\n",
       " '1326': {'number_activities': 7, 'rework': 0},\n",
       " '1327': {'number_activities': 6, 'rework': 0},\n",
       " '1329': {'number_activities': 14, 'rework': 4},\n",
       " '1331': {'number_activities': 3, 'rework': 0},\n",
       " '1332': {'number_activities': 4, 'rework': 0},\n",
       " '1334': {'number_activities': 4, 'rework': 0},\n",
       " '1333': {'number_activities': 9, 'rework': 4},\n",
       " '1335': {'number_activities': 6, 'rework': 0},\n",
       " '1336': {'number_activities': 7, 'rework': 0},\n",
       " '1339': {'number_activities': 6, 'rework': 0},\n",
       " '1342': {'number_activities': 3, 'rework': 0},\n",
       " '1343': {'number_activities': 3, 'rework': 0},\n",
       " '1344': {'number_activities': 13, 'rework': 3},\n",
       " '1345': {'number_activities': 6, 'rework': 0},\n",
       " '1346': {'number_activities': 8, 'rework': 0},\n",
       " '1347': {'number_activities': 3, 'rework': 0},\n",
       " '1348': {'number_activities': 3, 'rework': 0},\n",
       " '1349': {'number_activities': 5, 'rework': 0},\n",
       " '1350': {'number_activities': 7, 'rework': 0},\n",
       " '1351': {'number_activities': 12, 'rework': 2},\n",
       " '1352': {'number_activities': 9, 'rework': 0},\n",
       " '1353': {'number_activities': 3, 'rework': 0},\n",
       " '1355': {'number_activities': 12, 'rework': 2},\n",
       " '1356': {'number_activities': 8, 'rework': 0},\n",
       " '1357': {'number_activities': 15, 'rework': 5},\n",
       " '1358': {'number_activities': 8, 'rework': 1},\n",
       " '1360': {'number_activities': 5, 'rework': 0},\n",
       " '1361': {'number_activities': 7, 'rework': 1},\n",
       " '1362': {'number_activities': 5, 'rework': 0},\n",
       " '1363': {'number_activities': 10, 'rework': 3},\n",
       " '1364': {'number_activities': 5, 'rework': 0},\n",
       " '1367': {'number_activities': 6, 'rework': 1},\n",
       " '1368': {'number_activities': 4, 'rework': 0},\n",
       " '1369': {'number_activities': 5, 'rework': 0},\n",
       " '1370': {'number_activities': 3, 'rework': 0},\n",
       " '1371': {'number_activities': 11, 'rework': 3},\n",
       " '1372': {'number_activities': 3, 'rework': 0},\n",
       " '1373': {'number_activities': 6, 'rework': 2},\n",
       " '1374': {'number_activities': 4, 'rework': 0},\n",
       " '1375': {'number_activities': 4, 'rework': 0},\n",
       " '1378': {'number_activities': 6, 'rework': 0},\n",
       " '1379': {'number_activities': 13, 'rework': 5},\n",
       " '1382': {'number_activities': 7, 'rework': 1},\n",
       " '1385': {'number_activities': 7, 'rework': 1},\n",
       " '1386': {'number_activities': 10, 'rework': 4},\n",
       " '1388': {'number_activities': 12, 'rework': 5},\n",
       " '1389': {'number_activities': 4, 'rework': 0},\n",
       " '1391': {'number_activities': 6, 'rework': 0},\n",
       " '1392': {'number_activities': 11, 'rework': 3},\n",
       " '1393': {'number_activities': 3, 'rework': 0},\n",
       " '1395': {'number_activities': 4, 'rework': 0},\n",
       " '1396': {'number_activities': 6, 'rework': 0},\n",
       " '1398': {'number_activities': 3, 'rework': 0},\n",
       " '1400': {'number_activities': 7, 'rework': 1},\n",
       " '1402': {'number_activities': 3, 'rework': 0},\n",
       " '1403': {'number_activities': 6, 'rework': 0},\n",
       " '1404': {'number_activities': 5, 'rework': 0},\n",
       " '1405': {'number_activities': 7, 'rework': 1},\n",
       " '1407': {'number_activities': 4, 'rework': 0},\n",
       " '1408': {'number_activities': 6, 'rework': 0},\n",
       " '1409': {'number_activities': 5, 'rework': 1},\n",
       " '1410': {'number_activities': 8, 'rework': 2},\n",
       " '1413': {'number_activities': 10, 'rework': 2},\n",
       " '1414': {'number_activities': 4, 'rework': 0},\n",
       " '1416': {'number_activities': 5, 'rework': 0},\n",
       " '1418': {'number_activities': 3, 'rework': 0},\n",
       " '1419': {'number_activities': 6, 'rework': 0},\n",
       " '1420': {'number_activities': 8, 'rework': 1},\n",
       " '1422': {'number_activities': 7, 'rework': 0},\n",
       " '1423': {'number_activities': 14, 'rework': 4},\n",
       " '1424': {'number_activities': 15, 'rework': 5},\n",
       " '1426': {'number_activities': 5, 'rework': 0},\n",
       " '1428': {'number_activities': 5, 'rework': 0},\n",
       " '1429': {'number_activities': 4, 'rework': 0},\n",
       " '1430': {'number_activities': 3, 'rework': 0},\n",
       " '1432': {'number_activities': 6, 'rework': 0},\n",
       " '1433': {'number_activities': 5, 'rework': 0},\n",
       " '1435': {'number_activities': 7, 'rework': 1},\n",
       " '1437': {'number_activities': 9, 'rework': 0},\n",
       " '1438': {'number_activities': 4, 'rework': 0},\n",
       " '1439': {'number_activities': 5, 'rework': 0},\n",
       " '1440': {'number_activities': 6, 'rework': 0},\n",
       " '1442': {'number_activities': 8, 'rework': 2},\n",
       " '1443': {'number_activities': 5, 'rework': 0},\n",
       " '1444': {'number_activities': 4, 'rework': 0},\n",
       " '1445': {'number_activities': 3, 'rework': 0},\n",
       " ...}"
      ]
     },
     "execution_count": 67,
     "metadata": {},
     "output_type": "execute_result"
    }
   ],
   "source": [
    "dictio"
   ]
  },
  {
   "cell_type": "code",
   "execution_count": 68,
   "id": "df7023b2",
   "metadata": {},
   "outputs": [],
   "source": [
    "dictio = {k:v for k,v in dictio.items() if v['rework']>0}"
   ]
  },
  {
   "cell_type": "code",
   "execution_count": 69,
   "id": "21051308",
   "metadata": {},
   "outputs": [
    {
     "data": {
      "text/plain": [
       "3008"
      ]
     },
     "execution_count": 69,
     "metadata": {},
     "output_type": "execute_result"
    }
   ],
   "source": [
    "len(dictio)"
   ]
  },
  {
   "cell_type": "code",
   "execution_count": 70,
   "id": "877701fc",
   "metadata": {},
   "outputs": [],
   "source": [
    "activities = dataframe['Name'].unique()\n",
    "perc = {z:[] for z in activities}\n",
    "for z in activities:\n",
    "    temp = pm4py.filter_event_attribute_values(filtered_log, \"concept:name\", [z], level=\"case\", retain=True)\n",
    "    perc[z] = len(temp)"
   ]
  },
  {
   "cell_type": "code",
   "execution_count": 71,
   "id": "4e6bc5bb",
   "metadata": {},
   "outputs": [],
   "source": [
    "perc = {k:round(v*100/len(filtered_log),2) for k,v in perc.items()}"
   ]
  },
  {
   "cell_type": "code",
   "execution_count": 72,
   "id": "6319c8fb",
   "metadata": {},
   "outputs": [],
   "source": [
    "perc = dict(sorted(perc.items(), key = operator.itemgetter(1), reverse= True))"
   ]
  },
  {
   "cell_type": "code",
   "execution_count": 73,
   "id": "7b7abd38",
   "metadata": {},
   "outputs": [
    {
     "name": "stdout",
     "output_type": "stream",
     "text": [
      "VISIT               : 100.0%\n",
      "DISCHARGE           : 100.0%\n",
      "AUTONOMOUSLY TRIAGE : 70.52%\n",
      "CONSULTATION        : 54.27%\n",
      "LABORATORY          : 41.6%\n",
      "X-RAY               : 40.76%\n",
      "X-RAY REPORT        : 40.76%\n",
      "EMERGENCY SERVICE   : 36.01%\n",
      "AMBULANCE TRIAGE    : 29.48%\n",
      "BLOOD SAMPLING      : 11.69%\n",
      "ECHO                : 11.09%\n",
      "TC                  : 10.51%\n",
      "TC REPORT           : 10.51%\n",
      "OBSERVATION         : 3.4%\n",
      "ANGIO               : 1.13%\n",
      "ANGIO REPORT        : 1.13%\n",
      "MRI                 : 0.04%\n",
      "MRI REPORT          : 0.04%\n"
     ]
    }
   ],
   "source": [
    "for k,v in perc.items():\n",
    "    print(f'{k:<20}: {v}%')"
   ]
  },
  {
   "cell_type": "code",
   "execution_count": 74,
   "id": "05ee22a8",
   "metadata": {},
   "outputs": [
    {
     "data": {
      "text/plain": [
       "11457"
      ]
     },
     "execution_count": 74,
     "metadata": {},
     "output_type": "execute_result"
    }
   ],
   "source": [
    "len(dataframe.Case.unique())"
   ]
  },
  {
   "cell_type": "code",
   "execution_count": 75,
   "id": "9f80eaf0",
   "metadata": {},
   "outputs": [
    {
     "data": {
      "text/plain": [
       "DISCHARGE              11457\n",
       "VISIT                  11457\n",
       "AUTONOMOUSLY TRIAGE     8079\n",
       "CONSULTATION            7222\n",
       "EMERGENCY SERVICE       7196\n",
       "LABORATORY              6499\n",
       "X-RAY REPORT            4843\n",
       "X-RAY                   4818\n",
       "AMBULANCE TRIAGE        3378\n",
       "BLOOD SAMPLING          1339\n",
       "ECHO                    1281\n",
       "TC REPORT               1237\n",
       "TC                      1236\n",
       "OBSERVATION              390\n",
       "ANGIO                    129\n",
       "ANGIO REPORT             129\n",
       "MRI REPORT                 5\n",
       "MRI                        5\n",
       "Name: Name, dtype: int64"
      ]
     },
     "execution_count": 75,
     "metadata": {},
     "output_type": "execute_result"
    }
   ],
   "source": [
    "dataframe.Name.value_counts()"
   ]
  },
  {
   "cell_type": "markdown",
   "id": "b85ba7d9",
   "metadata": {},
   "source": [
    "# Analysis by color"
   ]
  },
  {
   "cell_type": "code",
   "execution_count": 189,
   "id": "d657b839",
   "metadata": {},
   "outputs": [
    {
     "data": {
      "text/plain": [
       "11457"
      ]
     },
     "execution_count": 189,
     "metadata": {},
     "output_type": "execute_result"
    }
   ],
   "source": [
    "len(filtered_log)"
   ]
  },
  {
   "cell_type": "code",
   "execution_count": 76,
   "id": "04230902",
   "metadata": {},
   "outputs": [],
   "source": [
    "white_log = pm4py.filter_event_attribute_values(filtered_log, \"triage color\", 'WHITE', level=\"case\", retain=True)\n",
    "red_log = pm4py.filter_event_attribute_values(filtered_log, \"triage color\", 'RED', level=\"case\", retain=True)\n",
    "green_log = pm4py.filter_event_attribute_values(filtered_log, \"triage color\", 'GREEN', level=\"case\", retain=True)\n",
    "blue_log = pm4py.filter_event_attribute_values(filtered_log, \"triage color\", 'BLUE', level=\"case\", retain=True)\n",
    "yellow_log = pm4py.filter_event_attribute_values(filtered_log, \"triage color\", 'YELLOW', level=\"case\", retain=True)"
   ]
  },
  {
   "cell_type": "markdown",
   "id": "1a604329",
   "metadata": {},
   "source": [
    "### White"
   ]
  },
  {
   "cell_type": "code",
   "execution_count": 77,
   "id": "2730efe8",
   "metadata": {
    "scrolled": true
   },
   "outputs": [
    {
     "data": {
      "text/plain": [
       "15.635173378076063"
      ]
     },
     "execution_count": 77,
     "metadata": {},
     "output_type": "execute_result"
    }
   ],
   "source": [
    "pm4py.get_case_arrival_average(white_log)/3600"
   ]
  },
  {
   "cell_type": "code",
   "execution_count": 78,
   "id": "2bde1d2d",
   "metadata": {},
   "outputs": [
    {
     "name": "stdout",
     "output_type": "stream",
     "text": [
      "VISIT                  150\n",
      "DISCHARGE              150\n",
      "AUTONOMOUSLY TRIAGE    139\n",
      "CONSULTATION            78\n",
      "X-RAY                   22\n",
      "X-RAY REPORT            22\n",
      "EMERGENCY SERVICE       16\n",
      "AMBULANCE TRIAGE        11\n",
      "LABORATORY               3\n",
      "TC                       1\n",
      "ECHO                     1\n",
      "TC REPORT                1\n",
      "Name: Name, dtype: int64\n"
     ]
    },
    {
     "data": {
      "text/plain": [
       "12"
      ]
     },
     "execution_count": 78,
     "metadata": {},
     "output_type": "execute_result"
    }
   ],
   "source": [
    "white_df = dataframe[dataframe.Triage_columns == 'WHITE']\n",
    "print(white_df['Name'].value_counts())\n",
    "len(white_df['Name'].value_counts())"
   ]
  },
  {
   "cell_type": "code",
   "execution_count": 79,
   "id": "83d6dd0c",
   "metadata": {},
   "outputs": [
    {
     "name": "stdout",
     "output_type": "stream",
     "text": [
      "21\n"
     ]
    },
    {
     "data": {
      "text/plain": [
       "0.14"
      ]
     },
     "execution_count": 79,
     "metadata": {},
     "output_type": "execute_result"
    }
   ],
   "source": [
    "white_x = 0\n",
    "for case in white_df.Case.unique():\n",
    "    if 'X-RAY' in white_df[white_df.Case == case]['Name'].value_counts():\n",
    "        white_x += 1\n",
    "print(white_x)\n",
    "white_x /= len(white_log)\n",
    "white_x"
   ]
  },
  {
   "cell_type": "code",
   "execution_count": 80,
   "id": "dc7a360c",
   "metadata": {},
   "outputs": [
    {
     "name": "stdout",
     "output_type": "stream",
     "text": [
      "68\n"
     ]
    },
    {
     "data": {
      "text/plain": [
       "0.4533333333333333"
      ]
     },
     "execution_count": 80,
     "metadata": {},
     "output_type": "execute_result"
    }
   ],
   "source": [
    "white_x = 0\n",
    "for case in white_df.Case.unique():\n",
    "    if 'CONSULTATION' in white_df[white_df.Case == case]['Name'].value_counts():\n",
    "        white_x += 1\n",
    "print(white_x)\n",
    "white_x /= len(white_log)\n",
    "white_x"
   ]
  },
  {
   "cell_type": "code",
   "execution_count": 81,
   "id": "0927271f",
   "metadata": {},
   "outputs": [
    {
     "name": "stdout",
     "output_type": "stream",
     "text": [
      "{'attributes': {'concept:name': '7432'}, 'events': [{'concept:name': 'AUTONOMOUSLY TRIAGE', 'triage color': 'WHITE', 'start:timestamp': datetime.datetime(2017, 2, 20, 9, 37, 47), 'time:timestamp': datetime.datetime(2017, 2, 20, 9, 37, 47), 'org:resource': 'autonomous', 'case:concept:name': '5530'}, '..', {'concept:name': 'DISCHARGE', 'triage color': 'WHITE', 'start:timestamp': datetime.datetime(2017, 2, 20, 13, 51, 12), 'time:timestamp': datetime.datetime(2017, 2, 20, 13, 51, 38), 'org:resource': 'R10', 'case:concept:name': '5530'}]}\n",
      "{'attributes': {'concept:name': '10323'}, 'events': [{'concept:name': 'AUTONOMOUSLY TRIAGE', 'triage color': 'WHITE', 'start:timestamp': datetime.datetime(2017, 3, 11, 10, 4, 48), 'time:timestamp': datetime.datetime(2017, 3, 11, 10, 4, 48), 'org:resource': 'autonomous', 'case:concept:name': '7856'}, '..', {'concept:name': 'DISCHARGE', 'triage color': 'WHITE', 'start:timestamp': datetime.datetime(2017, 3, 11, 16, 52, 33), 'time:timestamp': datetime.datetime(2017, 3, 11, 16, 55, 48), 'org:resource': 'R6', 'case:concept:name': '7856'}]}\n"
     ]
    },
    {
     "data": {
      "text/plain": [
       "3.96"
      ]
     },
     "execution_count": 81,
     "metadata": {},
     "output_type": "execute_result"
    }
   ],
   "source": [
    "activities = []\n",
    "for i in white_log:\n",
    "    activities.append(len(i))\n",
    "    if len(i) == 8:\n",
    "        print(i)\n",
    "mean = np.mean(activities)\n",
    "mean"
   ]
  },
  {
   "cell_type": "code",
   "execution_count": 82,
   "id": "251441f7",
   "metadata": {},
   "outputs": [
    {
     "data": {
      "text/html": [
       "<div>\n",
       "<style scoped>\n",
       "    .dataframe tbody tr th:only-of-type {\n",
       "        vertical-align: middle;\n",
       "    }\n",
       "\n",
       "    .dataframe tbody tr th {\n",
       "        vertical-align: top;\n",
       "    }\n",
       "\n",
       "    .dataframe thead th {\n",
       "        text-align: right;\n",
       "    }\n",
       "</style>\n",
       "<table border=\"1\" class=\"dataframe\">\n",
       "  <thead>\n",
       "    <tr style=\"text-align: right;\">\n",
       "      <th></th>\n",
       "      <th>Name</th>\n",
       "      <th>Triage_columns</th>\n",
       "      <th>Start_Timestamp</th>\n",
       "      <th>End_Timestamp</th>\n",
       "      <th>Resource</th>\n",
       "      <th>Case</th>\n",
       "      <th>Role</th>\n",
       "    </tr>\n",
       "  </thead>\n",
       "  <tbody>\n",
       "    <tr>\n",
       "      <th>33863</th>\n",
       "      <td>AUTONOMOUSLY TRIAGE</td>\n",
       "      <td>WHITE</td>\n",
       "      <td>2017-02-20 09:37:47</td>\n",
       "      <td>2017-02-20 09:37:47</td>\n",
       "      <td>autonomous</td>\n",
       "      <td>7432</td>\n",
       "      <td>Auto</td>\n",
       "    </tr>\n",
       "    <tr>\n",
       "      <th>33864</th>\n",
       "      <td>VISIT</td>\n",
       "      <td>WHITE</td>\n",
       "      <td>2017-02-20 10:16:59</td>\n",
       "      <td>2017-02-20 10:22:11</td>\n",
       "      <td>R3</td>\n",
       "      <td>7432</td>\n",
       "      <td>Doctor</td>\n",
       "    </tr>\n",
       "    <tr>\n",
       "      <th>33865</th>\n",
       "      <td>X-RAY</td>\n",
       "      <td>WHITE</td>\n",
       "      <td>2017-02-20 10:31:16</td>\n",
       "      <td>2017-02-20 10:50:00</td>\n",
       "      <td>R48</td>\n",
       "      <td>7432</td>\n",
       "      <td>Radio_operator</td>\n",
       "    </tr>\n",
       "    <tr>\n",
       "      <th>33866</th>\n",
       "      <td>X-RAY REPORT</td>\n",
       "      <td>WHITE</td>\n",
       "      <td>2017-02-20 11:46:10</td>\n",
       "      <td>2017-02-20 11:49:00</td>\n",
       "      <td>R99</td>\n",
       "      <td>7432</td>\n",
       "      <td>Radio_reporter</td>\n",
       "    </tr>\n",
       "    <tr>\n",
       "      <th>33867</th>\n",
       "      <td>X-RAY</td>\n",
       "      <td>WHITE</td>\n",
       "      <td>2017-02-20 12:10:34</td>\n",
       "      <td>2017-02-20 12:55:00</td>\n",
       "      <td>R48</td>\n",
       "      <td>7432</td>\n",
       "      <td>Radio_operator</td>\n",
       "    </tr>\n",
       "    <tr>\n",
       "      <th>33868</th>\n",
       "      <td>X-RAY REPORT</td>\n",
       "      <td>WHITE</td>\n",
       "      <td>2017-02-20 13:27:22</td>\n",
       "      <td>2017-02-20 13:29:00</td>\n",
       "      <td>R93</td>\n",
       "      <td>7432</td>\n",
       "      <td>Radio_reporter</td>\n",
       "    </tr>\n",
       "    <tr>\n",
       "      <th>33869</th>\n",
       "      <td>CONSULTATION</td>\n",
       "      <td>WHITE</td>\n",
       "      <td>2017-02-20 10:41:18</td>\n",
       "      <td>2017-02-20 13:37:18</td>\n",
       "      <td>R213</td>\n",
       "      <td>7432</td>\n",
       "      <td>Operator_1</td>\n",
       "    </tr>\n",
       "    <tr>\n",
       "      <th>33870</th>\n",
       "      <td>DISCHARGE</td>\n",
       "      <td>WHITE</td>\n",
       "      <td>2017-02-20 13:51:12</td>\n",
       "      <td>2017-02-20 13:51:38</td>\n",
       "      <td>R10</td>\n",
       "      <td>7432</td>\n",
       "      <td>Doctor</td>\n",
       "    </tr>\n",
       "  </tbody>\n",
       "</table>\n",
       "</div>"
      ],
      "text/plain": [
       "                      Name Triage_columns     Start_Timestamp  \\\n",
       "33863  AUTONOMOUSLY TRIAGE          WHITE 2017-02-20 09:37:47   \n",
       "33864                VISIT          WHITE 2017-02-20 10:16:59   \n",
       "33865                X-RAY          WHITE 2017-02-20 10:31:16   \n",
       "33866         X-RAY REPORT          WHITE 2017-02-20 11:46:10   \n",
       "33867                X-RAY          WHITE 2017-02-20 12:10:34   \n",
       "33868         X-RAY REPORT          WHITE 2017-02-20 13:27:22   \n",
       "33869         CONSULTATION          WHITE 2017-02-20 10:41:18   \n",
       "33870            DISCHARGE          WHITE 2017-02-20 13:51:12   \n",
       "\n",
       "            End_Timestamp    Resource  Case            Role  \n",
       "33863 2017-02-20 09:37:47  autonomous  7432            Auto  \n",
       "33864 2017-02-20 10:22:11          R3  7432          Doctor  \n",
       "33865 2017-02-20 10:50:00         R48  7432  Radio_operator  \n",
       "33866 2017-02-20 11:49:00         R99  7432  Radio_reporter  \n",
       "33867 2017-02-20 12:55:00         R48  7432  Radio_operator  \n",
       "33868 2017-02-20 13:29:00         R93  7432  Radio_reporter  \n",
       "33869 2017-02-20 13:37:18        R213  7432      Operator_1  \n",
       "33870 2017-02-20 13:51:38         R10  7432          Doctor  "
      ]
     },
     "execution_count": 82,
     "metadata": {},
     "output_type": "execute_result"
    }
   ],
   "source": [
    "dataframe[dataframe.Case == '7432']"
   ]
  },
  {
   "cell_type": "code",
   "execution_count": 83,
   "id": "a317d449",
   "metadata": {},
   "outputs": [
    {
     "data": {
      "text/plain": [
       "143"
      ]
     },
     "execution_count": 83,
     "metadata": {},
     "output_type": "execute_result"
    }
   ],
   "source": [
    "white_filt = pm4py.filter_end_activities(white_log, 'DISCHARGE')\n",
    "len(white_filt)"
   ]
  },
  {
   "cell_type": "code",
   "execution_count": 84,
   "id": "a73a4568",
   "metadata": {},
   "outputs": [
    {
     "data": {
      "text/plain": [
       "(array([63.,  0.,  0.,  0., 55.,  0.,  0.,  0., 15.,  0.,  0.,  0., 11.,\n",
       "         0.,  0.,  0.,  4.,  0.,  0.,  2.]),\n",
       " array([3.  , 3.25, 3.5 , 3.75, 4.  , 4.25, 4.5 , 4.75, 5.  , 5.25, 5.5 ,\n",
       "        5.75, 6.  , 6.25, 6.5 , 6.75, 7.  , 7.25, 7.5 , 7.75, 8.  ]),\n",
       " <BarContainer object of 20 artists>)"
      ]
     },
     "execution_count": 84,
     "metadata": {},
     "output_type": "execute_result"
    },
    {
     "data": {
      "image/png": "[encoded data removed]",
      "text/plain": [
       "<Figure size 432x288 with 1 Axes>"
      ]
     },
     "metadata": {
      "needs_background": "light"
     },
     "output_type": "display_data"
    }
   ],
   "source": [
    "plt.hist(activities, bins = 20)"
   ]
  },
  {
   "cell_type": "code",
   "execution_count": 85,
   "id": "3f8f6f3a",
   "metadata": {},
   "outputs": [
    {
     "data": {
      "text/plain": [
       "131.50850815850816"
      ]
     },
     "execution_count": 85,
     "metadata": {},
     "output_type": "execute_result"
    }
   ],
   "source": [
    "times = []\n",
    "for i in white_filt:\n",
    "    start = i[0]['start:timestamp']\n",
    "    end = i[-1]['time:timestamp']\n",
    "    delta = end - start\n",
    "    delta = delta.total_seconds()\n",
    "    times.append(delta)\n",
    "    mean = np.mean(times)\n",
    "mean/60"
   ]
  },
  {
   "cell_type": "code",
   "execution_count": 86,
   "id": "06468f5d",
   "metadata": {},
   "outputs": [
    {
     "data": {
      "text/plain": [
       "(array([31., 22., 12.,  8., 10.,  8., 10., 11.,  6.,  9.,  1.,  4.,  6.,\n",
       "         1.,  0.,  3.,  0.,  0.,  0.,  1.]),\n",
       " array([  133.  ,  1754.15,  3375.3 ,  4996.45,  6617.6 ,  8238.75,\n",
       "         9859.9 , 11481.05, 13102.2 , 14723.35, 16344.5 , 17965.65,\n",
       "        19586.8 , 21207.95, 22829.1 , 24450.25, 26071.4 , 27692.55,\n",
       "        29313.7 , 30934.85, 32556.  ]),\n",
       " <BarContainer object of 20 artists>)"
      ]
     },
     "execution_count": 86,
     "metadata": {},
     "output_type": "execute_result"
    },
    {
     "data": {
      "image/png": "[encoded data removed]",
      "text/plain": [
       "<Figure size 432x288 with 1 Axes>"
      ]
     },
     "metadata": {
      "needs_background": "light"
     },
     "output_type": "display_data"
    }
   ],
   "source": [
    "plt.hist(times, bins = 20)"
   ]
  },
  {
   "cell_type": "code",
   "execution_count": 87,
   "id": "29b4ed92",
   "metadata": {},
   "outputs": [
    {
     "data": {
      "text/plain": [
       "131.5"
      ]
     },
     "execution_count": 87,
     "metadata": {},
     "output_type": "execute_result"
    }
   ],
   "source": [
    "7890/60"
   ]
  },
  {
   "cell_type": "markdown",
   "id": "32deec91",
   "metadata": {},
   "source": [
    "### Blue"
   ]
  },
  {
   "cell_type": "code",
   "execution_count": 88,
   "id": "537cce29",
   "metadata": {},
   "outputs": [
    {
     "data": {
      "text/plain": [
       "109.22336956521738"
      ]
     },
     "execution_count": 88,
     "metadata": {},
     "output_type": "execute_result"
    }
   ],
   "source": [
    "pm4py.get_case_arrival_average(blue_log)/60"
   ]
  },
  {
   "cell_type": "code",
   "execution_count": 89,
   "id": "83ff7d04",
   "metadata": {},
   "outputs": [
    {
     "data": {
      "text/plain": [
       "11457"
      ]
     },
     "execution_count": 89,
     "metadata": {},
     "output_type": "execute_result"
    }
   ],
   "source": [
    "len(dataframe.Case.unique())"
   ]
  },
  {
   "cell_type": "code",
   "execution_count": 90,
   "id": "e29e0428",
   "metadata": {},
   "outputs": [
    {
     "name": "stdout",
     "output_type": "stream",
     "text": [
      "DISCHARGE              1289\n",
      "VISIT                  1289\n",
      "AUTONOMOUSLY TRIAGE    1173\n",
      "CONSULTATION            830\n",
      "X-RAY REPORT            509\n",
      "X-RAY                   504\n",
      "EMERGENCY SERVICE       168\n",
      "AMBULANCE TRIAGE        116\n",
      "LABORATORY              103\n",
      "ECHO                     49\n",
      "TC                       22\n",
      "TC REPORT                22\n",
      "OBSERVATION               6\n",
      "BLOOD SAMPLING            6\n",
      "ANGIO REPORT              1\n",
      "ANGIO                     1\n",
      "Name: Name, dtype: int64\n"
     ]
    },
    {
     "data": {
      "text/plain": [
       "16"
      ]
     },
     "execution_count": 90,
     "metadata": {},
     "output_type": "execute_result"
    }
   ],
   "source": [
    "blue_df = dataframe[dataframe.Triage_columns == 'BLUE']\n",
    "print(blue_df['Name'].value_counts())\n",
    "len(blue_df['Name'].value_counts())"
   ]
  },
  {
   "cell_type": "code",
   "execution_count": 91,
   "id": "3f963fb0",
   "metadata": {},
   "outputs": [
    {
     "name": "stdout",
     "output_type": "stream",
     "text": [
      "498\n"
     ]
    },
    {
     "data": {
      "text/plain": [
       "0.38634600465477115"
      ]
     },
     "execution_count": 91,
     "metadata": {},
     "output_type": "execute_result"
    }
   ],
   "source": [
    "white_x = 0\n",
    "for case in blue_df.Case.unique():\n",
    "    if 'X-RAY' in blue_df[blue_df.Case == case]['Name'].value_counts():\n",
    "        white_x += 1\n",
    "print(white_x)\n",
    "white_x /= len(blue_log)\n",
    "white_x"
   ]
  },
  {
   "cell_type": "code",
   "execution_count": 92,
   "id": "088314b9",
   "metadata": {},
   "outputs": [
    {
     "data": {
      "text/plain": [
       "1.6666666666666667"
      ]
     },
     "execution_count": 92,
     "metadata": {},
     "output_type": "execute_result"
    }
   ],
   "source": [
    "830/498"
   ]
  },
  {
   "cell_type": "code",
   "execution_count": 93,
   "id": "d754f4d1",
   "metadata": {},
   "outputs": [
    {
     "data": {
      "text/plain": [
       "143"
      ]
     },
     "execution_count": 93,
     "metadata": {},
     "output_type": "execute_result"
    }
   ],
   "source": [
    "blue_filt = pm4py.filter_end_activities(blue_log, 'DISCHARGE')\n",
    "len(white_filt)"
   ]
  },
  {
   "cell_type": "code",
   "execution_count": 94,
   "id": "2c52be44",
   "metadata": {},
   "outputs": [
    {
     "data": {
      "text/plain": [
       "134.34879145587408"
      ]
     },
     "execution_count": 94,
     "metadata": {},
     "output_type": "execute_result"
    }
   ],
   "source": [
    "times = []\n",
    "for i in blue_filt:\n",
    "    start = i[0]['start:timestamp']\n",
    "    end = i[-1]['time:timestamp']\n",
    "    delta = end - start\n",
    "    delta = delta.total_seconds()\n",
    "    times.append(delta)\n",
    "    mean = np.mean(times)\n",
    "mean/60"
   ]
  },
  {
   "cell_type": "code",
   "execution_count": 95,
   "id": "ceb52f0e",
   "metadata": {},
   "outputs": [
    {
     "data": {
      "text/plain": [
       "4.7230411171450735"
      ]
     },
     "execution_count": 95,
     "metadata": {},
     "output_type": "execute_result"
    }
   ],
   "source": [
    "activities = []\n",
    "for i in blue_log:\n",
    "    activities.append(len(i))\n",
    "mean = np.mean(activities)\n",
    "mean"
   ]
  },
  {
   "cell_type": "markdown",
   "id": "91765601",
   "metadata": {},
   "source": [
    "### Green"
   ]
  },
  {
   "cell_type": "code",
   "execution_count": 96,
   "id": "871d7369",
   "metadata": {},
   "outputs": [
    {
     "data": {
      "text/plain": [
       "21.798609387923907"
      ]
     },
     "execution_count": 96,
     "metadata": {},
     "output_type": "execute_result"
    }
   ],
   "source": [
    "pm4py.get_case_arrival_average(green_log)/60"
   ]
  },
  {
   "cell_type": "code",
   "execution_count": 97,
   "id": "405a5f6c",
   "metadata": {},
   "outputs": [
    {
     "name": "stdout",
     "output_type": "stream",
     "text": [
      "VISIT                  6449\n",
      "DISCHARGE              6449\n",
      "AUTONOMOUSLY TRIAGE    5030\n",
      "CONSULTATION           4452\n",
      "EMERGENCY SERVICE      2583\n",
      "X-RAY REPORT           2529\n",
      "X-RAY                  2514\n",
      "LABORATORY             2358\n",
      "AMBULANCE TRIAGE       1419\n",
      "ECHO                    755\n",
      "TC REPORT               432\n",
      "TC                      431\n",
      "BLOOD SAMPLING          373\n",
      "OBSERVATION             111\n",
      "ANGIO                    21\n",
      "ANGIO REPORT             21\n",
      "MRI REPORT                3\n",
      "MRI                       3\n",
      "Name: Name, dtype: int64\n"
     ]
    },
    {
     "data": {
      "text/plain": [
       "18"
      ]
     },
     "execution_count": 97,
     "metadata": {},
     "output_type": "execute_result"
    }
   ],
   "source": [
    "green_df = dataframe[dataframe.Triage_columns == 'GREEN']\n",
    "print(green_df['Name'].value_counts())\n",
    "len(green_df['Name'].value_counts())"
   ]
  },
  {
   "cell_type": "code",
   "execution_count": 98,
   "id": "4ae349c0",
   "metadata": {},
   "outputs": [
    {
     "data": {
      "text/plain": [
       "5759"
      ]
     },
     "execution_count": 98,
     "metadata": {},
     "output_type": "execute_result"
    }
   ],
   "source": [
    "green_filt = pm4py.filter_end_activities(green_log, 'DISCHARGE')\n",
    "len(green_filt)"
   ]
  },
  {
   "cell_type": "code",
   "execution_count": 99,
   "id": "ee38a91c",
   "metadata": {},
   "outputs": [
    {
     "name": "stdout",
     "output_type": "stream",
     "text": [
      "2453\n"
     ]
    },
    {
     "data": {
      "text/plain": [
       "0.38036904946503336"
      ]
     },
     "execution_count": 99,
     "metadata": {},
     "output_type": "execute_result"
    }
   ],
   "source": [
    "white_x = 0\n",
    "for case in green_df.Case.unique():\n",
    "    if 'X-RAY' in green_df[green_df.Case == case]['Name'].value_counts():\n",
    "        white_x += 1\n",
    "print(white_x)\n",
    "white_x /= len(green_log)\n",
    "white_x"
   ]
  },
  {
   "cell_type": "code",
   "execution_count": 100,
   "id": "ace62769",
   "metadata": {},
   "outputs": [
    {
     "name": "stdout",
     "output_type": "stream",
     "text": [
      "1797\n"
     ]
    },
    {
     "data": {
      "text/plain": [
       "0.278647852380214"
      ]
     },
     "execution_count": 100,
     "metadata": {},
     "output_type": "execute_result"
    }
   ],
   "source": [
    "white_x = 0\n",
    "for case in green_df.Case.unique():\n",
    "    if 'EMERGENCY SERVICE' in green_df[green_df.Case == case]['Name'].value_counts():\n",
    "        white_x += 1\n",
    "print(white_x)\n",
    "white_x /= len(green_log)\n",
    "white_x"
   ]
  },
  {
   "cell_type": "code",
   "execution_count": 101,
   "id": "f9dcef0d",
   "metadata": {},
   "outputs": [
    {
     "name": "stdout",
     "output_type": "stream",
     "text": [
      "3842\n"
     ]
    },
    {
     "data": {
      "text/plain": [
       "0.5957512792681036"
      ]
     },
     "execution_count": 101,
     "metadata": {},
     "output_type": "execute_result"
    }
   ],
   "source": [
    "white_x = 0\n",
    "for case in green_df.Case.unique():\n",
    "    if 'CONSULTATION' in green_df[green_df.Case == case]['Name'].value_counts():\n",
    "        white_x += 1\n",
    "print(white_x)\n",
    "white_x /= len(green_log)\n",
    "white_x"
   ]
  },
  {
   "cell_type": "code",
   "execution_count": 102,
   "id": "ca89a03d",
   "metadata": {},
   "outputs": [
    {
     "data": {
      "text/plain": [
       "1.4444444444444444"
      ]
     },
     "execution_count": 102,
     "metadata": {},
     "output_type": "execute_result"
    }
   ],
   "source": [
    "2.6/1.8"
   ]
  },
  {
   "cell_type": "code",
   "execution_count": 103,
   "id": "bc6332a7",
   "metadata": {},
   "outputs": [
    {
     "data": {
      "text/plain": [
       "1.1587714731910463"
      ]
     },
     "execution_count": 103,
     "metadata": {},
     "output_type": "execute_result"
    }
   ],
   "source": [
    "4452 / 3842"
   ]
  },
  {
   "cell_type": "code",
   "execution_count": 104,
   "id": "aa951ab9",
   "metadata": {},
   "outputs": [
    {
     "data": {
      "text/plain": [
       "5.57187160800124"
      ]
     },
     "execution_count": 104,
     "metadata": {},
     "output_type": "execute_result"
    }
   ],
   "source": [
    "activities = []\n",
    "for i in green_log:\n",
    "    activities.append(len(i))\n",
    "mean = np.mean(activities)\n",
    "mean"
   ]
  },
  {
   "cell_type": "code",
   "execution_count": 105,
   "id": "bc8d5934",
   "metadata": {},
   "outputs": [
    {
     "data": {
      "text/plain": [
       "162.00664177808648"
      ]
     },
     "execution_count": 105,
     "metadata": {},
     "output_type": "execute_result"
    }
   ],
   "source": [
    "times = []\n",
    "for i in green_filt:\n",
    "    start = i[0]['start:timestamp']\n",
    "    end = i[-1]['time:timestamp']\n",
    "    delta = end - start\n",
    "    delta = delta.total_seconds()\n",
    "    times.append(delta)\n",
    "    mean = np.mean(times)\n",
    "mean/60"
   ]
  },
  {
   "cell_type": "code",
   "execution_count": 106,
   "id": "e9c264d1",
   "metadata": {},
   "outputs": [
    {
     "data": {
      "text/plain": [
       "188.43344534636756"
      ]
     },
     "execution_count": 106,
     "metadata": {},
     "output_type": "execute_result"
    }
   ],
   "source": [
    "times = []\n",
    "for i in filtered_log:\n",
    "    start = i[0]['start:timestamp']\n",
    "    end = i[-1]['time:timestamp']\n",
    "    delta = end - start\n",
    "    delta = delta.total_seconds()\n",
    "    times.append(delta)\n",
    "    mean = np.mean(times)\n",
    "mean/60"
   ]
  },
  {
   "cell_type": "markdown",
   "id": "de4c1586",
   "metadata": {},
   "source": [
    "### Yellow patients"
   ]
  },
  {
   "cell_type": "code",
   "execution_count": 107,
   "id": "d37fb40f",
   "metadata": {},
   "outputs": [
    {
     "data": {
      "text/plain": [
       "42.09759908156135"
      ]
     },
     "execution_count": 107,
     "metadata": {},
     "output_type": "execute_result"
    }
   ],
   "source": [
    "pm4py.get_case_arrival_average(yellow_log)/60"
   ]
  },
  {
   "cell_type": "code",
   "execution_count": 108,
   "id": "f86045d3",
   "metadata": {},
   "outputs": [
    {
     "name": "stdout",
     "output_type": "stream",
     "text": [
      "EMERGENCY SERVICE      3858\n",
      "LABORATORY             3758\n",
      "VISIT                  3340\n",
      "DISCHARGE              3340\n",
      "AUTONOMOUSLY TRIAGE    1707\n",
      "CONSULTATION           1689\n",
      "X-RAY REPORT           1672\n",
      "X-RAY                  1667\n",
      "AMBULANCE TRIAGE       1633\n",
      "BLOOD SAMPLING          930\n",
      "TC                      685\n",
      "TC REPORT               684\n",
      "ECHO                    471\n",
      "OBSERVATION             255\n",
      "ANGIO                    74\n",
      "ANGIO REPORT             74\n",
      "MRI REPORT                2\n",
      "MRI                       2\n",
      "Name: Name, dtype: int64\n"
     ]
    },
    {
     "data": {
      "text/plain": [
       "42.09759908156135"
      ]
     },
     "execution_count": 108,
     "metadata": {},
     "output_type": "execute_result"
    }
   ],
   "source": [
    "yellow_df = dataframe[dataframe.Triage_columns == 'YELLOW']\n",
    "print(yellow_df['Name'].value_counts())\n",
    "len(yellow_df['Name'].value_counts())\n",
    "pm4py.get_case_arrival_average(yellow_log)/60"
   ]
  },
  {
   "cell_type": "code",
   "execution_count": 109,
   "id": "d3be693e",
   "metadata": {},
   "outputs": [
    {
     "data": {
      "text/plain": [
       "2791"
      ]
     },
     "execution_count": 109,
     "metadata": {},
     "output_type": "execute_result"
    }
   ],
   "source": [
    "yellow_filt = pm4py.filter_end_activities(yellow_log, 'DISCHARGE')\n",
    "len(yellow_filt)"
   ]
  },
  {
   "cell_type": "code",
   "execution_count": 110,
   "id": "796ccd83",
   "metadata": {},
   "outputs": [
    {
     "name": "stdout",
     "output_type": "stream",
     "text": [
      "1990\n"
     ]
    },
    {
     "data": {
      "text/plain": [
       "0.5958083832335329"
      ]
     },
     "execution_count": 110,
     "metadata": {},
     "output_type": "execute_result"
    }
   ],
   "source": [
    "white_x = 0\n",
    "for case in yellow_df.Case.unique():\n",
    "    if 'EMERGENCY SERVICE' in yellow_df[yellow_df.Case == case]['Name'].value_counts():\n",
    "        white_x += 1\n",
    "print(white_x)\n",
    "white_x /= len(yellow_log)\n",
    "white_x"
   ]
  },
  {
   "cell_type": "code",
   "execution_count": 111,
   "id": "0a505ce8",
   "metadata": {},
   "outputs": [
    {
     "name": "stdout",
     "output_type": "stream",
     "text": [
      "2581\n"
     ]
    },
    {
     "data": {
      "text/plain": [
       "0.7727544910179641"
      ]
     },
     "execution_count": 111,
     "metadata": {},
     "output_type": "execute_result"
    }
   ],
   "source": [
    "white_x = 0\n",
    "for case in yellow_df.Case.unique():\n",
    "    if 'LABORATORY' in yellow_df[yellow_df.Case == case]['Name'].value_counts():\n",
    "        white_x += 1\n",
    "print(white_x)\n",
    "white_x /= len(yellow_log)\n",
    "white_x"
   ]
  },
  {
   "cell_type": "code",
   "execution_count": 112,
   "id": "6db76bb3",
   "metadata": {},
   "outputs": [
    {
     "name": "stdout",
     "output_type": "stream",
     "text": [
      "666\n"
     ]
    },
    {
     "data": {
      "text/plain": [
       "0.19940119760479041"
      ]
     },
     "execution_count": 112,
     "metadata": {},
     "output_type": "execute_result"
    }
   ],
   "source": [
    "white_x = 0\n",
    "for case in yellow_df.Case.unique():\n",
    "    if 'TC' in yellow_df[yellow_df.Case == case]['Name'].value_counts():\n",
    "        white_x += 1\n",
    "print(white_x)\n",
    "white_x /= len(yellow_log)\n",
    "white_x"
   ]
  },
  {
   "cell_type": "code",
   "execution_count": 113,
   "id": "23474380",
   "metadata": {},
   "outputs": [
    {
     "data": {
      "text/plain": [
       "1.934673366834171"
      ]
     },
     "execution_count": 113,
     "metadata": {},
     "output_type": "execute_result"
    }
   ],
   "source": [
    "3850/1990"
   ]
  },
  {
   "cell_type": "code",
   "execution_count": 114,
   "id": "4a26fa74",
   "metadata": {},
   "outputs": [
    {
     "data": {
      "text/plain": [
       "1.456024796590469"
      ]
     },
     "execution_count": 114,
     "metadata": {},
     "output_type": "execute_result"
    }
   ],
   "source": [
    "3758/2581"
   ]
  },
  {
   "cell_type": "code",
   "execution_count": 115,
   "id": "f8d64b68",
   "metadata": {},
   "outputs": [
    {
     "data": {
      "text/plain": [
       "240.50371431983757"
      ]
     },
     "execution_count": 115,
     "metadata": {},
     "output_type": "execute_result"
    }
   ],
   "source": [
    "times = []\n",
    "for i in yellow_filt:\n",
    "    start = i[0]['start:timestamp']\n",
    "    end = i[-1]['time:timestamp']\n",
    "    delta = end - start\n",
    "    delta = delta.total_seconds()\n",
    "    times.append(delta)\n",
    "    mean = np.mean(times)\n",
    "mean/60"
   ]
  },
  {
   "cell_type": "code",
   "execution_count": 116,
   "id": "969a89dc",
   "metadata": {},
   "outputs": [
    {
     "data": {
      "text/plain": [
       "7.7368263473053895"
      ]
     },
     "execution_count": 116,
     "metadata": {},
     "output_type": "execute_result"
    }
   ],
   "source": [
    "activities = []\n",
    "for i in yellow_log:\n",
    "    activities.append(len(i))\n",
    "mean = np.mean(activities)\n",
    "mean"
   ]
  },
  {
   "cell_type": "markdown",
   "id": "fd40b218",
   "metadata": {},
   "source": [
    "### Red"
   ]
  },
  {
   "cell_type": "code",
   "execution_count": 117,
   "id": "6ada0898",
   "metadata": {},
   "outputs": [
    {
     "data": {
      "text/plain": [
       "615.4494883040935"
      ]
     },
     "execution_count": 117,
     "metadata": {},
     "output_type": "execute_result"
    }
   ],
   "source": [
    "pm4py.get_case_arrival_average(red_log)/60"
   ]
  },
  {
   "cell_type": "code",
   "execution_count": 196,
   "id": "5260dcc6",
   "metadata": {},
   "outputs": [],
   "source": [
    "activities_red = {x:0 for x in dataframe.Name.unique()}\n",
    "activities_yellow = {x:0 for x in dataframe.Name.unique()}\n",
    "activities_green = {x:0 for x in dataframe.Name.unique()}\n",
    "activities_blue = {x:0 for x in dataframe.Name.unique()}\n",
    "activities_white = {x:0 for x in dataframe.Name.unique()}"
   ]
  },
  {
   "cell_type": "code",
   "execution_count": 203,
   "id": "d888e3ee",
   "metadata": {},
   "outputs": [],
   "source": [
    "activities_blue = {x:0 for x in dataframe.Name.unique()}\n",
    "activities_white = {x:0 for x in dataframe.Name.unique()}"
   ]
  },
  {
   "cell_type": "code",
   "execution_count": 118,
   "id": "d7d91c0d",
   "metadata": {},
   "outputs": [
    {
     "name": "stdout",
     "output_type": "stream",
     "text": [
      "EMERGENCY SERVICE      571\n",
      "LABORATORY             277\n",
      "DISCHARGE              229\n",
      "VISIT                  229\n",
      "AMBULANCE TRIAGE       199\n",
      "CONSULTATION           173\n",
      "X-RAY REPORT           111\n",
      "X-RAY                  111\n",
      "TC REPORT               98\n",
      "TC                      97\n",
      "ANGIO REPORT            33\n",
      "ANGIO                   33\n",
      "BLOOD SAMPLING          30\n",
      "AUTONOMOUSLY TRIAGE     30\n",
      "OBSERVATION             18\n",
      "ECHO                     5\n",
      "Name: Name, dtype: int64\n"
     ]
    },
    {
     "data": {
      "text/plain": [
       "16"
      ]
     },
     "execution_count": 118,
     "metadata": {},
     "output_type": "execute_result"
    }
   ],
   "source": [
    "red_df = dataframe[dataframe.Triage_columns == 'RED']\n",
    "print(red_df['Name'].value_counts())\n",
    "len(red_df['Name'].value_counts())\n"
   ]
  },
  {
   "cell_type": "code",
   "execution_count": 188,
   "id": "1f59dcab",
   "metadata": {},
   "outputs": [
    {
     "data": {
      "text/plain": [
       "11457"
      ]
     },
     "execution_count": 188,
     "metadata": {},
     "output_type": "execute_result"
    }
   ],
   "source": [
    "len(dataframe.Case.unique())"
   ]
  },
  {
   "cell_type": "code",
   "execution_count": 190,
   "id": "f921b667",
   "metadata": {
    "scrolled": true
   },
   "outputs": [
    {
     "data": {
      "text/plain": [
       "229"
      ]
     },
     "execution_count": 190,
     "metadata": {},
     "output_type": "execute_result"
    }
   ],
   "source": [
    "len(red_df.Case.unique())"
   ]
  },
  {
   "cell_type": "code",
   "execution_count": 192,
   "id": "31012fdd",
   "metadata": {},
   "outputs": [
    {
     "data": {
      "text/plain": [
       "229"
      ]
     },
     "execution_count": 192,
     "metadata": {},
     "output_type": "execute_result"
    }
   ],
   "source": [
    "len(red_log)"
   ]
  },
  {
   "cell_type": "code",
   "execution_count": 198,
   "id": "ef532665",
   "metadata": {},
   "outputs": [
    {
     "data": {
      "text/plain": [
       "{'AUTONOMOUSLY TRIAGE': 51.11,\n",
       " 'VISIT': 100.0,\n",
       " 'DISCHARGE': 100.0,\n",
       " 'EMERGENCY SERVICE': 59.58,\n",
       " 'LABORATORY': 77.28,\n",
       " 'CONSULTATION': 43.32,\n",
       " 'X-RAY': 47.57,\n",
       " 'X-RAY REPORT': 47.57,\n",
       " 'AMBULANCE TRIAGE': 48.89,\n",
       " 'TC': 19.94,\n",
       " 'TC REPORT': 19.94,\n",
       " 'BLOOD SAMPLING': 27.84,\n",
       " 'ANGIO': 2.22,\n",
       " 'ANGIO REPORT': 2.22,\n",
       " 'OBSERVATION': 7.63,\n",
       " 'ECHO': 13.95,\n",
       " 'MRI': 0.06,\n",
       " 'MRI REPORT': 0.06}"
      ]
     },
     "execution_count": 198,
     "metadata": {},
     "output_type": "execute_result"
    }
   ],
   "source": [
    "for case in yellow_df.Case.unique():\n",
    "    for x in activities_yellow.keys():\n",
    "        if x in yellow_df[yellow_df.Case == case]['Name'].value_counts():\n",
    "            activities_yellow[x] += 1"
   ]
  },
  {
   "cell_type": "code",
   "execution_count": null,
   "id": "b3ef787c",
   "metadata": {},
   "outputs": [],
   "source": [
    "activities_yellow = {k:round((v*100/len(yellow_df.Case.unique())),2) for k,v in activities_yellow.items()}\n",
    "activities_yellow"
   ]
  },
  {
   "cell_type": "code",
   "execution_count": 195,
   "id": "c2aecceb",
   "metadata": {},
   "outputs": [
    {
     "data": {
      "text/plain": [
       "{'AUTONOMOUSLY TRIAGE': 13.1,\n",
       " 'VISIT': 100.0,\n",
       " 'DISCHARGE': 100.0,\n",
       " 'EMERGENCY SERVICE': 85.59,\n",
       " 'LABORATORY': 90.39,\n",
       " 'CONSULTATION': 52.84,\n",
       " 'X-RAY': 47.6,\n",
       " 'X-RAY REPORT': 47.6,\n",
       " 'AMBULANCE TRIAGE': 86.9,\n",
       " 'TC': 40.17,\n",
       " 'TC REPORT': 40.17,\n",
       " 'BLOOD SAMPLING': 13.1,\n",
       " 'ANGIO': 14.41,\n",
       " 'ANGIO REPORT': 14.41,\n",
       " 'OBSERVATION': 7.86,\n",
       " 'ECHO': 2.18,\n",
       " 'MRI': 0.0,\n",
       " 'MRI REPORT': 0.0}"
      ]
     },
     "execution_count": 195,
     "metadata": {},
     "output_type": "execute_result"
    }
   ],
   "source": [
    "for case in red_df.Case.unique():\n",
    "    for x in activities.keys():\n",
    "        if x in red_df[red_df.Case == case]['Name'].value_counts():\n",
    "            activities_red[x] += 1\n",
    "activities_red = {k:round((v*100/len(red_log)),2) for k,v in activities_red.items()}\n",
    "activities_red"
   ]
  },
  {
   "cell_type": "code",
   "execution_count": 204,
   "id": "0ce4d916",
   "metadata": {},
   "outputs": [
    {
     "data": {
      "text/plain": [
       "{'AUTONOMOUSLY TRIAGE': 92.67,\n",
       " 'VISIT': 100.0,\n",
       " 'DISCHARGE': 100.0,\n",
       " 'EMERGENCY SERVICE': 9.33,\n",
       " 'LABORATORY': 2.0,\n",
       " 'CONSULTATION': 45.33,\n",
       " 'X-RAY': 14.0,\n",
       " 'X-RAY REPORT': 14.0,\n",
       " 'AMBULANCE TRIAGE': 7.33,\n",
       " 'TC': 0.67,\n",
       " 'TC REPORT': 0.67,\n",
       " 'BLOOD SAMPLING': 0.0,\n",
       " 'ANGIO': 0.0,\n",
       " 'ANGIO REPORT': 0.0,\n",
       " 'OBSERVATION': 0.0,\n",
       " 'ECHO': 0.67,\n",
       " 'MRI': 0.0,\n",
       " 'MRI REPORT': 0.0}"
      ]
     },
     "execution_count": 204,
     "metadata": {},
     "output_type": "execute_result"
    }
   ],
   "source": [
    "for case in white_df.Case.unique():\n",
    "    for x in activities.keys():\n",
    "        if x in white_df[white_df.Case == case]['Name'].value_counts():\n",
    "            activities_white[x] += 1\n",
    "activities_white = {k:round((v*100/len(white_df.Case.unique())),2) for k,v in activities_white.items()}\n",
    "activities_white"
   ]
  },
  {
   "cell_type": "code",
   "execution_count": 205,
   "id": "5c9adbda",
   "metadata": {},
   "outputs": [
    {
     "data": {
      "text/plain": [
       "{'AUTONOMOUSLY TRIAGE': 91.0,\n",
       " 'VISIT': 100.0,\n",
       " 'DISCHARGE': 100.0,\n",
       " 'EMERGENCY SERVICE': 10.01,\n",
       " 'LABORATORY': 6.83,\n",
       " 'CONSULTATION': 57.41,\n",
       " 'X-RAY': 38.63,\n",
       " 'X-RAY REPORT': 38.63,\n",
       " 'AMBULANCE TRIAGE': 9.0,\n",
       " 'TC': 1.71,\n",
       " 'TC REPORT': 1.71,\n",
       " 'BLOOD SAMPLING': 0.47,\n",
       " 'ANGIO': 0.08,\n",
       " 'ANGIO REPORT': 0.08,\n",
       " 'OBSERVATION': 0.47,\n",
       " 'ECHO': 3.8,\n",
       " 'MRI': 0.0,\n",
       " 'MRI REPORT': 0.0}"
      ]
     },
     "execution_count": 205,
     "metadata": {},
     "output_type": "execute_result"
    }
   ],
   "source": [
    "for case in blue_df.Case.unique():\n",
    "    for x in activities.keys():\n",
    "        if x in blue_df[blue_df.Case == case]['Name'].value_counts():\n",
    "            activities_blue[x] += 1\n",
    "activities_green = {k:round((v*100/len(blue_df.Case.unique())),2) for k,v in activities_green.items()}\n",
    "activities_green"
   ]
  },
  {
   "cell_type": "code",
   "execution_count": 206,
   "id": "6ac0bc80",
   "metadata": {},
   "outputs": [
    {
     "data": {
      "text/plain": [
       "{'AUTONOMOUSLY TRIAGE': 78.0,\n",
       " 'VISIT': 100.0,\n",
       " 'DISCHARGE': 100.0,\n",
       " 'EMERGENCY SERVICE': 27.86,\n",
       " 'LABORATORY': 29.26,\n",
       " 'CONSULTATION': 59.58,\n",
       " 'X-RAY': 38.04,\n",
       " 'X-RAY REPORT': 38.04,\n",
       " 'AMBULANCE TRIAGE': 22.0,\n",
       " 'TC': 6.56,\n",
       " 'TC REPORT': 6.56,\n",
       " 'BLOOD SAMPLING': 5.78,\n",
       " 'ANGIO': 0.33,\n",
       " 'ANGIO REPORT': 0.33,\n",
       " 'OBSERVATION': 1.72,\n",
       " 'ECHO': 11.63,\n",
       " 'MRI': 0.05,\n",
       " 'MRI REPORT': 0.05}"
      ]
     },
     "execution_count": 206,
     "metadata": {},
     "output_type": "execute_result"
    }
   ],
   "source": [
    "for case in green_df.Case.unique():\n",
    "    for x in activities.keys():\n",
    "        if x in green_df[green_df.Case == case]['Name'].value_counts():\n",
    "            activities_green[x] += 1\n",
    "activities_green = {k:round((v*100/len(green_df.Case.unique())),2) for k,v in activities_green.items()}\n",
    "activities_green"
   ]
  },
  {
   "cell_type": "code",
   "execution_count": 120,
   "id": "91ac0935",
   "metadata": {},
   "outputs": [
    {
     "data": {
      "text/plain": [
       "0.8558951965065502"
      ]
     },
     "execution_count": 120,
     "metadata": {},
     "output_type": "execute_result"
    }
   ],
   "source": [
    "196/229"
   ]
  },
  {
   "cell_type": "code",
   "execution_count": 121,
   "id": "fbc76a3f",
   "metadata": {},
   "outputs": [
    {
     "data": {
      "text/plain": [
       "2.913265306122449"
      ]
     },
     "execution_count": 121,
     "metadata": {},
     "output_type": "execute_result"
    }
   ],
   "source": [
    "571/196"
   ]
  },
  {
   "cell_type": "code",
   "execution_count": 122,
   "id": "9d2f3073",
   "metadata": {},
   "outputs": [
    {
     "data": {
      "text/plain": [
       "1.3381642512077294"
      ]
     },
     "execution_count": 122,
     "metadata": {},
     "output_type": "execute_result"
    }
   ],
   "source": [
    "277/207"
   ]
  },
  {
   "cell_type": "code",
   "execution_count": 123,
   "id": "f18353de",
   "metadata": {},
   "outputs": [
    {
     "name": "stdout",
     "output_type": "stream",
     "text": [
      "92\n"
     ]
    },
    {
     "data": {
      "text/plain": [
       "0.4017467248908297"
      ]
     },
     "execution_count": 123,
     "metadata": {},
     "output_type": "execute_result"
    }
   ],
   "source": [
    "white_x = 0\n",
    "for case in red_df.Case.unique():\n",
    "    if 'TC' in red_df[red_df.Case == case]['Name'].value_counts():\n",
    "        white_x += 1\n",
    "print(white_x)\n",
    "white_x /= len(red_log)\n",
    "white_x"
   ]
  },
  {
   "cell_type": "code",
   "execution_count": 178,
   "id": "6a60534a",
   "metadata": {},
   "outputs": [
    {
     "data": {
      "text/plain": [
       "7.333333333333333"
      ]
     },
     "execution_count": 178,
     "metadata": {},
     "output_type": "execute_result"
    }
   ],
   "source": [
    "np.median(arrival_times)/60"
   ]
  },
  {
   "cell_type": "code",
   "execution_count": 124,
   "id": "7850cd34",
   "metadata": {},
   "outputs": [
    {
     "data": {
      "text/plain": [
       "9.799126637554584"
      ]
     },
     "execution_count": 124,
     "metadata": {},
     "output_type": "execute_result"
    }
   ],
   "source": [
    "activities = []\n",
    "for i in red_log:\n",
    "    activities.append(len(i))\n",
    "mean = np.mean(activities)\n",
    "mean"
   ]
  },
  {
   "cell_type": "code",
   "execution_count": 126,
   "id": "5038f944",
   "metadata": {},
   "outputs": [
    {
     "data": {
      "text/plain": [
       "131"
      ]
     },
     "execution_count": 126,
     "metadata": {},
     "output_type": "execute_result"
    }
   ],
   "source": [
    "red_filt = pm4py.filter_end_activities(red_log, 'DISCHARGE')\n",
    "len(red_filt)"
   ]
  },
  {
   "cell_type": "code",
   "execution_count": 151,
   "id": "77030c25",
   "metadata": {},
   "outputs": [
    {
     "data": {
      "text/plain": [
       "26.387755224301372"
      ]
     },
     "execution_count": 151,
     "metadata": {},
     "output_type": "execute_result"
    }
   ],
   "source": [
    "times = []\n",
    "for trace in filtered_log:\n",
    "    for i in range(len(trace)-1):\n",
    "        start = trace[i]['time:timestamp']\n",
    "        end = trace[i+1]['start:timestamp']\n",
    "        delta = end - start\n",
    "        delta = delta.total_seconds()\n",
    "        if delta > 0:\n",
    "            times.append(delta)\n",
    "mean = np.mean(times)\n",
    "mean/60"
   ]
  },
  {
   "cell_type": "code",
   "execution_count": 147,
   "id": "ec55d226",
   "metadata": {},
   "outputs": [
    {
     "data": {
      "text/plain": [
       "{'concept:name': 'AUTONOMOUSLY TRIAGE', 'triage color': 'BLUE', 'start:timestamp': datetime.datetime(2017, 1, 1, 0, 17, 51), 'time:timestamp': datetime.datetime(2017, 1, 1, 0, 17, 51), 'org:resource': 'autonomous', 'case:concept:name': '0'}"
      ]
     },
     "execution_count": 147,
     "metadata": {},
     "output_type": "execute_result"
    }
   ],
   "source": [
    "log[0][0]"
   ]
  },
  {
   "cell_type": "code",
   "execution_count": 129,
   "id": "5942e22f",
   "metadata": {},
   "outputs": [
    {
     "data": {
      "text/plain": [
       "{'DISCHARGE': 11457,\n",
       " 'VISIT': 11457,\n",
       " 'AUTONOMOUSLY TRIAGE': 8079,\n",
       " 'CONSULTATION': 7222,\n",
       " 'EMERGENCY SERVICE': 7196,\n",
       " 'LABORATORY': 6499,\n",
       " 'X-RAY REPORT': 4843,\n",
       " 'X-RAY': 4818,\n",
       " 'AMBULANCE TRIAGE': 3378,\n",
       " 'BLOOD SAMPLING': 1339,\n",
       " 'ECHO': 1281,\n",
       " 'TC REPORT': 1237,\n",
       " 'TC': 1236,\n",
       " 'OBSERVATION': 390,\n",
       " 'ANGIO': 129,\n",
       " 'ANGIO REPORT': 129,\n",
       " 'MRI REPORT': 5,\n",
       " 'MRI': 5}"
      ]
     },
     "execution_count": 129,
     "metadata": {},
     "output_type": "execute_result"
    }
   ],
   "source": [
    "dict(dataframe.Name.value_counts())"
   ]
  },
  {
   "cell_type": "code",
   "execution_count": 141,
   "id": "7e1556c2",
   "metadata": {},
   "outputs": [],
   "source": [
    "a = {k:round((v*10000/11457),0) for k,v in dict(dataframe.Name.value_counts()).items()}"
   ]
  },
  {
   "cell_type": "code",
   "execution_count": 142,
   "id": "e1662a0c",
   "metadata": {},
   "outputs": [
    {
     "data": {
      "text/plain": [
       "{'DISCHARGE': 10000.0,\n",
       " 'VISIT': 10000.0,\n",
       " 'AUTONOMOUSLY TRIAGE': 7052.0,\n",
       " 'CONSULTATION': 6304.0,\n",
       " 'EMERGENCY SERVICE': 6281.0,\n",
       " 'LABORATORY': 5673.0,\n",
       " 'X-RAY REPORT': 4227.0,\n",
       " 'X-RAY': 4205.0,\n",
       " 'AMBULANCE TRIAGE': 2948.0,\n",
       " 'BLOOD SAMPLING': 1169.0,\n",
       " 'ECHO': 1118.0,\n",
       " 'TC REPORT': 1080.0,\n",
       " 'TC': 1079.0,\n",
       " 'OBSERVATION': 340.0,\n",
       " 'ANGIO': 113.0,\n",
       " 'ANGIO REPORT': 113.0,\n",
       " 'MRI REPORT': 4.0,\n",
       " 'MRI': 4.0}"
      ]
     },
     "execution_count": 142,
     "metadata": {},
     "output_type": "execute_result"
    }
   ],
   "source": [
    "a"
   ]
  },
  {
   "cell_type": "code",
   "execution_count": 155,
   "id": "1257ba70",
   "metadata": {},
   "outputs": [],
   "source": [
    "Cases = 10000\n",
    "minutes = 12"
   ]
  },
  {
   "cell_type": "code",
   "execution_count": 169,
   "id": "dbc867fa",
   "metadata": {},
   "outputs": [
    {
     "data": {
      "text/plain": [
       "2000.0"
      ]
     },
     "execution_count": 169,
     "metadata": {},
     "output_type": "execute_result"
    }
   ],
   "source": [
    "(Cases * minutes)/60"
   ]
  },
  {
   "cell_type": "code",
   "execution_count": 160,
   "id": "09c4c8c9",
   "metadata": {},
   "outputs": [
    {
     "data": {
      "text/plain": [
       "6.944444444444444"
      ]
     },
     "execution_count": 160,
     "metadata": {},
     "output_type": "execute_result"
    }
   ],
   "source": [
    "10000/60/24"
   ]
  },
  {
   "cell_type": "code",
   "execution_count": 176,
   "id": "c268a6e4",
   "metadata": {},
   "outputs": [
    {
     "data": {
      "text/plain": [
       "822.8649451425266"
      ]
     },
     "execution_count": 176,
     "metadata": {},
     "output_type": "execute_result"
    }
   ],
   "source": [
    "import numpy.random as random\n",
    "\n",
    "sum(random.exponential(scale=1/12, size=10000))"
   ]
  },
  {
   "cell_type": "code",
   "execution_count": 179,
   "id": "4ad65569",
   "metadata": {},
   "outputs": [
    {
     "data": {
      "text/plain": [
       "12.280001745810056"
      ]
     },
     "execution_count": 179,
     "metadata": {},
     "output_type": "execute_result"
    }
   ],
   "source": [
    "np.mean(arrival_times)/60"
   ]
  },
  {
   "cell_type": "code",
   "execution_count": 29,
   "id": "32d4a29a",
   "metadata": {},
   "outputs": [],
   "source": [
    "total_perc = {x:0 for x in activities}"
   ]
  },
  {
   "cell_type": "code",
   "execution_count": 30,
   "id": "a67d672c",
   "metadata": {},
   "outputs": [
    {
     "data": {
      "text/plain": [
       "{'VISIT': 11457,\n",
       " 'DISCHARGE': 11457,\n",
       " 'EMERGENCY SERVICE': 4126,\n",
       " 'LABORATORY': 4766,\n",
       " 'CONSULTATION': 6218,\n",
       " 'X-RAY': 4670,\n",
       " 'X-RAY REPORT': 4670,\n",
       " 'TC': 1204,\n",
       " 'TC REPORT': 1204,\n",
       " 'BLOOD SAMPLING': 1339,\n",
       " 'ANGIO': 129,\n",
       " 'ANGIO REPORT': 129,\n",
       " 'OBSERVATION': 390,\n",
       " 'ECHO': 1271,\n",
       " 'MRI': 5,\n",
       " 'MRI REPORT': 5}"
      ]
     },
     "execution_count": 30,
     "metadata": {},
     "output_type": "execute_result"
    }
   ],
   "source": [
    "for trace in filtered_log:\n",
    "    temp = []\n",
    "    for event in trace:\n",
    "        temp.append(event['concept:name'])\n",
    "    for activity in activities:\n",
    "        if activity in temp:\n",
    "            total_perc[activity] += 1\n",
    "total_perc"
   ]
  },
  {
   "cell_type": "code",
   "execution_count": 31,
   "id": "bb036fa6",
   "metadata": {},
   "outputs": [],
   "source": [
    "total_perc = {k:round((v*100/len(filtered_log)),2) for k,v in total_perc.items()}"
   ]
  },
  {
   "cell_type": "code",
   "execution_count": 32,
   "id": "51481320",
   "metadata": {},
   "outputs": [
    {
     "data": {
      "text/plain": [
       "{'VISIT': 100.0,\n",
       " 'DISCHARGE': 100.0,\n",
       " 'EMERGENCY SERVICE': 36.01,\n",
       " 'LABORATORY': 41.6,\n",
       " 'CONSULTATION': 54.27,\n",
       " 'X-RAY': 40.76,\n",
       " 'X-RAY REPORT': 40.76,\n",
       " 'TC': 10.51,\n",
       " 'TC REPORT': 10.51,\n",
       " 'BLOOD SAMPLING': 11.69,\n",
       " 'ANGIO': 1.13,\n",
       " 'ANGIO REPORT': 1.13,\n",
       " 'OBSERVATION': 3.4,\n",
       " 'ECHO': 11.09,\n",
       " 'MRI': 0.04,\n",
       " 'MRI REPORT': 0.04}"
      ]
     },
     "execution_count": 32,
     "metadata": {},
     "output_type": "execute_result"
    }
   ],
   "source": [
    "total_perc"
   ]
  },
  {
   "cell_type": "code",
   "execution_count": 33,
   "id": "25dead07",
   "metadata": {},
   "outputs": [
    {
     "data": {
      "text/plain": [
       "11457"
      ]
     },
     "execution_count": 33,
     "metadata": {},
     "output_type": "execute_result"
    }
   ],
   "source": [
    "len(dataframe.Case.unique())"
   ]
  },
  {
   "cell_type": "code",
   "execution_count": 34,
   "id": "bab65a5a",
   "metadata": {},
   "outputs": [
    {
     "data": {
      "text/plain": [
       "VISIT                  11457\n",
       "DISCHARGE              11457\n",
       "AUTONOMOUSLY TRIAGE     8079\n",
       "CONSULTATION            7222\n",
       "EMERGENCY SERVICE       7196\n",
       "LABORATORY              6499\n",
       "X-RAY REPORT            4843\n",
       "X-RAY                   4818\n",
       "AMBULANCE TRIAGE        3378\n",
       "BLOOD SAMPLING          1339\n",
       "ECHO                    1281\n",
       "TC REPORT               1237\n",
       "TC                      1236\n",
       "OBSERVATION              390\n",
       "ANGIO REPORT             129\n",
       "ANGIO                    129\n",
       "MRI REPORT                 5\n",
       "MRI                        5\n",
       "Name: Name, dtype: int64"
      ]
     },
     "execution_count": 34,
     "metadata": {},
     "output_type": "execute_result"
    }
   ],
   "source": [
    "dataframe.Name.value_counts()"
   ]
  },
  {
   "cell_type": "code",
   "execution_count": 35,
   "id": "1866fdd1",
   "metadata": {},
   "outputs": [
    {
     "data": {
      "text/plain": [
       "0.7051584184341451"
      ]
     },
     "execution_count": 35,
     "metadata": {},
     "output_type": "execute_result"
    }
   ],
   "source": [
    "8079/11457"
   ]
  },
  {
   "cell_type": "code",
   "execution_count": null,
   "id": "3cc04e2f",
   "metadata": {},
   "outputs": [],
   "source": []
  }
 ],
 "metadata": {
  "kernelspec": {
   "display_name": "Python 3 (ipykernel)",
   "language": "python",
   "name": "python3"
  },
  "language_info": {
   "codemirror_mode": {
    "name": "ipython",
    "version": 3
   },
   "file_extension": ".py",
   "mimetype": "text/x-python",
   "name": "python",
   "nbconvert_exporter": "python",
   "pygments_lexer": "ipython3",
   "version": "3.11.1"
  }
 },
 "nbformat": 4,
 "nbformat_minor": 5
}
